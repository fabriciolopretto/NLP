{
 "cells": [
  {
   "cell_type": "markdown",
   "metadata": {
    "id": "Iv5PEwGzZA9-"
   },
   "source": [
    "Materia: NLP - B52024\n",
    "\n",
    "Desafío Nº3 - Notebook con arquetictura LSTM\n",
    "\n",
    "Alumno: Fabricio Lopretto (a1616)\n"
   ]
  },
  {
   "cell_type": "markdown",
   "metadata": {},
   "source": [
    "### Objetivo\n",
    "\n",
    "- Seleccionar un corpus de texto sobre el cual entrenar el modelo de lenguaje.\n",
    "- Realizar el pre-procesamiento adecuado para tokenizar el corpus, estructurar el dataset y separar entre datos de entrenamiento y validación.\n",
    "- Proponer arquitecturas de redes neuronales basadas en unidades recurrentes para implementar un modelo de lenguaje.\n",
    "- Con el o los modelos que consideren adecuados, generar nuevas secuencias a partir de secuencias de contexto con las estrategias de greedy search y beam search determístico y estocástico. En este último caso observar el efecto de la temperatura en la generación de secuencias.\n",
    "\n",
    "\n",
    "### Sugerencias\n",
    "\n",
    "- Durante el entrenamiento, guiarse por el descenso de la perplejidad en los datos de validación para finalizar el entrenamiento. Para ello se provee un callback.\n",
    "- Explorar utilizar SimpleRNN (celda de Elman), LSTM y GRU.\n",
    "- rmsprop es el optimizador recomendado para la buena convergencia. No obstante se pueden explorar otros."
   ]
  },
  {
   "cell_type": "markdown",
   "metadata": {},
   "source": [
    "### Resolviendo:"
   ]
  },
  {
   "cell_type": "code",
   "execution_count": null,
   "metadata": {
    "id": "Y-QdFbHZYj7C"
   },
   "outputs": [],
   "source": [
    "# Importa las librerías necesarias\n",
    "import random\n",
    "import io\n",
    "import pickle\n",
    "import os\n",
    "\n",
    "import numpy as np\n",
    "import pandas as pd\n",
    "import matplotlib.pyplot as plt\n",
    "import seaborn as sns\n",
    "from sklearn.model_selection import train_test_split\n",
    "\n",
    "from tensorflow import keras\n",
    "from tensorflow.keras import layers\n",
    "from keras.utils import to_categorical\n",
    "from keras.models import Sequential\n",
    "from keras.layers import Dense, LSTM, Embedding, Dropout\n",
    "from tensorflow.keras.losses import SparseCategoricalCrossentropy\n",
    "\n",
    "from tensorflow.keras.preprocessing.text import Tokenizer\n",
    "from tensorflow.keras.preprocessing.text import text_to_word_sequence\n",
    "from tensorflow.keras.utils import pad_sequences"
   ]
  },
  {
   "cell_type": "markdown",
   "metadata": {
    "id": "xTvXlEKQZdqx"
   },
   "source": [
    "### Datos\n",
    "Como ejemplo se utilizará como corpus un dataset de cuentos de habla inglés. En particular, como corpus, se selecciona uno de los cuentos."
   ]
  },
  {
   "cell_type": "code",
   "execution_count": 130,
   "metadata": {
    "id": "IkdPfrQJZdB5"
   },
   "outputs": [],
   "source": [
    "# Define la ruta al archivo de datos\n",
    "ruta_notebook = os.getcwd()\n",
    "\n",
    "# Ruta a un cuento en particular como corpus\n",
    "ruta_archivo = ruta_notebook + '/datasets/THE SHADOW.txt'"
   ]
  },
  {
   "cell_type": "code",
   "execution_count": 131,
   "metadata": {
    "id": "Gb39v3PaZmRH"
   },
   "outputs": [
    {
     "data": {
      "text/html": [
       "<div>\n",
       "<style scoped>\n",
       "    .dataframe tbody tr th:only-of-type {\n",
       "        vertical-align: middle;\n",
       "    }\n",
       "\n",
       "    .dataframe tbody tr th {\n",
       "        vertical-align: top;\n",
       "    }\n",
       "\n",
       "    .dataframe thead th {\n",
       "        text-align: right;\n",
       "    }\n",
       "</style>\n",
       "<table border=\"1\" class=\"dataframe\">\n",
       "  <thead>\n",
       "    <tr style=\"text-align: right;\">\n",
       "      <th></th>\n",
       "      <th>documento</th>\n",
       "    </tr>\n",
       "  </thead>\n",
       "  <tbody>\n",
       "    <tr>\n",
       "      <th>0</th>\n",
       "      <td>It is in the hot lands that the sun burns, sur...</td>\n",
       "    </tr>\n",
       "    <tr>\n",
       "      <th>1</th>\n",
       "      <td>But now it was only to the HOT lands that a le...</td>\n",
       "    </tr>\n",
       "    <tr>\n",
       "      <th>2</th>\n",
       "      <td>He, and all sensible folks, were obliged to st...</td>\n",
       "    </tr>\n",
       "    <tr>\n",
       "      <th>3</th>\n",
       "      <td>The narrow street with the high houses, was bu...</td>\n",
       "    </tr>\n",
       "    <tr>\n",
       "      <th>4</th>\n",
       "      <td>The learned man from the cold lands he was a y...</td>\n",
       "    </tr>\n",
       "  </tbody>\n",
       "</table>\n",
       "</div>"
      ],
      "text/plain": [
       "                                           documento\n",
       "0  It is in the hot lands that the sun burns, sur...\n",
       "1  But now it was only to the HOT lands that a le...\n",
       "2  He, and all sensible folks, were obliged to st...\n",
       "3  The narrow street with the high houses, was bu...\n",
       "4  The learned man from the cold lands he was a y..."
      ]
     },
     "execution_count": 131,
     "metadata": {},
     "output_type": "execute_result"
    }
   ],
   "source": [
    "# Lee el archivo completo como una cadena de texto\n",
    "with open(ruta_archivo, 'r', encoding='utf-8') as file:\n",
    "    texto = file.read()\n",
    "\n",
    "# Divide el texto en oraciones usando el punto como delimitador\n",
    "oraciones = texto.split('.')\n",
    "\n",
    "# Crea un DataFrame con cada oración como un documento\n",
    "df = pd.DataFrame(oraciones, columns=['documento'])\n",
    "\n",
    "# Elimina posibles filas vacías que puedan haber quedado al dividir\n",
    "df = df[df['documento'].str.strip() != '']\n",
    "\n",
    "# Elimina saltos de línea al principio y al final de cada oración\n",
    "df['documento'] = df['documento'].str.strip()\n",
    "\n",
    "# Muestra el DataFrame\n",
    "df.head()"
   ]
  },
  {
   "cell_type": "markdown",
   "metadata": {
    "id": "VeMpWpiyG5Ya"
   },
   "source": [
    "Consideraremos que cada secuencia para este dataset es una oración del cuento.\n",
    "\n",
    "Una de las primeras decisiones que hay que tomar es el tamaño de contexto de tokens máximo que puede consumir el modelo. Este podría ser un hiperparámetro del problema.\n",
    "\n",
    "Para elegir el tamaño de contexto máximo para este problema se puede explorar el dataset, para ello:\n",
    "- se consideran las palabras como términos.\n",
    "- se segmentará el texto de todos los versos del dataset y ses explorará la cantidad de términos presentes.\n",
    "\n"
   ]
  },
  {
   "cell_type": "code",
   "execution_count": 132,
   "metadata": {
    "id": "riT898QlZnmF"
   },
   "outputs": [
    {
     "name": "stdout",
     "output_type": "stream",
     "text": [
      "Cantidad de documentos: 212\n"
     ]
    }
   ],
   "source": [
    "print(\"Cantidad de documentos:\", df.shape[0])"
   ]
  },
  {
   "cell_type": "markdown",
   "metadata": {
    "id": "cP1JdiOIKQWi"
   },
   "source": [
    "### Elegir el tamaño del contexto"
   ]
  },
  {
   "cell_type": "code",
   "execution_count": 133,
   "metadata": {},
   "outputs": [
    {
     "name": "stdout",
     "output_type": "stream",
     "text": [
      "['It is in the hot lands that the sun burns, sure enough! there the people become quite a mahogany brown, ay, and in the HOTTEST lands they are burnt to Negroes', 'But now it was only to the HOT lands that a learned man had come from the cold; there he thought that he could run about just as when at home, but he soon found out his mistake', 'He, and all sensible folks, were obliged to stay within doors the window-shutters and doors were closed the whole day; it looked as if the whole house slept, or there was no one at home', 'The narrow street with the high houses, was built so that the sunshine must fall there from morning till evening it was really not to be borne', 'The learned man from the cold lands he was a young man, and seemed to be a clever man sat in a glowing oven; it took effect on him, he became quite meagre even his shadow shrunk in, for the sun had also an effect on it', 'It was first towards evening when the sun was down, that they began to freshen up again', 'In the warm lands every window has a balcony, and the people came out on all the balconies in the street for one must have air, even if one be accustomed to be mahogany!* It was lively both up and down the street', 'Tailors, and shoemakers, and all the folks, moved out into the street chairs and tables were brought forth and candles burnt yes, above a thousand lights were burning and the one talked and the other sung; and people walked and church-bells rang, and asses went along with a dingle-dingle-dong! for they too had bells on', 'The street boys were screaming and hooting, and shouting and shooting, with devils and detonating balls and there came corpse bearers and hood wearers for there were funerals with psalm and hymn and then the din of carriages driving and company arriving: yes, it was, in truth, lively enough down in the street', \"Only in that single house, which stood opposite that in which the learned foreigner lived, it was quite still; and yet some one lived there, for there stood flowers in the balcony they grew so well in the sun's heat! and that they could not do unless they were watered and some one must water them there must be somebody there\", 'The door opposite was also opened late in the evening, but it was dark within, at least in the front room; further in there was heard the sound of music', 'The learned foreigner thought it quite marvellous, but now it might be that he only imagined it for he found everything marvellous out there, in the warm lands, if there had only been no sun', \"The stranger's landlord said that he didn't know who had taken the house opposite, one saw no person about, and as to the music, it appeared to him to be extremely tiresome\", '“It is as if some one sat there, and practised a piece that he could not master always the same piece', \"'I shall master it!' says he; but yet he cannot master it, however long he plays\", '”\\n* The word mahogany can be understood, in Danish, as having two meanings', \"In general, it means the reddish-brown wood itself; but in jest, it signifies “excessively fine,” which arose from an anecdote of Nyboder, in Copenhagen, (the seamen's quarter\", \") A sailor's wife, who was always proud and fine, in her way, came to her neighbor, and complained that she had got a splinter in her finger\", \"“What of?” asked the neighbor's wife\", '“It is a mahogany splinter,” said the other', '“Mahogany!\\nIt cannot be less with you!” exclaimed the woman and thence the proverb, “It is so mahogany!” (that is, so excessively fine) is derived', \"One night the stranger awoke he slept with the doors of the balcony open the curtain before it was raised by the wind, and he thought that a strange lustre came from the opposite neighbor's house; all the flowers shone like flames, in the most beautiful colors, and in the midst of the flowers stood a slender, graceful maiden it was as if she also shone; the light really hurt his eyes\", 'He now opened them quite wide yes, he was quite awake; with one spring he was on the floor; he crept gently behind the curtain, but the maiden was gone; the flowers shone no longer, but there they stood, fresh and blooming as ever; the door was ajar, and, far within, the music sounded so soft and delightful, one could really melt away in sweet thoughts from it', 'Yet it was like a piece of enchantment', 'And who lived there? Where was the actual entrance? The whole of the ground-floor was a row of shops, and there people could not always be running through', 'One evening the stranger sat out on the balcony', \"The light burnt in the room behind him; and thus it was quite natural that his shadow should fall on his opposite neighbor's wall\", 'Yes! there it sat, directly opposite, between the flowers on the balcony; and when the stranger moved, the shadow also moved: for that it always does', '“I think my shadow is the only living thing one sees over there,” said the learned man', '“See, how nicely it sits between the flowers', 'The door stands half-open: now the shadow should be cunning, and go into the room, look about, and then come and tell me what it had seen', 'Come, now!\\nBe useful, and do me a service,” said he, in jest', '“Have the kindness to step in', 'Now! Art thou going?” and then he nodded to the shadow, and the shadow nodded again', \"“Well then, go! But don't stay away\", \"”\\nThe stranger rose, and his shadow on the opposite neighbor's balcony rose also; the stranger turned round and the shadow also turned round\", 'Yes! if anyone had paid particular attention to it, they would have seen, quite distinctly, that the shadow went in through the half-open balcony-door of their opposite neighbor, just as the stranger went into his own room, and let the long curtain fall down after him', 'Next morning, the learned man went out to drink coffee and read the newspapers', '“What is that?” said he, as he came out into the sunshine', '“I have no shadow! So then, it has actually gone last night, and not come again', 'It is really tiresome!”\\nThis annoyed him: not so much because the shadow was gone, but because he knew there was a story about a man without a shadow', '* It was known to everybody at home, in the cold lands; and if the learned man now came there and told his story, they would say that he was imitating it, and that he had no need to do', 'He would, therefore, not talk about it at all; and that was wisely thought', '*Peter Schlemihl, the shadowless man', 'In the evening he went out again on the balcony', 'He had placed the light directly behind him, for he knew that the shadow would always have its master for a screen, but he could not entice it', 'He made himself little; he made himself great: but no shadow came again', 'He said, “Hem! hem!”\\n but it was of no use', 'It was vexatious; but in the warm lands everything grows so quickly; and after the lapse of eight days he observed, to his great joy, that a new shadow came in the sunshine', 'In the course of three weeks he had a very fair shadow, which, when he set out for his home in the northern lands, grew more and more in the journey, so that at last it was so long and so large, that it was more than sufficient', 'The learned man then came home, and he wrote books about what was true in the world, and about what was good and what was beautiful; and there passed days and years yes! many years passed away', 'One evening, as he was sitting in his room, there was a gentle knocking at the door', '“Come in!” said he; but no one came in; so he opened the door, and there stood before him such an extremely lean man, that he felt quite strange', 'As to the rest, the man was very finely dressed he must be a gentleman', '“Whom have I the honor of speaking?” asked the learned man', '“Yes! I thought as much,” said the fine man', '“I thought you would not know me', 'I have got so much body', 'I have even got flesh and clothes', 'You certainly never thought of seeing me so well off', 'Do you not know your old shadow? You certainly thought I should never more return', 'Things have gone on well with me since I was last with you', 'I have, in all respects, become very well off', 'Shall I purchase my freedom from service? If so, I can do it”; and then he rattled a whole bunch of valuable seals that hung to his watch, and he stuck his hand in the thick gold chain he wore around his neck nay! how all his fingers glittered with diamond rings; and then all were pure gems', '“Nay; I cannot recover from my surprise!” said the learned man', '“What is the meaning of all this?”\\n“Something common, is it not,” said the shadow', '“But you yourself do not belong to the common order; and I, as you know well, have from a child followed in your footsteps', 'As soon as you found I was capable to go out alone in the world, I went my own way', 'I am in the most brilliant circumstances, but there came a sort of desire over me to see you once more before you die; you will die, I suppose? I also wished to see this land again for you know we always love our native land', 'I know you have got another shadow again; have I anything to pay to it or you? If so, you will oblige me by saying what it is', '”\\n“Nay, is it really thou?” said the learned man', \"“It is most remarkable:\\nI never imagined that one's old shadow could come again as a man\", \"”\\n“Tell me what I have to pay,” said the shadow; “for I don't like to be in any sort of debt\", '”\\n“How canst thou talk so?” said the learned man', '“What debt is there to talk about? Make thyself as free as anyone else', \"I am extremely glad to hear of thy good fortune: sit down, old friend, and tell me a little how it has gone with thee, and what thou hast seen at our opposite neighbor's there in the warm lands\", '”\\n“Yes, I will tell you all about it,” said the shadow, and sat down: “but then you must also promise me, that, wherever you may meet me, you will never say to anyone here in the town that I have been your shadow', 'I intend to get betrothed, for I can provide for more than one family', \"”\\n“Be quite at thy ease about that,” said the learned man; “I shall not say to anyone who thou actually art: here is my hand I promise it, and a man's bond is his word\", '”\\n“A word is a shadow,” said the shadow, “and as such it must speak', '”\\nIt was really quite astonishing how much of a man it was', 'It was dressed entirely in black, and of the very finest cloth; it had patent leather boots, and a hat that could be folded together, so that it was bare crown and brim; not to speak of what we already know it had seals, gold neck-chain, and diamond rings; yes, the shadow was well-dressed, and it was just that which made it quite a man', \"“Now I shall tell you my adventures,” said the shadow; and then he sat, with the polished boots, as heavily as he could, on the arm of the learned man's new shadow, which lay like a poodle-dog at his feet\", 'Now this was perhaps from arrogance; and the shadow on the ground kept itself so still and quiet, that it might hear all that passed: it wished to know how it could get free, and work its way up, so as to become its own master', \"“Do you know who lived in our opposite neighbor's house?” said the shadow\", '“It was the most charming of all beings, it was Poesy! I was there for three weeks, and that has as much effect as if one had lived three thousand years, and read all that was composed and written; that is what I say, and it is right', 'I have seen everything and I know everything!”\\n“Poesy!” cried the learned man', '“Yes, yes, she often dwells a recluse in large cities! Poesy! Yes, I have seen her a single short moment, but sleep came into my eyes! She stood on the balcony and shone as the Aurora Borealis shines', 'Go on, go on thou wert on the balcony, and went through the doorway, and then ”\\n“Then I was in the antechamber,” said the shadow', '“You always sat and looked over to the antechamber', 'There was no light; there was a sort of twilight, but the one door stood open directly opposite the other through a long row of rooms and saloons, and there it was lighted up', 'I should have been completely killed if I had gone over to the maiden; but I was circumspect, I took time to think, and that one must always do', '”\\n“And what didst thou then see?” asked the learned man', '“I saw everything, and I shall tell all to you: but it is no pride on my part as a free man, and with the knowledge I have, not to speak of my position in life, my excellent circumstances I certainly wish that you would say YOU* to me!”\\n* It is the custom in Denmark for intimate acquaintances to use the second person singular, “Du,” (thou) when speaking to each other', 'When a friendship is formed between men, they generally affirm it, when occasion offers, either in public or private, by drinking to each other and exclaiming, “thy health,” at the same time striking their glasses together', 'This is called drinking “Duus”: they are then, “Duus Brodre,”\\n (thou brothers) and ever afterwards use the pronoun “thou,” to each other, it being regarded as more familiar than “De,” (you)', 'Father and mother, sister and brother say thou to one another without regard to age or rank', 'Master and mistress say thou to their servants the superior to the inferior', 'But servants and inferiors do not use the same term to their masters, or superiors nor is it ever used when speaking to a stranger, or anyone with whom they are but slightly acquainted they then say as in English you', '“I beg your pardon,” said the learned man; “it is an old habit with me', 'YOU are perfectly right, and I shall remember it; but now you must tell me all YOU saw!”\\n“Everything!” said the shadow', '“For I saw everything, and I know everything!”\\n“How did it look in the furthest saloon?” asked the learned man', '“Was it there as in the fresh woods? Was it there as in a holy church? Were the saloons like the starlit firmament when we stand on the high mountains?”\\n“Everything was there!” said the shadow', '“I did not go quite in, I remained in the foremost room, in the twilight, but I stood there quite well; I saw everything, and I know everything! I have been in the antechamber at the court of Poesy', '”\\n“But WHAT DID you see? Did all the gods of the olden times pass through the large saloons? Did the old heroes combat there? Did sweet children play there, and relate their dreams?”\\n“I tell you I was there, and you can conceive that I saw everything there was to be seen', 'Had you come over there, you would not have been a man; but I became so! And besides, I learned to know my inward nature, my innate qualities, the relationship I had with Poesy', 'At the time I was with you, I thought not of that, but always you know it well when the sun rose, and when the sun went down, I became so strangely great; in the moonlight I was very near being more distinct than yourself; at that time I did not understand my nature; it was revealed to me in the antechamber! I became a man! I came out matured; but you were no longer in the warm lands; as a man I was ashamed to go as I did', 'I was in want of boots, of clothes, of the whole human varnish that makes a man perceptible', \"I took my way I tell it to you, but you will not put it in any book I took my way to the cake woman I hid myself behind her; the woman didn't think how much she concealed\", 'I went out first in the evening; I ran about the streets in the moonlight; I made myself long up the walls it tickles the back so delightfully! I ran up, and ran down, peeped into the highest windows, into the saloons, and on the roofs, I peeped in where no one could peep, and I saw what no one else saw, what no one else should see! This is, in fact, a base world! I would not be a man if it were not now once accepted and regarded as something to be so!\\nI saw the most unimaginable things with the women, with the men, with parents, and with the sweet, matchless children; I saw,” said the shadow, “what no human being must know, but what they would all so willingly know what is bad in their neighbor', 'Had I written a newspaper, it would have been read! But I wrote direct to the persons themselves, and there was consternation in all the towns where I came', 'They were so afraid of me, and yet they were so excessively fond of me', 'The professors made a professor of me; the tailors gave me new clothes I am well furnished; the master of the mint struck new coin for me, and the women said I was so handsome! And so I became the man I am', 'And I now bid you farewell', 'Here is my card I live on the sunny side of the street, and am always at home in rainy weather!” And so away went the shadow', '“That was most extraordinary!” said the learned man', 'Years and days passed away, then the shadow came again', '“How goes it?” said the shadow', '“Alas!” said the learned man', \"“I write about the true, and the good, and the beautiful, but no one cares to hear such things; I am quite desperate, for I take it so much to heart!”\\n“But I don't!” said the shadow\", '“I become fat, and it is that one wants to become! You do not understand the world', 'You will become ill by it', 'You must travel! I shall make a tour this summer; will you go with me?\\nI should like to have a travelling companion! Will you go with me, as shadow? It will be a great pleasure for me to have you with me; I shall pay the travelling expenses!”\\n“Nay, this is too much!” said the learned man', '“It is just as one takes it!” said the shadow', '“It will do you much good to travel! Will you be my shadow? You shall have everything free on the journey!”\\n“Nay, that is too bad!” said the learned man', '“But it is just so with the world!” said the shadow, “and so it will be!” and away it went again', 'The learned man was not at all in the most enviable state; grief and torment followed him, and what he said about the true, and the good, and the beautiful, was, to most persons, like roses for a cow! He was quite ill at last', '“You really look like a shadow!” said his friends to him; and the learned man trembled, for he thought of it', '“You must go to a watering-place!” said the shadow, who came and visited him', \"“There is nothing else for it! I will take you with me for old acquaintance' sake; I will pay the travelling expenses, and you write the descriptions and if they are a little amusing for me on the way!\\nI will go to a watering-place my beard does not grow out as it ought that is also a sickness and one must have a beard! Now you be wise and accept the offer; we shall travel as comrades!”\\nAnd so they travelled; the shadow was master, and the master was the shadow; they drove with each other, they rode and walked together, side by side, before and behind, just as the sun was; the shadow always took care to keep itself in the master's place\", \"Now the learned man didn't think much about that; he was a very kind-hearted man, and particularly mild and friendly, and so he said one day to the shadow: “As we have now become companions, and in this way have grown up together from childhood, shall we not drink 'thou' together, it is more familiar?”\\n“You are right,” said the shadow, who was now the proper master\", '“It is said in a very straight-forward and well-meant manner', 'You, as a learned man, certainly know how strange nature is', 'Some persons cannot bear to touch grey paper, or they become ill; others shiver in every limb if one rub a pane of glass with a nail: I have just such a feeling on hearing you say thou to me; I feel myself as if pressed to the earth in my first situation with you', 'You see that it is a feeling; that it is not pride:\\nI cannot allow you to say THOU to me, but I will willingly say THOU to you, so it is half done!”\\nSo the shadow said THOU to its former master', '“This is rather too bad,” thought he, “that I must say YOU and he say THOU,” but he was now obliged to put up with it', 'So they came to a watering-place where there were many strangers, and amongst them was a princess, who was troubled with seeing too well; and that was so alarming!\\nShe directly observed that the stranger who had just come was quite a different sort of person to all the others; “He has come here in order to get his beard to grow, they say, but I see the real cause, he cannot cast a shadow', '”\\nShe had become inquisitive; and so she entered into conversation directly with the strange gentleman, on their promenades', 'As the daughter of a king, she needed not to stand upon trifles, so she said, “Your complaint is, that you cannot cast a shadow?”\\n“Your Royal Highness must be improving considerably,” said the shadow, “I know your complaint is, that you see too clearly, but it has decreased, you are cured', 'I just happen to have a very unusual shadow!\\nDo you not see that person who always goes with me? Other persons have a common shadow, but I do not like what is common to all', 'We give our servants finer cloth for their livery than we ourselves use, and so I had my shadow trimmed up into a man: yes, you see I have even given him a shadow', 'It is somewhat expensive, but I like to have something for myself!”\\n“What!” thought the princess', '“Should I really be cured! These baths are the first in the world! In our time water has wonderful powers', 'But I shall not leave the place, for it now begins to be amusing here', 'I am extremely fond of that stranger: would that his beard should not grow, for in that case he will leave us!”\\nIn the evening, the princess and the shadow danced together in the large ball-room', 'She was light, but he was still lighter; she had never had such a partner in the dance', 'She told him from what land she came, and he knew that land; he had been there, but then she was not at home; he had peeped in at the window, above and below he had seen both the one and the other, and so he could answer the princess, and make insinuations, so that she was quite astonished; he must be the wisest man in the whole world! She felt such respect for what he knew! So that when they again danced together she fell in love with him; and that the shadow could remark, for she almost pierced him through with her eyes', 'So they danced once more together; and she was about to declare herself, but she was discreet; she thought of her country and kingdom, and of the many persons she would have to reign over', '“He is a wise man,” said she to herself “It is well; and he dances delightfully that is also good; but has he solid knowledge? That is just as important! He must be examined', '”\\nSo she began, by degrees, to question him about the most difficult things she could think of, and which she herself could not have answered; so that the shadow made a strange face', '“You cannot answer these questions?” said the princess', \"“They belong to my childhood's learning,” said the shadow\", '“I really believe my shadow, by the door there, can answer them!”\\n“Your shadow!” said the princess', '“That would indeed be marvellous!”\\n“I will not say for a certainty that he can,” said the shadow, “but I think so; he has now followed me for so many years, and listened to my conversation I should think it possible', 'But your royal highness will permit me to observe, that he is so proud of passing himself off for a man, that when he is to be in a proper humor and he must be so to answer well he must be treated quite like a man', '”\\n“Oh! I like that!” said the princess', 'So she went to the learned man by the door, and she spoke to him about the sun and the moon, and about persons out of and in the world, and he answered with wisdom and prudence', '“What a man that must be who has so wise a shadow!” thought she', '“It will be a real blessing to my people and kingdom if I choose him for my consort I will do it!”\\nThey were soon agreed, both the princess and the shadow; but no one was to know about it before she arrived in her own kingdom', '“No one not even my shadow!” said the shadow, and he had his own thoughts about it!\\nNow they were in the country where the princess reigned when she was at home', '“Listen, my good friend,” said the shadow to the learned man', \"“I have now become as happy and mighty as anyone can be; I will, therefore, do something particular for thee! Thou shalt always live with me in the palace, drive with me in my royal carriage, and have ten thousand pounds a year; but then thou must submit to be called SHADOW by all and everyone; thou must not say that thou hast ever been a man; and once a year, when I sit on the balcony in the sunshine, thou must lie at my feet, as a shadow shall do! I must tell thee: I am going to marry the king's daughter, and the nuptials are to take place this evening!”\\n“Nay, this is going too far!” said the learned man\", '“I will not have it; I will not do it! It is to deceive the whole country and the princess too! I will tell everything! That I am a man, and that thou art a shadow thou art only dressed up!”\\n“There is no one who will believe it!” said the shadow', '“Be reasonable, or I will call the guard!”\\n“I will go directly to the princess!” said the learned man', '“But I will go first!” said the shadow', \"“And thou wilt go to prison!”\\n and that he was obliged to do for the sentinels obeyed him whom they knew the king's daughter was to marry\", '“You tremble!” said the princess, as the shadow came into her chamber', '“Has anything happened? You must not be unwell this evening, now that we are to have our nuptials celebrated', '”\\n“I have lived to see the most cruel thing that anyone can live to see!” said the shadow', '“Only imagine yes, it is true, such a poor shadow-skull cannot bear much only think, my shadow has become mad; he thinks that he is a man, and that I now only think that I am his shadow!”\\n“It is terrible!” said the princess; “but he is confined, is he not?”\\n“That he is', 'I am afraid that he will never recover', '”\\n“Poor shadow!” said the princess', '“He is very unfortunate; it would be a real work of charity to deliver him from the little life he has, and, when I think properly over the matter, I am of opinion that it will be necessary to do away with him in all stillness!”\\n“It is certainly hard,” said the shadow, “for he was a faithful servant!” and then he gave a sort of sigh', '“You are a noble character!” said the princess', 'The whole city was illuminated in the evening, and the cannons went off with a bum! bum! and the soldiers presented arms', 'That was a marriage!\\nThe princess and the shadow went out on the balcony to show themselves, and get another hurrah!\\nThe learned man heard nothing of all this for they had deprived him of life', 'THE LITTLE MATCH GIRL \\nMost terribly cold it was; it snowed, and was nearly quite dark, and evening the last evening of the year', 'In this cold and darkness there went along the street a poor little girl, bareheaded, and with naked feet', 'When she left home she had slippers on, it is true; but what was the good of that? They were very large slippers, which her mother had hitherto worn; so large were they; and the poor little thing lost them as she scuffled away across the street, because of two carriages that rolled by dreadfully fast', 'One slipper was nowhere to be found; the other had been laid hold of by an urchin, and off he ran with it; he thought it would do capitally for a cradle when he some day or other should have children himself', 'So the little maiden walked on with her tiny naked feet, that were quite red and blue from cold', 'She carried a quantity of matches in an old apron, and she held a bundle of them in her hand', 'Nobody had bought anything of her the whole livelong day; no one had given her a single farthing', 'She crept along trembling with cold and hunger a very picture of sorrow, the poor little thing!\\nThe flakes of snow covered her long fair hair, which fell in beautiful curls around her neck; but of that, of course, she never once now thought', \"From all the windows the candles were gleaming, and it smelt so deliciously of roast goose, for you know it was New Year's Eve; yes, of that she thought\", 'In a corner formed by two houses, of which one advanced more than the other, she seated herself down and cowered together', 'Her little feet she had drawn close up to her, but she grew colder and colder, and to go home she did not venture, for she had not sold any matches and could not bring a farthing of money: from her father she would certainly get blows, and at home it was cold too, for above her she had only the roof, through which the wind whistled, even though the largest cracks were stopped up with straw and rags', 'Her little hands were almost numbed with cold', 'Oh! a match might afford her a world of comfort, if she only dared take a single one out of the bundle, draw it against the wall, and warm her fingers by it', 'She drew one out', '“Rischt!” how it blazed, how it burnt! It was a warm, bright flame, like a candle, as she held her hands over it: it was a wonderful light', 'It seemed really to the little maiden as though she were sitting before a large iron stove, with burnished brass feet and a brass ornament at top', 'The fire burned with such blessed influence; it warmed so delightfully', 'The little girl had already stretched out her feet to warm them too; but the small flame went out, the stove vanished: she had only the remains of the burnt-out match in her hand', 'She rubbed another against the wall: it burned brightly, and where the light fell on the wall, there the wall became transparent like a veil, so that she could see into the room', 'On the table was spread a snow-white tablecloth; upon it was a splendid porcelain service, and the roast goose was steaming famously with its stuffing of apple and dried plums', 'And what was still more capital to behold was, the goose hopped down from the dish, reeled about on the floor with knife and fork in its breast, till it came up to the poor little girl; when the match went out and nothing but the thick, cold, damp wall was left behind', 'She lighted another match', \"Now there she was sitting under the most magnificent Christmas tree: it was still larger, and more decorated than the one which she had seen through the glass door in the rich merchant's house\", 'Thousands of lights were burning on the green branches, and gaily-colored pictures, such as she had seen in the shop-windows, looked down upon her', 'The little maiden stretched out her hands towards them when the match went out', 'The lights of the Christmas tree rose higher and higher, she saw them now as stars in heaven; one fell down and formed a long trail of fire', '“Someone is just dead!” said the little girl; for her old grandmother, the only person who had loved her, and who was now no more, had told her, that when a star falls, a soul ascends to God', 'She drew another match against the wall: it was again light, and in the lustre there stood the old grandmother, so bright and radiant, so mild, and with such an expression of love', '“Grandmother!” cried the little one', '“Oh, take me with you! You go away when the match burns out; you vanish like the warm stove, like the delicious roast goose, and like the magnificent Christmas tree!” And she rubbed the whole bundle of matches quickly against the wall, for she wanted to be quite sure of keeping her grandmother near her', 'And the matches gave such a brilliant light that it was brighter than at noon-day: never formerly had the grandmother been so beautiful and so tall', 'She took the little maiden, on her arm, and both flew in brightness and in joy so high, so very high, and then above was neither cold, nor hunger, nor anxiety they were with God', 'But in the corner, at the cold hour of dawn, sat the poor girl, with rosy cheeks and with a smiling mouth, leaning against the wall frozen to death on the last evening of the old year', 'Stiff and stark sat the child there with her matches, of which one bundle had been burnt', '“She wanted to warm herself,” people said', 'No one had the slightest suspicion of what beautiful things she had seen; no one even dreamed of the splendor in which, with her grandmother she had entered on the joys of a new year']\n"
     ]
    }
   ],
   "source": [
    "# Accede a la columna 'documento' y la convierte en una lista\n",
    "text = list(df['documento'])\n",
    "\n",
    "# Muestra la lista resultante\n",
    "print(text)"
   ]
  },
  {
   "cell_type": "code",
   "execution_count": 134,
   "metadata": {
    "id": "CMu9CX34J8RQ"
   },
   "outputs": [],
   "source": [
    "# Segmenta el texto con la utilidad de Keras en una lista de palabras para cada documento\n",
    "segmented_sentences = [text_to_word_sequence(sentence) for sentence in text]"
   ]
  },
  {
   "cell_type": "code",
   "execution_count": 135,
   "metadata": {
    "id": "neCJEVNvkkjE"
   },
   "outputs": [
    {
     "data": {
      "text/plain": [
       "'It is in the hot lands that the sun burns, sure enough! there the people become quite a mahogany brown, ay, and in the HOTTEST lands they are burnt to Negroes'"
      ]
     },
     "execution_count": 135,
     "metadata": {},
     "output_type": "execute_result"
    }
   ],
   "source": [
    "# Muestra el primer elemento de la lista\n",
    "text[0]"
   ]
  },
  {
   "cell_type": "code",
   "execution_count": 136,
   "metadata": {
    "id": "duxuc-DVkcpP"
   },
   "outputs": [
    {
     "data": {
      "text/plain": [
       "['it',\n",
       " 'is',\n",
       " 'in',\n",
       " 'the',\n",
       " 'hot',\n",
       " 'lands',\n",
       " 'that',\n",
       " 'the',\n",
       " 'sun',\n",
       " 'burns',\n",
       " 'sure',\n",
       " 'enough',\n",
       " 'there',\n",
       " 'the',\n",
       " 'people',\n",
       " 'become',\n",
       " 'quite',\n",
       " 'a',\n",
       " 'mahogany',\n",
       " 'brown',\n",
       " 'ay',\n",
       " 'and',\n",
       " 'in',\n",
       " 'the',\n",
       " 'hottest',\n",
       " 'lands',\n",
       " 'they',\n",
       " 'are',\n",
       " 'burnt',\n",
       " 'to',\n",
       " 'negroes']"
      ]
     },
     "execution_count": 136,
     "metadata": {},
     "output_type": "execute_result"
    }
   ],
   "source": [
    "# Muestra la lista de palabras del primer documento\n",
    "segmented_sentences[0]"
   ]
  },
  {
   "cell_type": "code",
   "execution_count": 137,
   "metadata": {
    "id": "x35rV7QZH49n"
   },
   "outputs": [],
   "source": [
    "# Calcula la longitud de cada secuencia\n",
    "length_sentences = [len(sentence) for sentence in segmented_sentences]"
   ]
  },
  {
   "cell_type": "code",
   "execution_count": 138,
   "metadata": {
    "id": "R8P8vDXRII4c"
   },
   "outputs": [
    {
     "data": {
      "image/png": "[encoded data removed]",
      "text/plain": [
       "<Figure size 640x480 with 1 Axes>"
      ]
     },
     "metadata": {},
     "output_type": "display_data"
    }
   ],
   "source": [
    "# Genera la distribución de longitudes de los documentos\n",
    "plt.hist(length_sentences,bins=20)\n",
    "plt.xlabel(\"Longitud de los documentos\")\n",
    "plt.ylabel(\"Frecuencia\")\n",
    "plt.title(\"Distribución de longitudes de los documentos\")\n",
    "plt.grid(True)\n",
    "plt.show()"
   ]
  },
  {
   "cell_type": "code",
   "execution_count": 139,
   "metadata": {
    "id": "wumBNwdjJM3j"
   },
   "outputs": [
    {
     "name": "stdout",
     "output_type": "stream",
     "text": [
      "max_context_size: 53\n"
     ]
    }
   ],
   "source": [
    "\"\"\"\n",
    "A partir de la distribución de longitudes de secuencias se elige algún criterio\n",
    "para determinar el máximo tamaño de contexto. En este caso es un percentil, pero\n",
    "otros criterios también pueden ser válidos (media o mediana) con la justificación adecuada.\n",
    "También puede ser una selección \"a mano\".\n",
    "\"\"\"\n",
    "\n",
    "# Se utiliza el \"-1\" porque el último token será el target\n",
    "max_context_size = int(np.percentile(length_sentences, 90)-1)\n",
    "\n",
    "# max_context_size = int(np.ceil(np.mean(length_sentences))) # criterio de media\n",
    "# max_context_size = int(np.ceil(np.median(length_sentences))) # criterio de mediana\n",
    "print(f'max_context_size: {max_context_size}')"
   ]
  },
  {
   "cell_type": "markdown",
   "metadata": {
    "id": "2oIUjVU0LB0r"
   },
   "source": [
    "###  Tokenizar"
   ]
  },
  {
   "cell_type": "code",
   "execution_count": 140,
   "metadata": {
    "id": "_XKQIpRiLNbg"
   },
   "outputs": [],
   "source": [
    "# Instancia el tokenizador\n",
    "tok = Tokenizer()\n",
    "\n",
    "\"\"\"\n",
    "El tokenizer \"aprende\" las palabras que se usaran.\n",
    "Se construye (fit) una vez por proyecto, se aplica N veces (tal cual un encoder)\n",
    "El token 0 es reservado y no es asignado. Se utiliza para designar a palabras\n",
    "fuera del vocabulario aprendido.\n",
    "\"\"\"\n",
    "tok.fit_on_texts(segmented_sentences)\n",
    "\n",
    "# Convierte las palabras a números\n",
    "# entran palabras -> salen números\n",
    "tokenized_sentences = tok.texts_to_sequences(segmented_sentences)"
   ]
  },
  {
   "cell_type": "code",
   "execution_count": 141,
   "metadata": {
    "id": "AK2wfHyslrTz"
   },
   "outputs": [
    {
     "data": {
      "text/plain": [
       "[3,\n",
       " 15,\n",
       " 8,\n",
       " 1,\n",
       " 339,\n",
       " 91,\n",
       " 10,\n",
       " 1,\n",
       " 129,\n",
       " 340,\n",
       " 341,\n",
       " 342,\n",
       " 23,\n",
       " 1,\n",
       " 152,\n",
       " 92,\n",
       " 45,\n",
       " 4,\n",
       " 177,\n",
       " 343,\n",
       " 511,\n",
       " 2,\n",
       " 8,\n",
       " 1,\n",
       " 512,\n",
       " 91,\n",
       " 33,\n",
       " 93,\n",
       " 153,\n",
       " 5,\n",
       " 513]"
      ]
     },
     "execution_count": 141,
     "metadata": {},
     "output_type": "execute_result"
    }
   ],
   "source": [
    "# Visualiza los tokens de las palabras del vocabulario en el primer documento\n",
    "tokenized_sentences[0]"
   ]
  },
  {
   "cell_type": "code",
   "execution_count": 142,
   "metadata": {
    "id": "s-93u9lxlwlP"
   },
   "outputs": [
    {
     "data": {
      "text/plain": [
       "['it',\n",
       " 'is',\n",
       " 'in',\n",
       " 'the',\n",
       " 'hot',\n",
       " 'lands',\n",
       " 'that',\n",
       " 'the',\n",
       " 'sun',\n",
       " 'burns',\n",
       " 'sure',\n",
       " 'enough',\n",
       " 'there',\n",
       " 'the',\n",
       " 'people',\n",
       " 'become',\n",
       " 'quite',\n",
       " 'a',\n",
       " 'mahogany',\n",
       " 'brown',\n",
       " 'ay',\n",
       " 'and',\n",
       " 'in',\n",
       " 'the',\n",
       " 'hottest',\n",
       " 'lands',\n",
       " 'they',\n",
       " 'are',\n",
       " 'burnt',\n",
       " 'to',\n",
       " 'negroes']"
      ]
     },
     "execution_count": 142,
     "metadata": {},
     "output_type": "execute_result"
    }
   ],
   "source": [
    "# Muestra la lista de palabras del primer documento\n",
    "segmented_sentences[0]"
   ]
  },
  {
   "cell_type": "markdown",
   "metadata": {
    "id": "pfpYcaypKcI9"
   },
   "source": [
    "### Organizando y estructurando el dataset"
   ]
  },
  {
   "cell_type": "markdown",
   "metadata": {
    "id": "l3iPTx-UJl6r"
   },
   "source": [
    "En este punto se tiene en la variable `tokenized_sentences` las oraciones del cuento tokenizadas. El algoritmo se quedara con un conjunto de validación que utilizara para medir la calidad de la generación de secuencias con la métrica de Perplejidad."
   ]
  },
  {
   "cell_type": "code",
   "execution_count": 143,
   "metadata": {
    "id": "cSeqVGyV_wz5"
   },
   "outputs": [],
   "source": [
    "# Divide las sentencias (palabras de lo documentos) tokenizadas en conjuntos de entrenamiento y validación\n",
    "tokenized_sentences_train, tokenized_sentences_val, _, _ = train_test_split(tokenized_sentences, tokenized_sentences, test_size=0.2, random_state=42)"
   ]
  },
  {
   "cell_type": "markdown",
   "metadata": {
    "id": "gmsoPbV6LxcW"
   },
   "source": [
    "Subdivide las oraciones que tienen tamaño mayor al contexto máximo, para generar más secuencias de entrenamiento (este paso puede obviarse si el tamaño de contexto máximo es muy grande)."
   ]
  },
  {
   "cell_type": "code",
   "execution_count": 144,
   "metadata": {
    "id": "E5BPO4qPPnNR"
   },
   "outputs": [],
   "source": [
    "tok_sent = []\n",
    "\n",
    "for sent in tokenized_sentences_train:\n",
    "\n",
    "  \"\"\"\n",
    "  Si la secuencia tiene más términos que el tamaño de contexto máximo,\n",
    "  arma varias sub-secuencias de tamaño máximo\n",
    "  \"\"\"\n",
    "  if len(sent) > (max_context_size+1):\n",
    "    extra = len(sent)-(max_context_size+1) + 1\n",
    "    for i in range(extra):\n",
    "      tok_sent.append(sent[i:i+max_context_size+1])\n",
    "  else: # si la secuencia tiene menos términos el tamaño de contexto máximo, dejo la secuencia como está\n",
    "    tok_sent.append(sent)\n"
   ]
  },
  {
   "cell_type": "code",
   "execution_count": 145,
   "metadata": {
    "id": "RiEt0AAz_64v"
   },
   "outputs": [
    {
     "data": {
      "text/plain": [
       "546"
      ]
     },
     "execution_count": 145,
     "metadata": {},
     "output_type": "execute_result"
    }
   ],
   "source": [
    "# Muestra la longitud de la lista de sub-secuencias\n",
    "len(tok_sent)"
   ]
  },
  {
   "cell_type": "markdown",
   "metadata": {
    "id": "QnwSC7A_LWfd"
   },
   "source": [
    "Aumenta los datos aprovechando que de una secuencia grande se pueden generar varias más pequeñas:"
   ]
  },
  {
   "cell_type": "code",
   "execution_count": 146,
   "metadata": {
    "id": "lWdhVV04htki"
   },
   "outputs": [],
   "source": [
    "tok_sent_augm = []\n",
    "\n",
    "for sent in tok_sent:\n",
    "\n",
    "  # Generas todas las sub-secuencias\n",
    "  subseq = [sent[:i+2] for i in range(len(sent)-1)]\n",
    "  # Realiza el padding al tamaño de contexto máximo\n",
    "  tok_sent_augm.append(pad_sequences(subseq, maxlen=max_context_size+1, padding='pre'))\n"
   ]
  },
  {
   "cell_type": "code",
   "execution_count": 147,
   "metadata": {
    "id": "THXXBya1tnZ8"
   },
   "outputs": [],
   "source": [
    "# Concatena todas las secuencias en un único array de numpy\n",
    "train_seqs = np.concatenate(tok_sent_augm, axis=0)"
   ]
  },
  {
   "cell_type": "code",
   "execution_count": 148,
   "metadata": {
    "id": "o5Uiflnwt10J"
   },
   "outputs": [
    {
     "data": {
      "text/plain": [
       "(24390, 54)"
      ]
     },
     "execution_count": 148,
     "metadata": {},
     "output_type": "execute_result"
    }
   ],
   "source": [
    "# Muestra la dimensión del arreglo final\n",
    "train_seqs.shape"
   ]
  },
  {
   "cell_type": "code",
   "execution_count": 149,
   "metadata": {
    "id": "yprwJHiMBQIS"
   },
   "outputs": [],
   "source": [
    "\"\"\"\n",
    "De este arreglo obtiene las entradas y los targets que\n",
    "consumirá nuestro sistema en tiempo de entrenamiento.\n",
    "\"\"\"\n",
    "X = train_seqs[:,:-1]\n",
    "y = train_seqs[:,1:]"
   ]
  },
  {
   "cell_type": "markdown",
   "metadata": {
    "id": "YxuKNI05Ttct"
   },
   "source": [
    "Se estructura el problema de aprendizaje como *many-to-many*:\n",
    "\n",
    "Entrada: secuencia de tokens [$x_0$, $x_1$, ..., $x_N$]\n",
    "\n",
    "Target: secuencia de tokens [$x_1$, $x_2$, ..., $x_{N+1}$]\n",
    "\n",
    "De manera que la red tiene que aprender que su salida deben ser los tokens desplazados en una posición y un nuevo token predicho (el N+1).\n",
    "\n",
    "La ventaja de estructurar el aprendizaje de esta manera es que para cada token de target se propaga una señal de gradiente por el grafo de cómputo recurrente, que es mejor que estructurar el problema como *many-to-one* en donde sólo una señal de gradiente se propaga."
   ]
  },
  {
   "cell_type": "code",
   "execution_count": 150,
   "metadata": {
    "id": "KFAyA4zCWE-5"
   },
   "outputs": [
    {
     "data": {
      "text/plain": [
       "(24390, 53)"
      ]
     },
     "execution_count": 150,
     "metadata": {},
     "output_type": "execute_result"
    }
   ],
   "source": [
    "# Muestra la dimensión del objetivo\n",
    "y.shape"
   ]
  },
  {
   "cell_type": "code",
   "execution_count": 151,
   "metadata": {
    "id": "1D9ESMGyB_QD"
   },
   "outputs": [
    {
     "data": {
      "text/plain": [
       "{1: 'the',\n",
       " 2: 'and',\n",
       " 3: 'it',\n",
       " 4: 'a',\n",
       " 5: 'to',\n",
       " 6: 'i',\n",
       " 7: '”',\n",
       " 8: 'in',\n",
       " 9: 'was',\n",
       " 10: 'that',\n",
       " 11: 'he',\n",
       " 12: 'of',\n",
       " 13: 'shadow',\n",
       " 14: 'you',\n",
       " 15: 'is',\n",
       " 16: 'so',\n",
       " 17: 'she',\n",
       " 18: 'said',\n",
       " 19: 'with',\n",
       " 20: 'man',\n",
       " 21: 'but',\n",
       " 22: 'as',\n",
       " 23: 'there',\n",
       " 24: 'had',\n",
       " 25: 'not',\n",
       " 26: 'one',\n",
       " 27: 'for',\n",
       " 28: 'be',\n",
       " 29: 'have',\n",
       " 30: 'on',\n",
       " 31: 'her',\n",
       " 32: 'me',\n",
       " 33: 'they',\n",
       " 34: 'learned',\n",
       " 35: 'will',\n",
       " 36: 'my',\n",
       " 37: 'now',\n",
       " 38: 'at',\n",
       " 39: 'all',\n",
       " 40: 'were',\n",
       " 41: 'must',\n",
       " 42: 'out',\n",
       " 43: 'thou',\n",
       " 44: 'no',\n",
       " 45: 'quite',\n",
       " 46: 'when',\n",
       " 47: 'his',\n",
       " 48: 'what',\n",
       " 49: 'about',\n",
       " 50: 'him',\n",
       " 51: 'came',\n",
       " 52: 'know',\n",
       " 53: 'then',\n",
       " 54: 'do',\n",
       " 55: 'went',\n",
       " 56: 'little',\n",
       " 57: 'from',\n",
       " 58: 'thought',\n",
       " 59: 'could',\n",
       " 60: 'if',\n",
       " 61: 'like',\n",
       " 62: '“i',\n",
       " 63: 'go',\n",
       " 64: 'would',\n",
       " 65: 'say',\n",
       " 66: 'princess',\n",
       " 67: 'evening',\n",
       " 68: 'which',\n",
       " 69: 'who',\n",
       " 70: 'this',\n",
       " 71: 'more',\n",
       " 72: 'up',\n",
       " 73: 'well',\n",
       " 74: '“it',\n",
       " 75: 'always',\n",
       " 76: 'shall',\n",
       " 77: 'by',\n",
       " 78: 'see',\n",
       " 79: 'only',\n",
       " 80: 'cold',\n",
       " 81: 'down',\n",
       " 82: 'again',\n",
       " 83: 'has',\n",
       " 84: 'balcony',\n",
       " 85: 'yes',\n",
       " 86: 'other',\n",
       " 87: 'everything',\n",
       " 88: 'most',\n",
       " 89: 'very',\n",
       " 90: 'am',\n",
       " 91: 'lands',\n",
       " 92: 'become',\n",
       " 93: 'are',\n",
       " 94: 'just',\n",
       " 95: 'home',\n",
       " 96: 'into',\n",
       " 97: 'opposite',\n",
       " 98: 'been',\n",
       " 99: 'saw',\n",
       " 100: 'master',\n",
       " 101: 'much',\n",
       " 102: 'such',\n",
       " 103: 'whole',\n",
       " 104: 'really',\n",
       " 105: 'also',\n",
       " 106: 'warm',\n",
       " 107: 'too',\n",
       " 108: 'door',\n",
       " 109: 'think',\n",
       " 110: 'tell',\n",
       " 111: 'seen',\n",
       " 112: 'old',\n",
       " 113: 'or',\n",
       " 114: 'street',\n",
       " 115: 'sat',\n",
       " 116: 'stood',\n",
       " 117: 'them',\n",
       " 118: 'cannot',\n",
       " 119: 'stranger',\n",
       " 120: 'light',\n",
       " 121: 'away',\n",
       " 122: 'should',\n",
       " 123: 'wall',\n",
       " 124: 'how',\n",
       " 125: 'world',\n",
       " 126: 'we',\n",
       " 127: 'together',\n",
       " 128: 'did',\n",
       " 129: 'sun',\n",
       " 130: 'come',\n",
       " 131: 'room',\n",
       " 132: 'can',\n",
       " 133: 'through',\n",
       " 134: 'over',\n",
       " 135: 'their',\n",
       " 136: 'than',\n",
       " 137: 'good',\n",
       " 138: 'never',\n",
       " 139: '“but',\n",
       " 140: 'match',\n",
       " 141: 'even',\n",
       " 142: 'an',\n",
       " 143: 'long',\n",
       " 144: 'way',\n",
       " 145: '“what',\n",
       " 146: 'beautiful',\n",
       " 147: 'maiden',\n",
       " 148: 'anyone',\n",
       " 149: 'large',\n",
       " 150: 'feet',\n",
       " 151: '“you',\n",
       " 152: 'people',\n",
       " 153: 'burnt',\n",
       " 154: 'house',\n",
       " 155: 'took',\n",
       " 156: 'became',\n",
       " 157: 'lived',\n",
       " 158: 'flowers',\n",
       " 159: \"neighbor's\",\n",
       " 160: 'before',\n",
       " 161: 'behind',\n",
       " 162: 'gone',\n",
       " 163: 'where',\n",
       " 164: 'directly',\n",
       " 165: 'last',\n",
       " 166: 'its',\n",
       " 167: 'made',\n",
       " 168: 'new',\n",
       " 169: 'certainly',\n",
       " 170: 'your',\n",
       " 171: 'our',\n",
       " 172: 'another',\n",
       " 173: 'persons',\n",
       " 174: 'place',\n",
       " 175: 'poor',\n",
       " 176: 'girl',\n",
       " 177: 'mahogany',\n",
       " 178: 'day',\n",
       " 179: 'first',\n",
       " 180: 'still',\n",
       " 181: 'some',\n",
       " 182: 'person',\n",
       " 183: 'strange',\n",
       " 184: 'own',\n",
       " 185: 'knew',\n",
       " 186: 'use',\n",
       " 187: 'true',\n",
       " 188: 'years',\n",
       " 189: 'off',\n",
       " 190: 'things',\n",
       " 191: '“nay',\n",
       " 192: 'sort',\n",
       " 193: 'once',\n",
       " 194: 'here',\n",
       " 195: 'get',\n",
       " 196: 'time',\n",
       " 197: 'take',\n",
       " 198: 'herself',\n",
       " 199: 'year',\n",
       " 200: 'matches',\n",
       " 201: 'against',\n",
       " 202: 'grandmother',\n",
       " 203: 'found',\n",
       " 204: 'high',\n",
       " 205: 'sunshine',\n",
       " 206: 'both',\n",
       " 207: 'above',\n",
       " 208: 'single',\n",
       " 209: 'yet',\n",
       " 210: 'extremely',\n",
       " 211: 'fine',\n",
       " 212: 'got',\n",
       " 213: 'asked',\n",
       " 214: 'open',\n",
       " 215: 'shone',\n",
       " 216: 'ever',\n",
       " 217: 'thing',\n",
       " 218: 'art',\n",
       " 219: 'rose',\n",
       " 220: 'himself',\n",
       " 221: 'great',\n",
       " 222: 'passed',\n",
       " 223: 'many',\n",
       " 224: 'dressed',\n",
       " 225: 'hand',\n",
       " 226: 'common',\n",
       " 227: 'land',\n",
       " 228: 'pay',\n",
       " 229: 'free',\n",
       " 230: 'else',\n",
       " 231: '“and',\n",
       " 232: 'poesy',\n",
       " 233: 'antechamber',\n",
       " 234: 'saloons',\n",
       " 235: 'each',\n",
       " 236: 'myself',\n",
       " 237: 'ran',\n",
       " 238: '“that',\n",
       " 239: 'beard',\n",
       " 240: 'answer',\n",
       " 241: 'fell',\n",
       " 242: 'bundle',\n",
       " 243: 'goose',\n",
       " 244: 'soon',\n",
       " 245: 'obliged',\n",
       " 246: 'within',\n",
       " 247: 'doors',\n",
       " 248: 'window',\n",
       " 249: 'looked',\n",
       " 250: 'fall',\n",
       " 251: 'effect',\n",
       " 252: 'moved',\n",
       " 253: 'thousand',\n",
       " 254: 'lights',\n",
       " 255: 'walked',\n",
       " 256: 'along',\n",
       " 257: 'grew',\n",
       " 258: 'opened',\n",
       " 259: 'music',\n",
       " 260: 'marvellous',\n",
       " 261: 'might',\n",
       " 262: \"didn't\",\n",
       " 263: 'piece',\n",
       " 264: 'same',\n",
       " 265: 'word',\n",
       " 266: 'two',\n",
       " 267: 'itself',\n",
       " 268: 'neighbor',\n",
       " 269: 'woman',\n",
       " 270: 'curtain',\n",
       " 271: 'eyes',\n",
       " 272: 'floor',\n",
       " 273: 'sweet',\n",
       " 274: 'between',\n",
       " 275: 'half',\n",
       " 276: 'look',\n",
       " 277: 'service',\n",
       " 278: 'going',\n",
       " 279: \"don't\",\n",
       " 280: 'read',\n",
       " 281: 'because',\n",
       " 282: 'told',\n",
       " 283: 'talk',\n",
       " 284: 'days',\n",
       " 285: 'three',\n",
       " 286: 'sitting',\n",
       " 287: 'speaking',\n",
       " 288: '“yes',\n",
       " 289: 'clothes',\n",
       " 290: 'neck',\n",
       " 291: 'followed',\n",
       " 292: 'love',\n",
       " 293: 'anything',\n",
       " 294: '“for',\n",
       " 295: 'any',\n",
       " 296: '“how',\n",
       " 297: 'make',\n",
       " 298: 'hear',\n",
       " 299: 'thee',\n",
       " 300: 'speak',\n",
       " 301: 'boots',\n",
       " 302: 'right',\n",
       " 303: 'life',\n",
       " 304: 'formed',\n",
       " 305: 'being',\n",
       " 306: 'servants',\n",
       " 307: 'nor',\n",
       " 308: 'children',\n",
       " 309: 'nature',\n",
       " 310: 'delightfully',\n",
       " 311: 'peeped',\n",
       " 312: 'windows',\n",
       " 313: 'something',\n",
       " 314: 'bad',\n",
       " 315: 'gave',\n",
       " 316: 'live',\n",
       " 317: 'side',\n",
       " 318: 'ill',\n",
       " 319: 'travel',\n",
       " 320: 'travelling',\n",
       " 321: 'watering',\n",
       " 322: 'nothing',\n",
       " 323: 'grow',\n",
       " 324: 'wise',\n",
       " 325: '“he',\n",
       " 326: 'real',\n",
       " 327: 'daughter',\n",
       " 328: 'upon',\n",
       " 329: '“your',\n",
       " 330: 'royal',\n",
       " 331: 'danced',\n",
       " 332: 'country',\n",
       " 333: 'kingdom',\n",
       " 334: 'roast',\n",
       " 335: 'hands',\n",
       " 336: 'stove',\n",
       " 337: 'christmas',\n",
       " 338: 'tree',\n",
       " 339: 'hot',\n",
       " 340: 'burns',\n",
       " 341: 'sure',\n",
       " 342: 'enough',\n",
       " 343: 'brown',\n",
       " 344: 'folks',\n",
       " 345: 'stay',\n",
       " 346: 'slept',\n",
       " 347: 'houses',\n",
       " 348: 'morning',\n",
       " 349: 'till',\n",
       " 350: 'seemed',\n",
       " 351: 'towards',\n",
       " 352: 'began',\n",
       " 353: 'every',\n",
       " 354: 'lively',\n",
       " 355: 'tailors',\n",
       " 356: 'candles',\n",
       " 357: 'burning',\n",
       " 358: 'church',\n",
       " 359: 'bells',\n",
       " 360: 'dingle',\n",
       " 361: 'carriages',\n",
       " 362: 'foreigner',\n",
       " 363: 'water',\n",
       " 364: 'dark',\n",
       " 365: 'heard',\n",
       " 366: 'imagined',\n",
       " 367: 'tiresome',\n",
       " 368: 'jest',\n",
       " 369: 'wife',\n",
       " 370: 'proud',\n",
       " 371: 'splinter',\n",
       " 372: 'excessively',\n",
       " 373: 'night',\n",
       " 374: 'wind',\n",
       " 375: 'lustre',\n",
       " 376: 'crept',\n",
       " 377: 'longer',\n",
       " 378: 'fresh',\n",
       " 379: 'far',\n",
       " 380: 'thoughts',\n",
       " 381: 'ground',\n",
       " 382: 'row',\n",
       " 383: 'does',\n",
       " 384: 'nodded',\n",
       " 385: 'turned',\n",
       " 386: 'round',\n",
       " 387: 'particular',\n",
       " 388: 'after',\n",
       " 389: 'drink',\n",
       " 390: 'actually',\n",
       " 391: 'story',\n",
       " 392: 'without',\n",
       " 393: 'therefore',\n",
       " 394: 'quickly',\n",
       " 395: 'observed',\n",
       " 396: 'joy',\n",
       " 397: 'course',\n",
       " 398: 'weeks',\n",
       " 399: 'fair',\n",
       " 400: 'journey',\n",
       " 401: 'wrote',\n",
       " 402: 'felt',\n",
       " 403: 'gentleman',\n",
       " 404: 'seeing',\n",
       " 405: 'seals',\n",
       " 406: 'thick',\n",
       " 407: 'gold',\n",
       " 408: 'chain',\n",
       " 409: 'around',\n",
       " 410: 'fingers',\n",
       " 411: 'diamond',\n",
       " 412: 'rings',\n",
       " 413: 'recover',\n",
       " 414: 'yourself',\n",
       " 415: 'belong',\n",
       " 416: 'order',\n",
       " 417: 'child',\n",
       " 418: 'brilliant',\n",
       " 419: 'circumstances',\n",
       " 420: 'die',\n",
       " 421: 'wished',\n",
       " 422: 'debt',\n",
       " 423: 'thy',\n",
       " 424: 'sit',\n",
       " 425: 'friend',\n",
       " 426: 'hast',\n",
       " 427: 'promise',\n",
       " 428: '“be',\n",
       " 429: \"man's\",\n",
       " 430: 'cloth',\n",
       " 431: 'already',\n",
       " 432: 'arm',\n",
       " 433: 'work',\n",
       " 434: 'written',\n",
       " 435: 'cried',\n",
       " 436: 'twilight',\n",
       " 437: 'lighted',\n",
       " 438: 'pride',\n",
       " 439: 'knowledge',\n",
       " 440: 'men',\n",
       " 441: 'drinking',\n",
       " 442: 'called',\n",
       " 443: 'regarded',\n",
       " 444: 'familiar',\n",
       " 445: 'father',\n",
       " 446: 'mother',\n",
       " 447: 'whom',\n",
       " 448: '“everything',\n",
       " 449: 'stand',\n",
       " 450: 'moonlight',\n",
       " 451: 'near',\n",
       " 452: 'understand',\n",
       " 453: 'human',\n",
       " 454: 'put',\n",
       " 455: 'women',\n",
       " 456: 'willingly',\n",
       " 457: 'themselves',\n",
       " 458: 'afraid',\n",
       " 459: 'fond',\n",
       " 460: 'goes',\n",
       " 461: 'write',\n",
       " 462: 'expenses',\n",
       " 463: '“there',\n",
       " 464: 'amusing',\n",
       " 465: 'mild',\n",
       " 466: 'proper',\n",
       " 467: 'bear',\n",
       " 468: 'others',\n",
       " 469: 'glass',\n",
       " 470: 'feeling',\n",
       " 471: 'cast',\n",
       " 472: 'entered',\n",
       " 473: 'conversation',\n",
       " 474: 'complaint',\n",
       " 475: 'highness',\n",
       " 476: 'cured',\n",
       " 477: 'given',\n",
       " 478: 'these',\n",
       " 479: 'wonderful',\n",
       " 480: 'leave',\n",
       " 481: 'almost',\n",
       " 482: 'answered',\n",
       " 483: 'believe',\n",
       " 484: '“oh',\n",
       " 485: 'marry',\n",
       " 486: \"king's\",\n",
       " 487: 'nuptials',\n",
       " 488: 'bum',\n",
       " 489: 'naked',\n",
       " 490: 'left',\n",
       " 491: 'slippers',\n",
       " 492: 'held',\n",
       " 493: 'farthing',\n",
       " 494: 'hunger',\n",
       " 495: 'snow',\n",
       " 496: 'corner',\n",
       " 497: 'colder',\n",
       " 498: 'though',\n",
       " 499: 'drew',\n",
       " 500: 'bright',\n",
       " 501: 'flame',\n",
       " 502: 'brass',\n",
       " 503: 'fire',\n",
       " 504: 'burned',\n",
       " 505: 'stretched',\n",
       " 506: 'rubbed',\n",
       " 507: 'magnificent',\n",
       " 508: 'higher',\n",
       " 509: 'god',\n",
       " 510: 'wanted',\n",
       " 511: 'ay',\n",
       " 512: 'hottest',\n",
       " 513: 'negroes',\n",
       " 514: 'run',\n",
       " 515: 'mistake',\n",
       " 516: 'sensible',\n",
       " 517: 'shutters',\n",
       " 518: 'closed',\n",
       " 519: 'narrow',\n",
       " 520: 'built',\n",
       " 521: 'borne',\n",
       " 522: 'young',\n",
       " 523: 'clever',\n",
       " 524: 'glowing',\n",
       " 525: 'oven',\n",
       " 526: 'meagre',\n",
       " 527: 'shrunk',\n",
       " 528: 'freshen',\n",
       " 529: 'balconies',\n",
       " 530: 'air',\n",
       " 531: 'accustomed',\n",
       " 532: 'shoemakers',\n",
       " 533: 'chairs',\n",
       " 534: 'tables',\n",
       " 535: 'brought',\n",
       " 536: 'forth',\n",
       " 537: 'talked',\n",
       " 538: 'sung',\n",
       " 539: 'rang',\n",
       " 540: 'asses',\n",
       " 541: 'dong',\n",
       " 542: 'boys',\n",
       " 543: 'screaming',\n",
       " 544: 'hooting',\n",
       " 545: 'shouting',\n",
       " 546: 'shooting',\n",
       " 547: 'devils',\n",
       " 548: 'detonating',\n",
       " 549: 'balls',\n",
       " 550: 'corpse',\n",
       " 551: 'bearers',\n",
       " 552: 'hood',\n",
       " 553: 'wearers',\n",
       " 554: 'funerals',\n",
       " 555: 'psalm',\n",
       " 556: 'hymn',\n",
       " 557: 'din',\n",
       " 558: 'driving',\n",
       " 559: 'company',\n",
       " 560: 'arriving',\n",
       " 561: 'truth',\n",
       " 562: \"sun's\",\n",
       " 563: 'heat',\n",
       " 564: 'unless',\n",
       " 565: 'watered',\n",
       " 566: 'somebody',\n",
       " 567: 'late',\n",
       " 568: 'least',\n",
       " 569: 'front',\n",
       " 570: 'further',\n",
       " 571: 'sound',\n",
       " 572: \"stranger's\",\n",
       " 573: 'landlord',\n",
       " 574: 'taken',\n",
       " 575: 'appeared',\n",
       " 576: 'practised',\n",
       " 577: \"'i\",\n",
       " 578: \"'\",\n",
       " 579: 'says',\n",
       " 580: 'however',\n",
       " 581: 'plays',\n",
       " 582: 'understood',\n",
       " 583: 'danish',\n",
       " 584: 'having',\n",
       " 585: 'meanings',\n",
       " 586: 'general',\n",
       " 587: 'means',\n",
       " 588: 'reddish',\n",
       " 589: 'wood',\n",
       " 590: 'signifies',\n",
       " 591: '“excessively',\n",
       " 592: 'arose',\n",
       " 593: 'anecdote',\n",
       " 594: 'nyboder',\n",
       " 595: 'copenhagen',\n",
       " 596: \"seamen's\",\n",
       " 597: 'quarter',\n",
       " 598: \"sailor's\",\n",
       " 599: 'complained',\n",
       " 600: 'finger',\n",
       " 601: '“mahogany',\n",
       " 602: 'less',\n",
       " 603: 'exclaimed',\n",
       " 604: 'thence',\n",
       " 605: 'proverb',\n",
       " 606: 'derived',\n",
       " 607: 'awoke',\n",
       " 608: 'raised',\n",
       " 609: 'flames',\n",
       " 610: 'colors',\n",
       " 611: 'midst',\n",
       " 612: 'slender',\n",
       " 613: 'graceful',\n",
       " 614: 'hurt',\n",
       " 615: 'wide',\n",
       " 616: 'awake',\n",
       " 617: 'spring',\n",
       " 618: 'gently',\n",
       " 619: 'blooming',\n",
       " 620: 'ajar',\n",
       " 621: 'sounded',\n",
       " 622: 'soft',\n",
       " 623: 'delightful',\n",
       " 624: 'melt',\n",
       " 625: 'enchantment',\n",
       " 626: 'actual',\n",
       " 627: 'entrance',\n",
       " 628: 'shops',\n",
       " 629: 'running',\n",
       " 630: 'thus',\n",
       " 631: 'natural',\n",
       " 632: 'living',\n",
       " 633: 'sees',\n",
       " 634: '“see',\n",
       " 635: 'nicely',\n",
       " 636: 'sits',\n",
       " 637: 'stands',\n",
       " 638: 'cunning',\n",
       " 639: 'useful',\n",
       " 640: '“have',\n",
       " 641: 'kindness',\n",
       " 642: 'step',\n",
       " 643: '“well',\n",
       " 644: 'paid',\n",
       " 645: 'attention',\n",
       " 646: 'distinctly',\n",
       " 647: 'let',\n",
       " 648: 'next',\n",
       " 649: 'coffee',\n",
       " 650: 'newspapers',\n",
       " 651: 'annoyed',\n",
       " 652: 'known',\n",
       " 653: 'everybody',\n",
       " 654: 'imitating',\n",
       " 655: 'need',\n",
       " 656: 'wisely',\n",
       " 657: 'peter',\n",
       " 658: 'schlemihl',\n",
       " 659: 'shadowless',\n",
       " 660: 'placed',\n",
       " 661: 'screen',\n",
       " 662: 'entice',\n",
       " 663: '“hem',\n",
       " 664: 'hem',\n",
       " 665: 'vexatious',\n",
       " 666: 'grows',\n",
       " 667: 'lapse',\n",
       " 668: 'eight',\n",
       " 669: 'set',\n",
       " 670: 'northern',\n",
       " 671: 'sufficient',\n",
       " 672: 'books',\n",
       " 673: 'gentle',\n",
       " 674: 'knocking',\n",
       " 675: '“come',\n",
       " 676: 'lean',\n",
       " 677: 'rest',\n",
       " 678: 'finely',\n",
       " 679: '“whom',\n",
       " 680: 'honor',\n",
       " 681: 'body',\n",
       " 682: 'flesh',\n",
       " 683: 'return',\n",
       " 684: 'since',\n",
       " 685: 'respects',\n",
       " 686: 'purchase',\n",
       " 687: 'freedom',\n",
       " 688: 'it”',\n",
       " 689: 'rattled',\n",
       " 690: 'bunch',\n",
       " 691: 'valuable',\n",
       " 692: 'hung',\n",
       " 693: 'watch',\n",
       " 694: 'stuck',\n",
       " 695: 'wore',\n",
       " 696: 'nay',\n",
       " 697: 'glittered',\n",
       " 698: 'pure',\n",
       " 699: 'gems',\n",
       " 700: 'surprise',\n",
       " 701: 'meaning',\n",
       " 702: '“something',\n",
       " 703: 'footsteps',\n",
       " 704: 'capable',\n",
       " 705: 'alone',\n",
       " 706: 'desire',\n",
       " 707: 'suppose',\n",
       " 708: 'native',\n",
       " 709: 'oblige',\n",
       " 710: 'saying',\n",
       " 711: 'remarkable',\n",
       " 712: \"one's\",\n",
       " 713: '“tell',\n",
       " 714: 'canst',\n",
       " 715: 'thyself',\n",
       " 716: 'glad',\n",
       " 717: 'fortune',\n",
       " 718: 'wherever',\n",
       " 719: 'may',\n",
       " 720: 'meet',\n",
       " 721: 'town',\n",
       " 722: 'intend',\n",
       " 723: 'betrothed',\n",
       " 724: 'provide',\n",
       " 725: 'family',\n",
       " 726: 'ease',\n",
       " 727: 'bond',\n",
       " 728: '“a',\n",
       " 729: 'astonishing',\n",
       " 730: 'entirely',\n",
       " 731: 'black',\n",
       " 732: 'finest',\n",
       " 733: 'patent',\n",
       " 734: 'leather',\n",
       " 735: 'hat',\n",
       " 736: 'folded',\n",
       " 737: 'bare',\n",
       " 738: 'crown',\n",
       " 739: 'brim',\n",
       " 740: '“now',\n",
       " 741: 'adventures',\n",
       " 742: 'polished',\n",
       " 743: 'heavily',\n",
       " 744: 'lay',\n",
       " 745: 'poodle',\n",
       " 746: 'dog',\n",
       " 747: 'perhaps',\n",
       " 748: 'arrogance',\n",
       " 749: 'kept',\n",
       " 750: 'quiet',\n",
       " 751: '“do',\n",
       " 752: 'charming',\n",
       " 753: 'beings',\n",
       " 754: 'composed',\n",
       " 755: '“poesy',\n",
       " 756: 'often',\n",
       " 757: 'dwells',\n",
       " 758: 'recluse',\n",
       " 759: 'cities',\n",
       " 760: 'short',\n",
       " 761: 'moment',\n",
       " 762: 'sleep',\n",
       " 763: 'aurora',\n",
       " 764: 'borealis',\n",
       " 765: 'shines',\n",
       " 766: 'wert',\n",
       " 767: 'doorway',\n",
       " 768: '“then',\n",
       " 769: 'rooms',\n",
       " 770: 'completely',\n",
       " 771: 'killed',\n",
       " 772: 'circumspect',\n",
       " 773: 'didst',\n",
       " 774: 'part',\n",
       " 775: 'position',\n",
       " 776: 'excellent',\n",
       " 777: 'wish',\n",
       " 778: 'custom',\n",
       " 779: 'denmark',\n",
       " 780: 'intimate',\n",
       " 781: 'acquaintances',\n",
       " 782: 'second',\n",
       " 783: 'singular',\n",
       " 784: '“du',\n",
       " 785: 'friendship',\n",
       " 786: 'generally',\n",
       " 787: 'affirm',\n",
       " 788: 'occasion',\n",
       " 789: 'offers',\n",
       " 790: 'either',\n",
       " 791: 'public',\n",
       " 792: 'private',\n",
       " 793: 'exclaiming',\n",
       " 794: '“thy',\n",
       " 795: 'health',\n",
       " 796: 'striking',\n",
       " 797: 'glasses',\n",
       " 798: '“duus”',\n",
       " 799: '“duus',\n",
       " 800: 'brodre',\n",
       " 801: 'brothers',\n",
       " 802: 'afterwards',\n",
       " 803: 'pronoun',\n",
       " 804: '“thou',\n",
       " 805: '“de',\n",
       " 806: 'sister',\n",
       " 807: 'brother',\n",
       " 808: 'regard',\n",
       " 809: 'age',\n",
       " 810: 'rank',\n",
       " 811: 'mistress',\n",
       " 812: 'superior',\n",
       " 813: 'inferior',\n",
       " 814: 'inferiors',\n",
       " 815: 'term',\n",
       " 816: 'masters',\n",
       " 817: 'superiors',\n",
       " 818: 'used',\n",
       " 819: 'slightly',\n",
       " 820: 'acquainted',\n",
       " 821: 'english',\n",
       " 822: 'beg',\n",
       " 823: 'pardon',\n",
       " 824: 'habit',\n",
       " 825: 'perfectly',\n",
       " 826: 'remember',\n",
       " 827: 'furthest',\n",
       " 828: 'saloon',\n",
       " 829: '“was',\n",
       " 830: 'woods',\n",
       " 831: 'holy',\n",
       " 832: 'starlit',\n",
       " 833: 'firmament',\n",
       " 834: 'mountains',\n",
       " 835: 'remained',\n",
       " 836: 'foremost',\n",
       " 837: 'court',\n",
       " 838: 'gods',\n",
       " 839: 'olden',\n",
       " 840: 'times',\n",
       " 841: 'pass',\n",
       " 842: 'heroes',\n",
       " 843: 'combat',\n",
       " 844: 'play',\n",
       " 845: 'relate',\n",
       " 846: 'dreams',\n",
       " 847: 'conceive',\n",
       " 848: 'besides',\n",
       " 849: 'inward',\n",
       " 850: 'innate',\n",
       " 851: 'qualities',\n",
       " 852: 'relationship',\n",
       " 853: 'strangely',\n",
       " 854: 'distinct',\n",
       " 855: 'revealed',\n",
       " 856: 'matured',\n",
       " 857: 'ashamed',\n",
       " 858: 'want',\n",
       " 859: 'varnish',\n",
       " 860: 'makes',\n",
       " 861: 'perceptible',\n",
       " 862: 'book',\n",
       " 863: 'cake',\n",
       " 864: 'hid',\n",
       " 865: 'concealed',\n",
       " 866: 'streets',\n",
       " 867: 'walls',\n",
       " 868: 'tickles',\n",
       " 869: 'back',\n",
       " 870: 'highest',\n",
       " 871: 'roofs',\n",
       " 872: 'peep',\n",
       " 873: 'fact',\n",
       " 874: 'base',\n",
       " 875: 'accepted',\n",
       " 876: 'unimaginable',\n",
       " 877: 'parents',\n",
       " 878: 'matchless',\n",
       " 879: 'newspaper',\n",
       " 880: 'direct',\n",
       " 881: 'consternation',\n",
       " 882: 'towns',\n",
       " 883: 'professors',\n",
       " 884: 'professor',\n",
       " 885: 'furnished',\n",
       " 886: 'mint',\n",
       " 887: 'struck',\n",
       " 888: 'coin',\n",
       " 889: 'handsome',\n",
       " 890: 'bid',\n",
       " 891: 'farewell',\n",
       " 892: 'card',\n",
       " 893: 'sunny',\n",
       " 894: 'rainy',\n",
       " 895: 'weather',\n",
       " 896: 'extraordinary',\n",
       " 897: '“alas',\n",
       " 898: 'cares',\n",
       " 899: 'desperate',\n",
       " 900: 'heart',\n",
       " 901: 'fat',\n",
       " 902: 'wants',\n",
       " 903: 'tour',\n",
       " 904: 'summer',\n",
       " 905: 'companion',\n",
       " 906: 'pleasure',\n",
       " 907: 'takes',\n",
       " 908: 'enviable',\n",
       " 909: 'state',\n",
       " 910: 'grief',\n",
       " 911: 'torment',\n",
       " 912: 'roses',\n",
       " 913: 'cow',\n",
       " 914: 'friends',\n",
       " 915: 'trembled',\n",
       " 916: 'visited',\n",
       " 917: \"acquaintance'\",\n",
       " 918: 'sake',\n",
       " 919: 'descriptions',\n",
       " 920: 'ought',\n",
       " 921: 'sickness',\n",
       " 922: 'accept',\n",
       " 923: 'offer',\n",
       " 924: 'comrades',\n",
       " 925: 'travelled',\n",
       " 926: 'drove',\n",
       " 927: 'rode',\n",
       " 928: 'care',\n",
       " 929: 'keep',\n",
       " 930: \"master's\",\n",
       " 931: 'kind',\n",
       " 932: 'hearted',\n",
       " 933: 'particularly',\n",
       " 934: 'friendly',\n",
       " 935: '“as',\n",
       " 936: 'companions',\n",
       " 937: 'grown',\n",
       " 938: 'childhood',\n",
       " 939: \"'thou'\",\n",
       " 940: 'straight',\n",
       " 941: 'forward',\n",
       " 942: 'meant',\n",
       " 943: 'manner',\n",
       " 944: 'touch',\n",
       " 945: 'grey',\n",
       " 946: 'paper',\n",
       " 947: 'shiver',\n",
       " 948: 'limb',\n",
       " 949: 'rub',\n",
       " 950: 'pane',\n",
       " 951: 'nail',\n",
       " 952: 'hearing',\n",
       " 953: 'feel',\n",
       " 954: 'pressed',\n",
       " 955: 'earth',\n",
       " 956: 'situation',\n",
       " 957: 'allow',\n",
       " 958: 'done',\n",
       " 959: 'former',\n",
       " 960: '“this',\n",
       " 961: 'rather',\n",
       " 962: 'strangers',\n",
       " 963: 'amongst',\n",
       " 964: 'troubled',\n",
       " 965: 'alarming',\n",
       " 966: 'different',\n",
       " 967: 'cause',\n",
       " 968: 'inquisitive',\n",
       " 969: 'promenades',\n",
       " 970: 'king',\n",
       " 971: 'needed',\n",
       " 972: 'trifles',\n",
       " 973: 'improving',\n",
       " 974: 'considerably',\n",
       " 975: 'clearly',\n",
       " 976: 'decreased',\n",
       " 977: 'happen',\n",
       " 978: 'unusual',\n",
       " 979: 'give',\n",
       " 980: 'finer',\n",
       " 981: 'livery',\n",
       " 982: 'ourselves',\n",
       " 983: 'trimmed',\n",
       " 984: 'somewhat',\n",
       " 985: 'expensive',\n",
       " 986: '“should',\n",
       " 987: 'baths',\n",
       " 988: 'powers',\n",
       " 989: 'begins',\n",
       " 990: 'case',\n",
       " 991: 'us',\n",
       " 992: 'ball',\n",
       " 993: 'lighter',\n",
       " 994: 'partner',\n",
       " 995: 'dance',\n",
       " 996: 'below',\n",
       " 997: 'insinuations',\n",
       " 998: 'astonished',\n",
       " 999: 'wisest',\n",
       " 1000: 'respect',\n",
       " ...}"
      ]
     },
     "execution_count": 151,
     "metadata": {},
     "output_type": "execute_result"
    }
   ],
   "source": [
    "# Muestra las palabras del vocabulario con su token\n",
    "tok.index_word"
   ]
  },
  {
   "cell_type": "code",
   "execution_count": 152,
   "metadata": {
    "id": "WtzINYjWCMf1"
   },
   "outputs": [
    {
     "data": {
      "text/plain": [
       "1250"
      ]
     },
     "execution_count": 152,
     "metadata": {},
     "output_type": "execute_result"
    }
   ],
   "source": [
    "# Cantidad de palabras en el vocabulario\n",
    "vocab_size = len(tok.word_counts)\n",
    "vocab_size"
   ]
  },
  {
   "cell_type": "code",
   "execution_count": 153,
   "metadata": {
    "id": "spTBxmFQc6h8"
   },
   "outputs": [
    {
     "name": "stdout",
     "output_type": "stream",
     "text": [
      "{'the': 1, 'and': 2, 'it': 3, 'a': 4, 'to': 5, 'i': 6, '”': 7, 'in': 8, 'was': 9, 'that': 10, 'he': 11, 'of': 12, 'shadow': 13, 'you': 14, 'is': 15, 'so': 16, 'she': 17, 'said': 18, 'with': 19, 'man': 20, 'but': 21, 'as': 22, 'there': 23, 'had': 24, 'not': 25, 'one': 26, 'for': 27, 'be': 28, 'have': 29, 'on': 30, 'her': 31, 'me': 32, 'they': 33, 'learned': 34, 'will': 35, 'my': 36, 'now': 37, 'at': 38, 'all': 39, 'were': 40, 'must': 41, 'out': 42, 'thou': 43, 'no': 44, 'quite': 45, 'when': 46, 'his': 47, 'what': 48, 'about': 49, 'him': 50, 'came': 51, 'know': 52, 'then': 53, 'do': 54, 'went': 55, 'little': 56, 'from': 57, 'thought': 58, 'could': 59, 'if': 60, 'like': 61, '“i': 62, 'go': 63, 'would': 64, 'say': 65, 'princess': 66, 'evening': 67, 'which': 68, 'who': 69, 'this': 70, 'more': 71, 'up': 72, 'well': 73, '“it': 74, 'always': 75, 'shall': 76, 'by': 77, 'see': 78, 'only': 79, 'cold': 80, 'down': 81, 'again': 82, 'has': 83, 'balcony': 84, 'yes': 85, 'other': 86, 'everything': 87, 'most': 88, 'very': 89, 'am': 90, 'lands': 91, 'become': 92, 'are': 93, 'just': 94, 'home': 95, 'into': 96, 'opposite': 97, 'been': 98, 'saw': 99, 'master': 100, 'much': 101, 'such': 102, 'whole': 103, 'really': 104, 'also': 105, 'warm': 106, 'too': 107, 'door': 108, 'think': 109, 'tell': 110, 'seen': 111, 'old': 112, 'or': 113, 'street': 114, 'sat': 115, 'stood': 116, 'them': 117, 'cannot': 118, 'stranger': 119, 'light': 120, 'away': 121, 'should': 122, 'wall': 123, 'how': 124, 'world': 125, 'we': 126, 'together': 127, 'did': 128, 'sun': 129, 'come': 130, 'room': 131, 'can': 132, 'through': 133, 'over': 134, 'their': 135, 'than': 136, 'good': 137, 'never': 138, '“but': 139, 'match': 140, 'even': 141, 'an': 142, 'long': 143, 'way': 144, '“what': 145, 'beautiful': 146, 'maiden': 147, 'anyone': 148, 'large': 149, 'feet': 150, '“you': 151, 'people': 152, 'burnt': 153, 'house': 154, 'took': 155, 'became': 156, 'lived': 157, 'flowers': 158, \"neighbor's\": 159, 'before': 160, 'behind': 161, 'gone': 162, 'where': 163, 'directly': 164, 'last': 165, 'its': 166, 'made': 167, 'new': 168, 'certainly': 169, 'your': 170, 'our': 171, 'another': 172, 'persons': 173, 'place': 174, 'poor': 175, 'girl': 176, 'mahogany': 177, 'day': 178, 'first': 179, 'still': 180, 'some': 181, 'person': 182, 'strange': 183, 'own': 184, 'knew': 185, 'use': 186, 'true': 187, 'years': 188, 'off': 189, 'things': 190, '“nay': 191, 'sort': 192, 'once': 193, 'here': 194, 'get': 195, 'time': 196, 'take': 197, 'herself': 198, 'year': 199, 'matches': 200, 'against': 201, 'grandmother': 202, 'found': 203, 'high': 204, 'sunshine': 205, 'both': 206, 'above': 207, 'single': 208, 'yet': 209, 'extremely': 210, 'fine': 211, 'got': 212, 'asked': 213, 'open': 214, 'shone': 215, 'ever': 216, 'thing': 217, 'art': 218, 'rose': 219, 'himself': 220, 'great': 221, 'passed': 222, 'many': 223, 'dressed': 224, 'hand': 225, 'common': 226, 'land': 227, 'pay': 228, 'free': 229, 'else': 230, '“and': 231, 'poesy': 232, 'antechamber': 233, 'saloons': 234, 'each': 235, 'myself': 236, 'ran': 237, '“that': 238, 'beard': 239, 'answer': 240, 'fell': 241, 'bundle': 242, 'goose': 243, 'soon': 244, 'obliged': 245, 'within': 246, 'doors': 247, 'window': 248, 'looked': 249, 'fall': 250, 'effect': 251, 'moved': 252, 'thousand': 253, 'lights': 254, 'walked': 255, 'along': 256, 'grew': 257, 'opened': 258, 'music': 259, 'marvellous': 260, 'might': 261, \"didn't\": 262, 'piece': 263, 'same': 264, 'word': 265, 'two': 266, 'itself': 267, 'neighbor': 268, 'woman': 269, 'curtain': 270, 'eyes': 271, 'floor': 272, 'sweet': 273, 'between': 274, 'half': 275, 'look': 276, 'service': 277, 'going': 278, \"don't\": 279, 'read': 280, 'because': 281, 'told': 282, 'talk': 283, 'days': 284, 'three': 285, 'sitting': 286, 'speaking': 287, '“yes': 288, 'clothes': 289, 'neck': 290, 'followed': 291, 'love': 292, 'anything': 293, '“for': 294, 'any': 295, '“how': 296, 'make': 297, 'hear': 298, 'thee': 299, 'speak': 300, 'boots': 301, 'right': 302, 'life': 303, 'formed': 304, 'being': 305, 'servants': 306, 'nor': 307, 'children': 308, 'nature': 309, 'delightfully': 310, 'peeped': 311, 'windows': 312, 'something': 313, 'bad': 314, 'gave': 315, 'live': 316, 'side': 317, 'ill': 318, 'travel': 319, 'travelling': 320, 'watering': 321, 'nothing': 322, 'grow': 323, 'wise': 324, '“he': 325, 'real': 326, 'daughter': 327, 'upon': 328, '“your': 329, 'royal': 330, 'danced': 331, 'country': 332, 'kingdom': 333, 'roast': 334, 'hands': 335, 'stove': 336, 'christmas': 337, 'tree': 338, 'hot': 339, 'burns': 340, 'sure': 341, 'enough': 342, 'brown': 343, 'folks': 344, 'stay': 345, 'slept': 346, 'houses': 347, 'morning': 348, 'till': 349, 'seemed': 350, 'towards': 351, 'began': 352, 'every': 353, 'lively': 354, 'tailors': 355, 'candles': 356, 'burning': 357, 'church': 358, 'bells': 359, 'dingle': 360, 'carriages': 361, 'foreigner': 362, 'water': 363, 'dark': 364, 'heard': 365, 'imagined': 366, 'tiresome': 367, 'jest': 368, 'wife': 369, 'proud': 370, 'splinter': 371, 'excessively': 372, 'night': 373, 'wind': 374, 'lustre': 375, 'crept': 376, 'longer': 377, 'fresh': 378, 'far': 379, 'thoughts': 380, 'ground': 381, 'row': 382, 'does': 383, 'nodded': 384, 'turned': 385, 'round': 386, 'particular': 387, 'after': 388, 'drink': 389, 'actually': 390, 'story': 391, 'without': 392, 'therefore': 393, 'quickly': 394, 'observed': 395, 'joy': 396, 'course': 397, 'weeks': 398, 'fair': 399, 'journey': 400, 'wrote': 401, 'felt': 402, 'gentleman': 403, 'seeing': 404, 'seals': 405, 'thick': 406, 'gold': 407, 'chain': 408, 'around': 409, 'fingers': 410, 'diamond': 411, 'rings': 412, 'recover': 413, 'yourself': 414, 'belong': 415, 'order': 416, 'child': 417, 'brilliant': 418, 'circumstances': 419, 'die': 420, 'wished': 421, 'debt': 422, 'thy': 423, 'sit': 424, 'friend': 425, 'hast': 426, 'promise': 427, '“be': 428, \"man's\": 429, 'cloth': 430, 'already': 431, 'arm': 432, 'work': 433, 'written': 434, 'cried': 435, 'twilight': 436, 'lighted': 437, 'pride': 438, 'knowledge': 439, 'men': 440, 'drinking': 441, 'called': 442, 'regarded': 443, 'familiar': 444, 'father': 445, 'mother': 446, 'whom': 447, '“everything': 448, 'stand': 449, 'moonlight': 450, 'near': 451, 'understand': 452, 'human': 453, 'put': 454, 'women': 455, 'willingly': 456, 'themselves': 457, 'afraid': 458, 'fond': 459, 'goes': 460, 'write': 461, 'expenses': 462, '“there': 463, 'amusing': 464, 'mild': 465, 'proper': 466, 'bear': 467, 'others': 468, 'glass': 469, 'feeling': 470, 'cast': 471, 'entered': 472, 'conversation': 473, 'complaint': 474, 'highness': 475, 'cured': 476, 'given': 477, 'these': 478, 'wonderful': 479, 'leave': 480, 'almost': 481, 'answered': 482, 'believe': 483, '“oh': 484, 'marry': 485, \"king's\": 486, 'nuptials': 487, 'bum': 488, 'naked': 489, 'left': 490, 'slippers': 491, 'held': 492, 'farthing': 493, 'hunger': 494, 'snow': 495, 'corner': 496, 'colder': 497, 'though': 498, 'drew': 499, 'bright': 500, 'flame': 501, 'brass': 502, 'fire': 503, 'burned': 504, 'stretched': 505, 'rubbed': 506, 'magnificent': 507, 'higher': 508, 'god': 509, 'wanted': 510, 'ay': 511, 'hottest': 512, 'negroes': 513, 'run': 514, 'mistake': 515, 'sensible': 516, 'shutters': 517, 'closed': 518, 'narrow': 519, 'built': 520, 'borne': 521, 'young': 522, 'clever': 523, 'glowing': 524, 'oven': 525, 'meagre': 526, 'shrunk': 527, 'freshen': 528, 'balconies': 529, 'air': 530, 'accustomed': 531, 'shoemakers': 532, 'chairs': 533, 'tables': 534, 'brought': 535, 'forth': 536, 'talked': 537, 'sung': 538, 'rang': 539, 'asses': 540, 'dong': 541, 'boys': 542, 'screaming': 543, 'hooting': 544, 'shouting': 545, 'shooting': 546, 'devils': 547, 'detonating': 548, 'balls': 549, 'corpse': 550, 'bearers': 551, 'hood': 552, 'wearers': 553, 'funerals': 554, 'psalm': 555, 'hymn': 556, 'din': 557, 'driving': 558, 'company': 559, 'arriving': 560, 'truth': 561, \"sun's\": 562, 'heat': 563, 'unless': 564, 'watered': 565, 'somebody': 566, 'late': 567, 'least': 568, 'front': 569, 'further': 570, 'sound': 571, \"stranger's\": 572, 'landlord': 573, 'taken': 574, 'appeared': 575, 'practised': 576, \"'i\": 577, \"'\": 578, 'says': 579, 'however': 580, 'plays': 581, 'understood': 582, 'danish': 583, 'having': 584, 'meanings': 585, 'general': 586, 'means': 587, 'reddish': 588, 'wood': 589, 'signifies': 590, '“excessively': 591, 'arose': 592, 'anecdote': 593, 'nyboder': 594, 'copenhagen': 595, \"seamen's\": 596, 'quarter': 597, \"sailor's\": 598, 'complained': 599, 'finger': 600, '“mahogany': 601, 'less': 602, 'exclaimed': 603, 'thence': 604, 'proverb': 605, 'derived': 606, 'awoke': 607, 'raised': 608, 'flames': 609, 'colors': 610, 'midst': 611, 'slender': 612, 'graceful': 613, 'hurt': 614, 'wide': 615, 'awake': 616, 'spring': 617, 'gently': 618, 'blooming': 619, 'ajar': 620, 'sounded': 621, 'soft': 622, 'delightful': 623, 'melt': 624, 'enchantment': 625, 'actual': 626, 'entrance': 627, 'shops': 628, 'running': 629, 'thus': 630, 'natural': 631, 'living': 632, 'sees': 633, '“see': 634, 'nicely': 635, 'sits': 636, 'stands': 637, 'cunning': 638, 'useful': 639, '“have': 640, 'kindness': 641, 'step': 642, '“well': 643, 'paid': 644, 'attention': 645, 'distinctly': 646, 'let': 647, 'next': 648, 'coffee': 649, 'newspapers': 650, 'annoyed': 651, 'known': 652, 'everybody': 653, 'imitating': 654, 'need': 655, 'wisely': 656, 'peter': 657, 'schlemihl': 658, 'shadowless': 659, 'placed': 660, 'screen': 661, 'entice': 662, '“hem': 663, 'hem': 664, 'vexatious': 665, 'grows': 666, 'lapse': 667, 'eight': 668, 'set': 669, 'northern': 670, 'sufficient': 671, 'books': 672, 'gentle': 673, 'knocking': 674, '“come': 675, 'lean': 676, 'rest': 677, 'finely': 678, '“whom': 679, 'honor': 680, 'body': 681, 'flesh': 682, 'return': 683, 'since': 684, 'respects': 685, 'purchase': 686, 'freedom': 687, 'it”': 688, 'rattled': 689, 'bunch': 690, 'valuable': 691, 'hung': 692, 'watch': 693, 'stuck': 694, 'wore': 695, 'nay': 696, 'glittered': 697, 'pure': 698, 'gems': 699, 'surprise': 700, 'meaning': 701, '“something': 702, 'footsteps': 703, 'capable': 704, 'alone': 705, 'desire': 706, 'suppose': 707, 'native': 708, 'oblige': 709, 'saying': 710, 'remarkable': 711, \"one's\": 712, '“tell': 713, 'canst': 714, 'thyself': 715, 'glad': 716, 'fortune': 717, 'wherever': 718, 'may': 719, 'meet': 720, 'town': 721, 'intend': 722, 'betrothed': 723, 'provide': 724, 'family': 725, 'ease': 726, 'bond': 727, '“a': 728, 'astonishing': 729, 'entirely': 730, 'black': 731, 'finest': 732, 'patent': 733, 'leather': 734, 'hat': 735, 'folded': 736, 'bare': 737, 'crown': 738, 'brim': 739, '“now': 740, 'adventures': 741, 'polished': 742, 'heavily': 743, 'lay': 744, 'poodle': 745, 'dog': 746, 'perhaps': 747, 'arrogance': 748, 'kept': 749, 'quiet': 750, '“do': 751, 'charming': 752, 'beings': 753, 'composed': 754, '“poesy': 755, 'often': 756, 'dwells': 757, 'recluse': 758, 'cities': 759, 'short': 760, 'moment': 761, 'sleep': 762, 'aurora': 763, 'borealis': 764, 'shines': 765, 'wert': 766, 'doorway': 767, '“then': 768, 'rooms': 769, 'completely': 770, 'killed': 771, 'circumspect': 772, 'didst': 773, 'part': 774, 'position': 775, 'excellent': 776, 'wish': 777, 'custom': 778, 'denmark': 779, 'intimate': 780, 'acquaintances': 781, 'second': 782, 'singular': 783, '“du': 784, 'friendship': 785, 'generally': 786, 'affirm': 787, 'occasion': 788, 'offers': 789, 'either': 790, 'public': 791, 'private': 792, 'exclaiming': 793, '“thy': 794, 'health': 795, 'striking': 796, 'glasses': 797, '“duus”': 798, '“duus': 799, 'brodre': 800, 'brothers': 801, 'afterwards': 802, 'pronoun': 803, '“thou': 804, '“de': 805, 'sister': 806, 'brother': 807, 'regard': 808, 'age': 809, 'rank': 810, 'mistress': 811, 'superior': 812, 'inferior': 813, 'inferiors': 814, 'term': 815, 'masters': 816, 'superiors': 817, 'used': 818, 'slightly': 819, 'acquainted': 820, 'english': 821, 'beg': 822, 'pardon': 823, 'habit': 824, 'perfectly': 825, 'remember': 826, 'furthest': 827, 'saloon': 828, '“was': 829, 'woods': 830, 'holy': 831, 'starlit': 832, 'firmament': 833, 'mountains': 834, 'remained': 835, 'foremost': 836, 'court': 837, 'gods': 838, 'olden': 839, 'times': 840, 'pass': 841, 'heroes': 842, 'combat': 843, 'play': 844, 'relate': 845, 'dreams': 846, 'conceive': 847, 'besides': 848, 'inward': 849, 'innate': 850, 'qualities': 851, 'relationship': 852, 'strangely': 853, 'distinct': 854, 'revealed': 855, 'matured': 856, 'ashamed': 857, 'want': 858, 'varnish': 859, 'makes': 860, 'perceptible': 861, 'book': 862, 'cake': 863, 'hid': 864, 'concealed': 865, 'streets': 866, 'walls': 867, 'tickles': 868, 'back': 869, 'highest': 870, 'roofs': 871, 'peep': 872, 'fact': 873, 'base': 874, 'accepted': 875, 'unimaginable': 876, 'parents': 877, 'matchless': 878, 'newspaper': 879, 'direct': 880, 'consternation': 881, 'towns': 882, 'professors': 883, 'professor': 884, 'furnished': 885, 'mint': 886, 'struck': 887, 'coin': 888, 'handsome': 889, 'bid': 890, 'farewell': 891, 'card': 892, 'sunny': 893, 'rainy': 894, 'weather': 895, 'extraordinary': 896, '“alas': 897, 'cares': 898, 'desperate': 899, 'heart': 900, 'fat': 901, 'wants': 902, 'tour': 903, 'summer': 904, 'companion': 905, 'pleasure': 906, 'takes': 907, 'enviable': 908, 'state': 909, 'grief': 910, 'torment': 911, 'roses': 912, 'cow': 913, 'friends': 914, 'trembled': 915, 'visited': 916, \"acquaintance'\": 917, 'sake': 918, 'descriptions': 919, 'ought': 920, 'sickness': 921, 'accept': 922, 'offer': 923, 'comrades': 924, 'travelled': 925, 'drove': 926, 'rode': 927, 'care': 928, 'keep': 929, \"master's\": 930, 'kind': 931, 'hearted': 932, 'particularly': 933, 'friendly': 934, '“as': 935, 'companions': 936, 'grown': 937, 'childhood': 938, \"'thou'\": 939, 'straight': 940, 'forward': 941, 'meant': 942, 'manner': 943, 'touch': 944, 'grey': 945, 'paper': 946, 'shiver': 947, 'limb': 948, 'rub': 949, 'pane': 950, 'nail': 951, 'hearing': 952, 'feel': 953, 'pressed': 954, 'earth': 955, 'situation': 956, 'allow': 957, 'done': 958, 'former': 959, '“this': 960, 'rather': 961, 'strangers': 962, 'amongst': 963, 'troubled': 964, 'alarming': 965, 'different': 966, 'cause': 967, 'inquisitive': 968, 'promenades': 969, 'king': 970, 'needed': 971, 'trifles': 972, 'improving': 973, 'considerably': 974, 'clearly': 975, 'decreased': 976, 'happen': 977, 'unusual': 978, 'give': 979, 'finer': 980, 'livery': 981, 'ourselves': 982, 'trimmed': 983, 'somewhat': 984, 'expensive': 985, '“should': 986, 'baths': 987, 'powers': 988, 'begins': 989, 'case': 990, 'us': 991, 'ball': 992, 'lighter': 993, 'partner': 994, 'dance': 995, 'below': 996, 'insinuations': 997, 'astonished': 998, 'wisest': 999, 'respect': 1000, 'remark': 1001, 'pierced': 1002, 'declare': 1003, 'discreet': 1004, 'reign': 1005, 'dances': 1006, 'solid': 1007, 'important': 1008, 'examined': 1009, 'degrees': 1010, 'question': 1011, 'difficult': 1012, 'face': 1013, 'questions': 1014, '“they': 1015, \"childhood's\": 1016, 'learning': 1017, 'indeed': 1018, 'certainty': 1019, 'listened': 1020, 'possible': 1021, 'permit': 1022, 'observe': 1023, 'passing': 1024, 'humor': 1025, 'treated': 1026, 'spoke': 1027, 'moon': 1028, 'wisdom': 1029, 'prudence': 1030, 'blessing': 1031, 'choose': 1032, 'consort': 1033, 'agreed': 1034, 'arrived': 1035, '“no': 1036, 'reigned': 1037, '“listen': 1038, 'happy': 1039, 'mighty': 1040, 'shalt': 1041, 'palace': 1042, 'drive': 1043, 'carriage': 1044, 'ten': 1045, 'pounds': 1046, 'submit': 1047, 'everyone': 1048, 'lie': 1049, 'deceive': 1050, 'reasonable': 1051, 'call': 1052, 'guard': 1053, 'wilt': 1054, 'prison': 1055, 'sentinels': 1056, 'obeyed': 1057, 'tremble': 1058, 'chamber': 1059, '“has': 1060, 'happened': 1061, 'unwell': 1062, 'celebrated': 1063, 'cruel': 1064, '“only': 1065, 'imagine': 1066, 'skull': 1067, 'mad': 1068, 'thinks': 1069, 'terrible': 1070, 'confined': 1071, '“poor': 1072, 'unfortunate': 1073, 'charity': 1074, 'deliver': 1075, 'properly': 1076, 'matter': 1077, 'opinion': 1078, 'necessary': 1079, 'stillness': 1080, 'hard': 1081, 'faithful': 1082, 'servant': 1083, 'sigh': 1084, 'noble': 1085, 'character': 1086, 'city': 1087, 'illuminated': 1088, 'cannons': 1089, 'soldiers': 1090, 'presented': 1091, 'arms': 1092, 'marriage': 1093, 'show': 1094, 'hurrah': 1095, 'deprived': 1096, 'terribly': 1097, 'snowed': 1098, 'nearly': 1099, 'darkness': 1100, 'bareheaded': 1101, 'hitherto': 1102, 'worn': 1103, 'lost': 1104, 'scuffled': 1105, 'across': 1106, 'rolled': 1107, 'dreadfully': 1108, 'fast': 1109, 'slipper': 1110, 'nowhere': 1111, 'laid': 1112, 'hold': 1113, 'urchin': 1114, 'capitally': 1115, 'cradle': 1116, 'tiny': 1117, 'red': 1118, 'blue': 1119, 'carried': 1120, 'quantity': 1121, 'apron': 1122, 'nobody': 1123, 'bought': 1124, 'livelong': 1125, 'trembling': 1126, 'picture': 1127, 'sorrow': 1128, 'flakes': 1129, 'covered': 1130, 'hair': 1131, 'curls': 1132, 'gleaming': 1133, 'smelt': 1134, 'deliciously': 1135, \"year's\": 1136, 'eve': 1137, 'advanced': 1138, 'seated': 1139, 'cowered': 1140, 'drawn': 1141, 'close': 1142, 'venture': 1143, 'sold': 1144, 'bring': 1145, 'money': 1146, 'blows': 1147, 'roof': 1148, 'whistled': 1149, 'largest': 1150, 'cracks': 1151, 'stopped': 1152, 'straw': 1153, 'rags': 1154, 'numbed': 1155, 'oh': 1156, 'afford': 1157, 'comfort': 1158, 'dared': 1159, 'draw': 1160, '“rischt': 1161, 'blazed': 1162, 'candle': 1163, 'iron': 1164, 'burnished': 1165, 'ornament': 1166, 'top': 1167, 'blessed': 1168, 'influence': 1169, 'warmed': 1170, 'small': 1171, 'vanished': 1172, 'remains': 1173, 'brightly': 1174, 'transparent': 1175, 'veil': 1176, 'table': 1177, 'spread': 1178, 'white': 1179, 'tablecloth': 1180, 'splendid': 1181, 'porcelain': 1182, 'steaming': 1183, 'famously': 1184, 'stuffing': 1185, 'apple': 1186, 'dried': 1187, 'plums': 1188, 'capital': 1189, 'behold': 1190, 'hopped': 1191, 'dish': 1192, 'reeled': 1193, 'knife': 1194, 'fork': 1195, 'breast': 1196, 'damp': 1197, 'under': 1198, 'larger': 1199, 'decorated': 1200, 'rich': 1201, \"merchant's\": 1202, 'thousands': 1203, 'green': 1204, 'branches': 1205, 'gaily': 1206, 'colored': 1207, 'pictures': 1208, 'shop': 1209, 'stars': 1210, 'heaven': 1211, 'trail': 1212, '“someone': 1213, 'dead': 1214, 'loved': 1215, 'star': 1216, 'falls': 1217, 'soul': 1218, 'ascends': 1219, 'radiant': 1220, 'expression': 1221, '“grandmother': 1222, 'vanish': 1223, 'delicious': 1224, 'keeping': 1225, 'brighter': 1226, 'noon': 1227, 'formerly': 1228, 'tall': 1229, 'flew': 1230, 'brightness': 1231, 'neither': 1232, 'anxiety': 1233, 'hour': 1234, 'dawn': 1235, 'rosy': 1236, 'cheeks': 1237, 'smiling': 1238, 'mouth': 1239, 'leaning': 1240, 'frozen': 1241, 'death': 1242, 'stiff': 1243, 'stark': 1244, '“she': 1245, 'slightest': 1246, 'suspicion': 1247, 'dreamed': 1248, 'splendor': 1249, 'joys': 1250}\n"
     ]
    }
   ],
   "source": [
    "\"\"\"\n",
    "El índice para cada palabra\n",
    "El sistema las ordena de las más populares a las menos populares\n",
    "\"\"\"\n",
    "print(tok.word_index)"
   ]
  },
  {
   "cell_type": "code",
   "execution_count": 154,
   "metadata": {
    "id": "nUDkjy80c77h"
   },
   "outputs": [
    {
     "name": "stdout",
     "output_type": "stream",
     "text": [
      "defaultdict(<class 'int'>, {'a': 85, 'that': 65, 'people': 6, 'in': 77, 'brown': 2, 'hottest': 1, 'burnt': 6, 'they': 23, 'ay': 1, 'sure': 2, 'mahogany': 5, 'are': 11, 'is': 44, 'enough': 2, 'lands': 10, 'it': 90, 'sun': 7, 'the': 171, 'negroes': 1, 'to': 86, 'hot': 2, 'there': 36, 'quite': 20, 'and': 119, 'become': 10, 'burns': 2, 'found': 4, 'now': 24, 'mistake': 1, 'when': 20, 'had': 34, 'only': 10, 'he': 45, 'cold': 12, 'at': 22, 'home': 10, 'from': 17, 'come': 7, 'man': 49, 'his': 18, 'soon': 3, 'thought': 17, 'but': 47, 'learned': 32, 'out': 21, 'as': 41, 'run': 1, 'about': 19, 'just': 11, 'was': 67, 'could': 15, 'within': 3, 'sensible': 1, 'shutters': 1, 'doors': 2, 'all': 23, 'or': 8, 'window': 3, 'day': 5, 'no': 19, 'slept': 2, 'were': 20, 'if': 16, 'one': 38, 'looked': 3, 'closed': 1, 'obliged': 3, 'whole': 9, 'house': 6, 'stay': 2, 'folks': 2, 'really': 10, 'houses': 2, 'till': 2, 'so': 46, 'narrow': 1, 'fall': 3, 'built': 1, 'high': 3, 'borne': 1, 'must': 20, 'not': 39, 'morning': 2, 'evening': 13, 'be': 34, 'street': 7, 'sunshine': 4, 'with': 45, 'meagre': 1, 'shrunk': 1, 'oven': 1, 'an': 7, 'for': 35, 'glowing': 1, 'even': 7, 'sat': 9, 'shadow': 65, 'young': 1, 'effect': 2, 'him': 18, 'clever': 1, 'took': 5, 'on': 33, 'also': 9, 'became': 5, 'seemed': 2, 'freshen': 1, 'again': 12, 'down': 12, 'first': 5, 'up': 11, 'towards': 2, 'began': 2, 'balconies': 1, 'came': 20, 'every': 2, 'warm': 10, 'both': 4, 'has': 12, 'balcony': 12, 'air': 1, 'lively': 2, 'accustomed': 1, 'have': 35, 'shoemakers': 1, 'chairs': 1, 'brought': 1, 'burning': 2, 'yes': 11, 'sung': 1, 'bells': 1, 'rang': 1, 'along': 3, 'into': 10, 'too': 10, 'thousand': 3, 'tailors': 2, 'went': 17, 'dingle': 1, 'asses': 1, 'above': 4, 'candles': 2, 'tables': 1, 'walked': 3, 'forth': 1, 'moved': 2, 'lights': 3, 'talked': 1, 'dong': 1, 'church': 2, 'other': 11, 'then': 18, 'shooting': 1, 'funerals': 1, 'din': 1, 'detonating': 1, 'balls': 1, 'arriving': 1, 'carriages': 2, 'truth': 1, 'corpse': 1, 'devils': 1, 'boys': 1, 'bearers': 1, 'hood': 1, 'hymn': 1, 'driving': 1, 'of': 61, 'hooting': 1, 'screaming': 1, 'wearers': 1, 'psalm': 1, 'company': 1, 'shouting': 1, 'somebody': 1, \"sun's\": 1, 'foreigner': 2, 'yet': 4, 'stood': 8, 'do': 17, 'well': 13, 'water': 2, 'lived': 5, 'them': 9, 'still': 5, 'flowers': 5, 'watered': 1, 'unless': 1, 'single': 4, 'heat': 1, 'grew': 3, 'some': 4, 'which': 13, 'opposite': 11, 'least': 1, 'room': 8, 'further': 1, 'door': 10, 'dark': 2, 'sound': 1, 'front': 1, 'music': 3, 'opened': 3, 'heard': 2, 'late': 1, 'everything': 9, 'might': 3, 'been': 11, 'imagined': 2, 'marvellous': 2, \"didn't\": 3, 'extremely': 4, 'who': 12, 'appeared': 1, 'saw': 8, 'taken': 1, 'person': 5, \"stranger's\": 1, 'know': 19, 'said': 59, 'tiresome': 2, 'landlord': 1, 'practised': 1, 'piece': 2, 'master': 9, 'same': 3, '“it': 13, 'always': 13, 'says': 1, \"'\": 1, 'long': 7, 'cannot': 9, \"'i\": 1, 'shall': 12, 'plays': 1, 'however': 1, '”': 84, 'having': 1, 'word': 3, 'can': 8, 'danish': 1, 'meanings': 1, 'understood': 1, 'two': 3, 'anecdote': 1, 'nyboder': 1, 'signifies': 1, 'fine': 4, 'wood': 1, 'quarter': 1, 'reddish': 1, \"seamen's\": 1, 'jest': 2, '“excessively': 1, 'itself': 3, 'general': 1, 'arose': 1, 'means': 1, 'copenhagen': 1, 'she': 36, 'wife': 2, 'proud': 2, 'complained': 1, 'her': 24, 'got': 4, 'splinter': 2, 'neighbor': 3, 'way': 6, 'finger': 1, \"sailor's\": 1, 'asked': 4, \"neighbor's\": 6, '“what': 7, 'excessively': 2, 'woman': 2, 'you': 36, 'less': 1, 'derived': 1, 'exclaimed': 1, 'proverb': 1, '“mahogany': 1, 'thence': 1, 'awoke': 1, 'eyes': 3, 'open': 4, 'before': 6, 'wind': 2, 'by': 13, 'stranger': 8, 'like': 15, 'shone': 3, 'midst': 1, 'flames': 1, 'raised': 1, 'slender': 1, 'light': 9, 'hurt': 1, 'colors': 1, 'strange': 5, 'most': 11, 'lustre': 2, 'beautiful': 7, 'maiden': 7, 'graceful': 1, 'night': 2, 'curtain': 3, 'delightful': 1, 'sounded': 1, 'behind': 6, 'awake': 1, 'ajar': 1, 'melt': 1, 'floor': 3, 'sweet': 3, 'longer': 2, 'spring': 1, 'gone': 6, 'far': 2, 'soft': 1, 'thoughts': 2, 'ever': 4, 'fresh': 2, 'gently': 1, 'wide': 1, 'away': 9, 'crept': 2, 'blooming': 1, 'enchantment': 1, 'entrance': 1, 'through': 8, 'row': 2, 'actual': 1, 'ground': 2, 'running': 1, 'shops': 1, 'where': 6, 'natural': 1, 'thus': 1, 'wall': 7, 'should': 9, 'between': 3, 'directly': 6, 'does': 2, 'over': 8, 'sees': 1, 'think': 8, 'living': 1, 'thing': 4, '“i': 17, 'my': 24, '“see': 1, 'how': 8, 'sits': 1, 'nicely': 1, 'me': 25, 'seen': 10, 'half': 3, 'look': 3, 'stands': 1, 'what': 16, 'tell': 10, 'go': 14, 'cunning': 1, 'useful': 1, 'service': 3, 'kindness': 1, 'step': 1, '“have': 1, 'thou': 17, 'art': 3, 'nodded': 1, 'going': 2, \"don't\": 3, '“well': 1, 'round': 1, 'turned': 1, 'rose': 3, 'let': 1, 'distinctly': 1, 'after': 2, 'would': 15, 'paid': 1, 'attention': 1, 'own': 5, 'particular': 2, 'their': 8, 'anyone': 7, 'next': 1, 'read': 3, 'newspapers': 1, 'coffee': 1, 'drink': 2, 'last': 6, 'actually': 2, 'story': 2, 'annoyed': 1, 'because': 2, 'without': 2, 'much': 11, 'knew': 4, 'this': 12, 'imitating': 1, 'need': 1, 'say': 14, 'everybody': 1, 'told': 3, 'known': 1, 'wisely': 1, 'therefore': 2, 'talk': 3, 'peter': 1, 'shadowless': 1, 'schlemihl': 1, 'screen': 1, 'its': 5, 'entice': 1, 'placed': 1, 'himself': 3, 'made': 5, 'little': 18, 'great': 4, 'use': 5, 'hem': 1, '“hem': 1, 'eight': 1, 'new': 5, 'lapse': 1, 'days': 3, 'observed': 2, 'quickly': 2, 'grows': 1, 'vexatious': 1, 'joy': 2, 'than': 8, 'course': 2, 'three': 2, 'weeks': 2, 'sufficient': 1, 'large': 6, 'northern': 1, 'more': 12, 'set': 1, 'fair': 2, 'journey': 2, 'very': 12, 'passed': 3, 'world': 9, 'books': 1, 'years': 4, 'true': 5, 'wrote': 2, 'good': 8, 'many': 4, 'sitting': 3, 'gentle': 1, 'knocking': 1, 'felt': 2, 'such': 11, '“come': 1, 'lean': 1, 'gentleman': 2, 'rest': 1, 'dressed': 3, 'finely': 1, 'i': 62, '“whom': 1, 'honor': 1, 'speaking': 3, '“yes': 3, 'body': 1, 'flesh': 1, 'clothes': 3, 'never': 8, 'seeing': 2, 'certainly': 6, 'off': 5, 'your': 6, 'return': 1, 'old': 10, 'things': 5, 'since': 1, 'respects': 1, 'gold': 2, 'around': 2, 'valuable': 1, 'neck': 3, 'diamond': 2, 'thick': 2, 'it”': 1, 'bunch': 1, 'chain': 2, 'watch': 1, 'nay': 1, 'seals': 2, 'glittered': 1, 'stuck': 1, 'purchase': 1, 'rattled': 1, 'hand': 4, 'hung': 1, 'freedom': 1, 'pure': 1, 'gems': 1, 'rings': 2, 'fingers': 2, 'wore': 1, 'surprise': 1, 'recover': 2, '“nay': 5, '“something': 1, 'common': 3, 'meaning': 1, 'child': 2, 'followed': 3, 'footsteps': 1, 'order': 2, 'belong': 2, '“but': 8, 'yourself': 2, 'alone': 1, 'capable': 1, 'we': 7, 'love': 3, 'once': 5, 'will': 20, 'suppose': 1, 'our': 6, 'wished': 2, 'land': 2, 'am': 11, 'brilliant': 2, 'circumstances': 2, 'desire': 1, 'sort': 5, 'die': 1, 'see': 11, 'native': 1, 'pay': 4, 'oblige': 1, 'saying': 1, 'another': 6, 'anything': 3, \"one's\": 1, 'remarkable': 1, 'debt': 2, '“tell': 1, 'any': 3, '“for': 3, '“how': 3, 'canst': 1, 'free': 4, 'make': 3, 'thyself': 1, 'else': 3, 'thy': 2, 'hast': 2, 'friend': 2, 'glad': 1, 'fortune': 1, 'hear': 3, 'thee': 2, 'sit': 2, 'may': 1, 'meet': 1, 'wherever': 1, 'here': 5, 'town': 1, 'promise': 2, 'provide': 1, 'family': 1, 'get': 5, 'intend': 1, 'betrothed': 1, \"man's\": 2, 'bond': 1, 'ease': 1, '“be': 2, '“and': 4, '“a': 1, 'speak': 3, 'astonishing': 1, 'bare': 1, 'folded': 1, 'patent': 1, 'brim': 1, 'entirely': 1, 'hat': 1, 'already': 2, 'together': 8, 'leather': 1, 'crown': 1, 'finest': 1, 'cloth': 2, 'black': 1, 'boots': 3, 'dog': 1, 'lay': 1, '“now': 1, 'feet': 7, 'polished': 1, 'heavily': 1, 'poodle': 1, 'arm': 2, 'adventures': 1, 'work': 2, 'kept': 1, 'arrogance': 1, 'perhaps': 1, 'quiet': 1, '“do': 1, 'poesy': 4, 'beings': 1, 'right': 3, 'composed': 1, 'charming': 1, 'written': 2, '“poesy': 1, 'cried': 2, 'cities': 1, 'aurora': 1, 'short': 1, 'shines': 1, 'sleep': 1, 'borealis': 1, 'moment': 1, 'dwells': 1, 'recluse': 1, 'often': 1, 'wert': 1, 'doorway': 1, 'antechamber': 4, '“then': 1, '“you': 7, 'twilight': 2, 'lighted': 2, 'rooms': 1, 'saloons': 4, 'time': 4, 'completely': 1, 'circumspect': 1, 'killed': 1, 'didst': 1, '“du': 1, 'life': 3, 'singular': 1, 'knowledge': 2, 'part': 1, 'excellent': 1, 'pride': 2, 'second': 1, 'intimate': 1, 'denmark': 1, 'each': 4, 'acquaintances': 1, 'position': 1, 'wish': 1, 'custom': 1, 'men': 2, '“thy': 1, 'striking': 1, 'health': 1, 'public': 1, 'offers': 1, 'exclaiming': 1, 'friendship': 1, 'either': 1, 'private': 1, 'occasion': 1, 'affirm': 1, 'formed': 3, 'drinking': 2, 'glasses': 1, 'generally': 1, 'familiar': 2, '“duus”': 1, 'brodre': 1, '“thou': 1, 'pronoun': 1, '“de': 1, 'afterwards': 1, 'brothers': 1, 'being': 3, 'regarded': 2, 'called': 2, '“duus': 1, 'regard': 1, 'age': 1, 'rank': 1, 'brother': 1, 'mother': 2, 'sister': 1, 'father': 2, 'inferior': 1, 'servants': 3, 'superior': 1, 'mistress': 1, 'term': 1, 'inferiors': 1, 'used': 1, 'acquainted': 1, 'superiors': 1, 'nor': 2, 'whom': 2, 'english': 1, 'masters': 1, 'slightly': 1, 'habit': 1, 'beg': 1, 'pardon': 1, '“everything': 2, 'perfectly': 1, 'remember': 1, 'furthest': 1, 'did': 5, 'saloon': 1, 'mountains': 1, 'holy': 1, 'woods': 1, '“was': 1, 'stand': 2, 'starlit': 1, 'firmament': 1, 'remained': 1, 'court': 1, 'foremost': 1, 'gods': 1, 'pass': 1, 'heroes': 1, 'olden': 1, 'conceive': 1, 'dreams': 1, 'combat': 1, 'play': 1, 'times': 1, 'relate': 1, 'children': 3, 'inward': 1, 'besides': 1, 'relationship': 1, 'qualities': 1, 'nature': 3, 'innate': 1, 'ashamed': 1, 'near': 2, 'strangely': 1, 'understand': 2, 'revealed': 1, 'distinct': 1, 'moonlight': 2, 'matured': 1, 'human': 2, 'varnish': 1, 'makes': 1, 'perceptible': 1, 'want': 1, 'concealed': 1, 'hid': 1, 'book': 1, 'put': 2, 'cake': 1, 'myself': 4, 'back': 1, 'accepted': 1, 'peeped': 2, 'highest': 1, 'peep': 1, 'willingly': 2, 'something': 3, 'walls': 1, 'bad': 3, 'matchless': 1, 'roofs': 1, 'streets': 1, 'ran': 2, 'parents': 1, 'base': 1, 'women': 2, 'unimaginable': 1, 'windows': 3, 'fact': 1, 'delightfully': 3, 'tickles': 1, 'newspaper': 1, 'direct': 1, 'towns': 1, 'consternation': 1, 'persons': 6, 'themselves': 2, 'fond': 2, 'afraid': 2, 'furnished': 1, 'professors': 1, 'mint': 1, 'gave': 3, 'struck': 1, 'professor': 1, 'coin': 1, 'handsome': 1, 'farewell': 1, 'bid': 1, 'sunny': 1, 'weather': 1, 'rainy': 1, 'card': 1, 'side': 2, 'live': 3, '“that': 4, 'extraordinary': 1, 'goes': 2, '“alas': 1, 'take': 5, 'cares': 1, 'write': 2, 'desperate': 1, 'heart': 1, 'fat': 1, 'wants': 1, 'ill': 3, 'pleasure': 1, 'summer': 1, 'tour': 1, 'travel': 3, 'travelling': 2, 'companion': 1, 'expenses': 2, 'takes': 1, 'grief': 1, 'torment': 1, 'enviable': 1, 'roses': 1, 'cow': 1, 'state': 1, 'trembled': 1, 'friends': 1, 'place': 5, 'visited': 1, 'watering': 3, 'wise': 3, \"master's\": 1, 'descriptions': 1, 'comrades': 1, 'grow': 3, 'offer': 1, 'beard': 3, 'rode': 1, 'nothing': 3, 'amusing': 2, 'ought': 1, '“there': 2, 'sake': 1, 'drove': 1, 'accept': 1, \"acquaintance'\": 1, 'care': 1, 'sickness': 1, 'travelled': 1, 'keep': 1, 'particularly': 1, '“as': 1, 'kind': 1, \"'thou'\": 1, 'grown': 1, 'mild': 2, 'proper': 2, 'childhood': 1, 'friendly': 1, 'companions': 1, 'hearted': 1, 'manner': 1, 'straight': 1, 'forward': 1, 'meant': 1, 'situation': 1, 'grey': 1, 'nail': 1, 'paper': 1, 'feeling': 2, 'hearing': 1, 'pane': 1, 'feel': 1, 'shiver': 1, 'others': 2, 'glass': 2, 'earth': 1, 'limb': 1, 'pressed': 1, 'bear': 2, 'rub': 1, 'touch': 1, 'former': 1, 'done': 1, 'allow': 1, '“this': 1, 'rather': 1, 'cause': 1, 'alarming': 1, 'strangers': 1, 'cast': 2, 'amongst': 1, 'real': 3, '“he': 3, 'troubled': 1, 'princess': 16, 'different': 1, 'inquisitive': 1, 'entered': 2, 'promenades': 1, 'conversation': 2, 'royal': 3, 'considerably': 1, 'trifles': 1, 'king': 1, 'decreased': 1, 'cured': 2, 'upon': 3, 'highness': 2, 'complaint': 1, 'clearly': 1, 'improving': 1, 'daughter': 3, 'needed': 1, '“your': 2, 'happen': 1, 'unusual': 1, 'give': 1, 'ourselves': 1, 'livery': 1, 'finer': 1, 'given': 2, 'trimmed': 1, 'somewhat': 1, 'expensive': 1, 'these': 2, 'powers': 1, 'baths': 1, 'wonderful': 2, '“should': 1, 'begins': 1, 'leave': 2, 'us': 1, 'ball': 1, 'case': 1, 'danced': 3, 'lighter': 1, 'partner': 1, 'dance': 1, 'fell': 4, 'respect': 1, 'almost': 2, 'insinuations': 1, 'wisest': 1, 'answer': 4, 'astonished': 1, 'below': 1, 'pierced': 1, 'remark': 1, 'reign': 1, 'country': 3, 'herself': 5, 'declare': 1, 'kingdom': 2, 'discreet': 1, 'dances': 1, 'important': 1, 'examined': 1, 'solid': 1, 'answered': 2, 'question': 1, 'difficult': 1, 'face': 1, 'degrees': 1, 'questions': 1, 'learning': 1, '“they': 1, \"childhood's\": 1, 'believe': 2, 'listened': 1, 'possible': 1, 'certainty': 1, 'indeed': 1, 'observe': 1, 'treated': 1, 'permit': 1, 'humor': 1, 'passing': 1, '“oh': 2, 'spoke': 1, 'wisdom': 1, 'prudence': 1, 'moon': 1, 'blessing': 1, 'consort': 1, 'agreed': 1, 'choose': 1, 'arrived': 1, '“no': 1, 'reigned': 1, '“listen': 1, 'ten': 1, 'everyone': 1, \"king's\": 2, 'shalt': 1, 'drive': 1, 'mighty': 1, 'happy': 1, 'year': 4, 'submit': 1, 'marry': 2, 'carriage': 1, 'lie': 1, 'palace': 1, 'nuptials': 2, 'pounds': 1, 'deceive': 1, 'reasonable': 1, 'guard': 1, 'call': 1, 'prison': 1, 'wilt': 1, 'obeyed': 1, 'sentinels': 1, 'tremble': 1, 'chamber': 1, 'celebrated': 1, 'unwell': 1, 'happened': 1, '“has': 1, 'cruel': 1, 'imagine': 1, 'poor': 6, 'thinks': 1, 'confined': 1, 'skull': 1, '“only': 1, 'terrible': 1, 'mad': 1, '“poor': 1, 'servant': 1, 'unfortunate': 1, 'necessary': 1, 'stillness': 1, 'faithful': 1, 'opinion': 1, 'matter': 1, 'sigh': 1, 'hard': 1, 'charity': 1, 'properly': 1, 'deliver': 1, 'character': 1, 'noble': 1, 'soldiers': 1, 'cannons': 1, 'presented': 1, 'illuminated': 1, 'arms': 1, 'bum': 1, 'city': 1, 'deprived': 1, 'show': 1, 'marriage': 1, 'hurrah': 1, 'match': 8, 'nearly': 1, 'girl': 6, 'snowed': 1, 'terribly': 1, 'bareheaded': 1, 'naked': 2, 'darkness': 1, 'across': 1, 'worn': 1, 'slippers': 1, 'rolled': 1, 'hitherto': 1, 'dreadfully': 1, 'fast': 1, 'left': 2, 'scuffled': 1, 'lost': 1, 'cradle': 1, 'urchin': 1, 'capitally': 1, 'slipper': 1, 'hold': 1, 'nowhere': 1, 'laid': 1, 'red': 1, 'blue': 1, 'tiny': 1, 'bundle': 4, 'carried': 1, 'apron': 1, 'held': 2, 'matches': 5, 'quantity': 1, 'livelong': 1, 'farthing': 2, 'bought': 1, 'nobody': 1, 'sorrow': 1, 'curls': 1, 'trembling': 1, 'picture': 1, 'covered': 1, 'snow': 2, 'flakes': 1, 'hair': 1, 'hunger': 2, 'deliciously': 1, 'roast': 3, 'smelt': 1, 'gleaming': 1, 'goose': 4, \"year's\": 1, 'eve': 1, 'cowered': 1, 'corner': 2, 'seated': 1, 'advanced': 1, 'bring': 1, 'cracks': 1, 'stopped': 1, 'sold': 1, 'though': 2, 'blows': 1, 'whistled': 1, 'largest': 1, 'rags': 1, 'straw': 1, 'venture': 1, 'roof': 1, 'money': 1, 'close': 1, 'colder': 1, 'drawn': 1, 'hands': 3, 'numbed': 1, 'against': 5, 'dared': 1, 'comfort': 1, 'draw': 1, 'oh': 1, 'afford': 1, 'drew': 2, 'blazed': 1, 'bright': 2, 'candle': 1, '“rischt': 1, 'flame': 2, 'ornament': 1, 'iron': 1, 'brass': 1, 'burnished': 1, 'stove': 3, 'top': 1, 'warmed': 1, 'influence': 1, 'burned': 2, 'fire': 2, 'blessed': 1, 'remains': 1, 'small': 1, 'stretched': 2, 'vanished': 1, 'brightly': 1, 'transparent': 1, 'veil': 1, 'rubbed': 2, 'tablecloth': 1, 'steaming': 1, 'famously': 1, 'porcelain': 1, 'splendid': 1, 'spread': 1, 'dried': 1, 'stuffing': 1, 'apple': 1, 'white': 1, 'plums': 1, 'table': 1, 'capital': 1, 'knife': 1, 'damp': 1, 'hopped': 1, 'behold': 1, 'breast': 1, 'fork': 1, 'reeled': 1, 'dish': 1, \"merchant's\": 1, 'magnificent': 2, 'decorated': 1, 'christmas': 3, 'rich': 1, 'under': 1, 'tree': 3, 'larger': 1, 'branches': 1, 'gaily': 1, 'shop': 1, 'pictures': 1, 'colored': 1, 'thousands': 1, 'green': 1, 'higher': 1, 'heaven': 1, 'trail': 1, 'stars': 1, 'star': 1, 'god': 2, 'ascends': 1, 'falls': 1, 'grandmother': 5, '“someone': 1, 'loved': 1, 'dead': 1, 'soul': 1, 'radiant': 1, 'expression': 1, '“grandmother': 1, 'wanted': 2, 'vanish': 1, 'delicious': 1, 'keeping': 1, 'formerly': 1, 'brighter': 1, 'noon': 1, 'tall': 1, 'flew': 1, 'neither': 1, 'anxiety': 1, 'brightness': 1, 'death': 1, 'mouth': 1, 'leaning': 1, 'dawn': 1, 'smiling': 1, 'rosy': 1, 'cheeks': 1, 'frozen': 1, 'hour': 1, 'stiff': 1, 'stark': 1, '“she': 1, 'slightest': 1, 'dreamed': 1, 'suspicion': 1, 'splendor': 1, 'joys': 1})\n"
     ]
    }
   ],
   "source": [
    "\"\"\"\n",
    "Cantidad de veces quea aparece cada palabra en cada \"documento\"\n",
    "(1 documento = 1 caso de entrada)\n",
    "\"\"\"\n",
    "print(tok.word_docs)"
   ]
  },
  {
   "cell_type": "markdown",
   "metadata": {
    "id": "uYfhWVLLzKVO"
   },
   "source": [
    "\n",
    "### Definir el modelo"
   ]
  },
  {
   "cell_type": "code",
   "execution_count": 155,
   "metadata": {
    "id": "5UXA5hQfWVX1"
   },
   "outputs": [
    {
     "name": "stderr",
     "output_type": "stream",
     "text": [
      "c:\\Users\\fabri\\AppData\\Local\\Programs\\Python\\Python311\\Lib\\site-packages\\keras\\src\\layers\\core\\embedding.py:93: UserWarning: Do not pass an `input_shape`/`input_dim` argument to a layer. When using Sequential models, prefer using an `Input(shape)` object as the first layer in the model instead.\n",
      "  super().__init__(**kwargs)\n"
     ]
    },
    {
     "data": {
      "text/html": [
       "<pre style=\"white-space:pre;overflow-x:auto;line-height:normal;font-family:Menlo,'DejaVu Sans Mono',consolas,'Courier New',monospace\"><span style=\"font-weight: bold\">Model: \"sequential_3\"</span>\n",
       "</pre>\n"
      ],
      "text/plain": [
       "\u001b[1mModel: \"sequential_3\"\u001b[0m\n"
      ]
     },
     "metadata": {},
     "output_type": "display_data"
    },
    {
     "data": {
      "text/html": [
       "<pre style=\"white-space:pre;overflow-x:auto;line-height:normal;font-family:Menlo,'DejaVu Sans Mono',consolas,'Courier New',monospace\">┏━━━━━━━━━━━━━━━━━━━━━━━━━━━━━━━━━┳━━━━━━━━━━━━━━━━━━━━━━━━┳━━━━━━━━━━━━━━━┓\n",
       "┃<span style=\"font-weight: bold\"> Layer (type)                    </span>┃<span style=\"font-weight: bold\"> Output Shape           </span>┃<span style=\"font-weight: bold\">       Param # </span>┃\n",
       "┡━━━━━━━━━━━━━━━━━━━━━━━━━━━━━━━━━╇━━━━━━━━━━━━━━━━━━━━━━━━╇━━━━━━━━━━━━━━━┩\n",
       "│ embedding_3 (<span style=\"color: #0087ff; text-decoration-color: #0087ff\">Embedding</span>)         │ (<span style=\"color: #00d7ff; text-decoration-color: #00d7ff\">None</span>, <span style=\"color: #00d7ff; text-decoration-color: #00d7ff\">None</span>, <span style=\"color: #00af00; text-decoration-color: #00af00\">50</span>)       │        <span style=\"color: #00af00; text-decoration-color: #00af00\">62,550</span> │\n",
       "├─────────────────────────────────┼────────────────────────┼───────────────┤\n",
       "│ lstm_4 (<span style=\"color: #0087ff; text-decoration-color: #0087ff\">LSTM</span>)                   │ (<span style=\"color: #00d7ff; text-decoration-color: #00d7ff\">None</span>, <span style=\"color: #00d7ff; text-decoration-color: #00d7ff\">None</span>, <span style=\"color: #00af00; text-decoration-color: #00af00\">100</span>)      │        <span style=\"color: #00af00; text-decoration-color: #00af00\">60,400</span> │\n",
       "├─────────────────────────────────┼────────────────────────┼───────────────┤\n",
       "│ lstm_5 (<span style=\"color: #0087ff; text-decoration-color: #0087ff\">LSTM</span>)                   │ (<span style=\"color: #00d7ff; text-decoration-color: #00d7ff\">None</span>, <span style=\"color: #00d7ff; text-decoration-color: #00d7ff\">None</span>, <span style=\"color: #00af00; text-decoration-color: #00af00\">100</span>)      │        <span style=\"color: #00af00; text-decoration-color: #00af00\">80,400</span> │\n",
       "├─────────────────────────────────┼────────────────────────┼───────────────┤\n",
       "│ dense_3 (<span style=\"color: #0087ff; text-decoration-color: #0087ff\">Dense</span>)                 │ (<span style=\"color: #00d7ff; text-decoration-color: #00d7ff\">None</span>, <span style=\"color: #00d7ff; text-decoration-color: #00d7ff\">None</span>, <span style=\"color: #00af00; text-decoration-color: #00af00\">1251</span>)     │       <span style=\"color: #00af00; text-decoration-color: #00af00\">126,351</span> │\n",
       "└─────────────────────────────────┴────────────────────────┴───────────────┘\n",
       "</pre>\n"
      ],
      "text/plain": [
       "┏━━━━━━━━━━━━━━━━━━━━━━━━━━━━━━━━━┳━━━━━━━━━━━━━━━━━━━━━━━━┳━━━━━━━━━━━━━━━┓\n",
       "┃\u001b[1m \u001b[0m\u001b[1mLayer (type)                   \u001b[0m\u001b[1m \u001b[0m┃\u001b[1m \u001b[0m\u001b[1mOutput Shape          \u001b[0m\u001b[1m \u001b[0m┃\u001b[1m \u001b[0m\u001b[1m      Param #\u001b[0m\u001b[1m \u001b[0m┃\n",
       "┡━━━━━━━━━━━━━━━━━━━━━━━━━━━━━━━━━╇━━━━━━━━━━━━━━━━━━━━━━━━╇━━━━━━━━━━━━━━━┩\n",
       "│ embedding_3 (\u001b[38;5;33mEmbedding\u001b[0m)         │ (\u001b[38;5;45mNone\u001b[0m, \u001b[38;5;45mNone\u001b[0m, \u001b[38;5;34m50\u001b[0m)       │        \u001b[38;5;34m62,550\u001b[0m │\n",
       "├─────────────────────────────────┼────────────────────────┼───────────────┤\n",
       "│ lstm_4 (\u001b[38;5;33mLSTM\u001b[0m)                   │ (\u001b[38;5;45mNone\u001b[0m, \u001b[38;5;45mNone\u001b[0m, \u001b[38;5;34m100\u001b[0m)      │        \u001b[38;5;34m60,400\u001b[0m │\n",
       "├─────────────────────────────────┼────────────────────────┼───────────────┤\n",
       "│ lstm_5 (\u001b[38;5;33mLSTM\u001b[0m)                   │ (\u001b[38;5;45mNone\u001b[0m, \u001b[38;5;45mNone\u001b[0m, \u001b[38;5;34m100\u001b[0m)      │        \u001b[38;5;34m80,400\u001b[0m │\n",
       "├─────────────────────────────────┼────────────────────────┼───────────────┤\n",
       "│ dense_3 (\u001b[38;5;33mDense\u001b[0m)                 │ (\u001b[38;5;45mNone\u001b[0m, \u001b[38;5;45mNone\u001b[0m, \u001b[38;5;34m1251\u001b[0m)     │       \u001b[38;5;34m126,351\u001b[0m │\n",
       "└─────────────────────────────────┴────────────────────────┴───────────────┘\n"
      ]
     },
     "metadata": {},
     "output_type": "display_data"
    },
    {
     "data": {
      "text/html": [
       "<pre style=\"white-space:pre;overflow-x:auto;line-height:normal;font-family:Menlo,'DejaVu Sans Mono',consolas,'Courier New',monospace\"><span style=\"font-weight: bold\"> Total params: </span><span style=\"color: #00af00; text-decoration-color: #00af00\">329,701</span> (1.26 MB)\n",
       "</pre>\n"
      ],
      "text/plain": [
       "\u001b[1m Total params: \u001b[0m\u001b[38;5;34m329,701\u001b[0m (1.26 MB)\n"
      ]
     },
     "metadata": {},
     "output_type": "display_data"
    },
    {
     "data": {
      "text/html": [
       "<pre style=\"white-space:pre;overflow-x:auto;line-height:normal;font-family:Menlo,'DejaVu Sans Mono',consolas,'Courier New',monospace\"><span style=\"font-weight: bold\"> Trainable params: </span><span style=\"color: #00af00; text-decoration-color: #00af00\">329,701</span> (1.26 MB)\n",
       "</pre>\n"
      ],
      "text/plain": [
       "\u001b[1m Trainable params: \u001b[0m\u001b[38;5;34m329,701\u001b[0m (1.26 MB)\n"
      ]
     },
     "metadata": {},
     "output_type": "display_data"
    },
    {
     "data": {
      "text/html": [
       "<pre style=\"white-space:pre;overflow-x:auto;line-height:normal;font-family:Menlo,'DejaVu Sans Mono',consolas,'Courier New',monospace\"><span style=\"font-weight: bold\"> Non-trainable params: </span><span style=\"color: #00af00; text-decoration-color: #00af00\">0</span> (0.00 B)\n",
       "</pre>\n"
      ],
      "text/plain": [
       "\u001b[1m Non-trainable params: \u001b[0m\u001b[38;5;34m0\u001b[0m (0.00 B)\n"
      ]
     },
     "metadata": {},
     "output_type": "display_data"
    }
   ],
   "source": [
    "model = Sequential()\n",
    "\n",
    "# La primera capa es de embedding entrenable (tamaño de los vectores: hiperparámetro)\n",
    "model.add(Embedding(input_dim=vocab_size+1, output_dim=50, input_shape=(None,)))\n",
    "\n",
    "model.add(LSTM(100, return_sequences=True))\n",
    "# model.add(Dropout(0.2))\n",
    "\n",
    "model.add(LSTM(100, return_sequences=True))\n",
    "# model.add(Dense(32, activation='relu'))\n",
    "\n",
    "# Predicción de clasificación con softmax\n",
    "# La salida es del tamaño del vocabulario\n",
    "model.add(Dense(vocab_size+1, activation='softmax'))\n",
    "\n",
    "\n",
    "# Clasificación multiple categórica --> loss = categorical_crossentropy\n",
    "# notar que usamos la versión Sparse para utilizar sólo índices en lugar de OHE\n",
    "model.compile(loss=SparseCategoricalCrossentropy(), optimizer='rmsprop')\n",
    "\n",
    "model.summary()"
   ]
  },
  {
   "cell_type": "markdown",
   "metadata": {
    "id": "YWK3z85sQfUe"
   },
   "source": [
    "Dado que por el momento no hay implementaciones adecuadas de la perplejidad que puedan operar en tiempo de entrenamiento, armaremos un Callback *ad-hoc* que la calcule en cada epoch.\n",
    "\n",
    "**Nota**: un Callback es una rutina gatillada por algún evento, son muy útiles para relevar datos en diferentes momentos del desarrollo del modelo. En este caso queremos hacer un cálculo cada vez que termina una epoch de entrenamiento."
   ]
  },
  {
   "cell_type": "code",
   "execution_count": 156,
   "metadata": {
    "id": "zUHX3r5JD-MG"
   },
   "outputs": [],
   "source": [
    "class PplCallback(keras.callbacks.Callback):\n",
    "\n",
    "    '''\n",
    "    Este callback es una solución ad-hoc para calcular al final de cada epoch de\n",
    "    entrenamiento la métrica de Perplejidad sobre un conjunto de datos de validación.\n",
    "    La perplejidad es una métrica cuantitativa para evaluar la calidad de la generación de secuencias.\n",
    "    Además implementa la finalización del entrenamiento (Early Stopping)\n",
    "    si la perplejidad no mejora después de `patience` epochs.\n",
    "    '''\n",
    "\n",
    "    def __init__(self, val_data, history_ppl, patience=5):\n",
    "      \"\"\"\n",
    "      El callback inicializa con secuencias de validación sobre las cuales\n",
    "      se mide la perplejidad y la paciencia para detener el entrenamiento.\n",
    "      \"\"\"\n",
    "      self.val_data = val_data\n",
    "\n",
    "      self.target = []\n",
    "      self.padded = []\n",
    "\n",
    "      count = 0\n",
    "      self.info = []\n",
    "      self.history_ppl = []\n",
    "      self.min_score = np.inf\n",
    "      self.patience_counter = 0\n",
    "      self.patience = patience\n",
    "\n",
    "      # Se mueve en todas las secuencias de los datos de validación\n",
    "      for seq in self.val_data:\n",
    "\n",
    "        len_seq = len(seq)\n",
    "        # Arma todas las sub-secuencias\n",
    "        subseq = [seq[:i] for i in range(len_seq)]\n",
    "        self.target.extend([seq[i] for i in range(len_seq)])\n",
    "\n",
    "        if len(subseq)!=0:\n",
    "\n",
    "          self.padded.append(pad_sequences(subseq, maxlen=max_context_size, padding='pre'))\n",
    "\n",
    "          self.info.append((count,count+len_seq))\n",
    "          count += len_seq\n",
    "\n",
    "      self.padded = np.vstack(self.padded)\n",
    "\n",
    "\n",
    "    def on_epoch_end(self, epoch, logs=None):\n",
    "\n",
    "        # Guarda la perplejidad de cada secuencia\n",
    "        scores = []\n",
    "\n",
    "        predictions = self.model.predict(self.padded,verbose=0)\n",
    "\n",
    "        # Recorre cada secuencia de validación\n",
    "        for start,end in self.info:\n",
    "\n",
    "          # Guarda las probabilidades de los términos target\n",
    "          probs = [predictions[idx_seq,-1,idx_vocab] for idx_seq, idx_vocab in zip(range(start,end),self.target[start:end])]\n",
    "\n",
    "          # Calcula la perplejidad por medio de logaritmos\n",
    "          scores.append(np.exp(-np.sum(np.log(probs))/(end-start)))\n",
    "\n",
    "        # Promedia todos los scores e imprime el valor promedio\n",
    "        current_score = np.mean(scores)\n",
    "        history_ppl.append(current_score)\n",
    "        print(f'\\n mean perplexity: {current_score} \\n')\n",
    "\n",
    "        # Chequea si debe detener el entrenamiento\n",
    "        if current_score < self.min_score:\n",
    "          self.min_score = current_score\n",
    "          self.model.save(\"my_model_LSTM.keras\")\n",
    "          print(\"Saved new model!\")\n",
    "          self.patience_counter = 0\n",
    "        else:\n",
    "          self.patience_counter += 1\n",
    "          if self.patience_counter == self.patience:\n",
    "            print(\"Stopping training...\")\n",
    "            self.model.stop_training = True\n"
   ]
  },
  {
   "cell_type": "markdown",
   "metadata": {
    "id": "8HBZIwR0gruA"
   },
   "source": [
    "### Entrenamiento"
   ]
  },
  {
   "cell_type": "code",
   "execution_count": 157,
   "metadata": {
    "id": "oQq1PHDkxDvN"
   },
   "outputs": [
    {
     "name": "stdout",
     "output_type": "stream",
     "text": [
      "Epoch 1/20\n",
      "\u001b[1m381/382\u001b[0m \u001b[32m━━━━━━━━━━━━━━━━━━━\u001b[0m\u001b[37m━\u001b[0m \u001b[1m0s\u001b[0m 38ms/step - loss: 3.4609\n",
      " mean perplexity: 1046.5783563455623 \n",
      "\n",
      "Saved new model!\n",
      "\u001b[1m382/382\u001b[0m \u001b[32m━━━━━━━━━━━━━━━━━━━━\u001b[0m\u001b[37m\u001b[0m \u001b[1m16s\u001b[0m 39ms/step - loss: 3.4580\n",
      "Epoch 2/20\n",
      "\u001b[1m382/382\u001b[0m \u001b[32m━━━━━━━━━━━━━━━━━━━━\u001b[0m\u001b[37m\u001b[0m \u001b[1m0s\u001b[0m 93ms/step - loss: 2.5100\n",
      " mean perplexity: 1271.339042699484 \n",
      "\n",
      "\u001b[1m382/382\u001b[0m \u001b[32m━━━━━━━━━━━━━━━━━━━━\u001b[0m\u001b[37m\u001b[0m \u001b[1m36s\u001b[0m 94ms/step - loss: 2.5096\n",
      "Epoch 3/20\n",
      "\u001b[1m381/382\u001b[0m \u001b[32m━━━━━━━━━━━━━━━━━━━\u001b[0m\u001b[37m━\u001b[0m \u001b[1m0s\u001b[0m 50ms/step - loss: 2.0358\n",
      " mean perplexity: 1508.4414463980816 \n",
      "\n",
      "\u001b[1m382/382\u001b[0m \u001b[32m━━━━━━━━━━━━━━━━━━━━\u001b[0m\u001b[37m\u001b[0m \u001b[1m20s\u001b[0m 51ms/step - loss: 2.0353\n",
      "Epoch 4/20\n",
      "\u001b[1m381/382\u001b[0m \u001b[32m━━━━━━━━━━━━━━━━━━━\u001b[0m\u001b[37m━\u001b[0m \u001b[1m0s\u001b[0m 36ms/step - loss: 1.6139\n",
      " mean perplexity: 1920.4504282359399 \n",
      "\n",
      "\u001b[1m382/382\u001b[0m \u001b[32m━━━━━━━━━━━━━━━━━━━━\u001b[0m\u001b[37m\u001b[0m \u001b[1m14s\u001b[0m 37ms/step - loss: 1.6134\n",
      "Epoch 5/20\n",
      "\u001b[1m381/382\u001b[0m \u001b[32m━━━━━━━━━━━━━━━━━━━\u001b[0m\u001b[37m━\u001b[0m \u001b[1m0s\u001b[0m 54ms/step - loss: 1.2496\n",
      " mean perplexity: 2145.316967920877 \n",
      "\n",
      "\u001b[1m382/382\u001b[0m \u001b[32m━━━━━━━━━━━━━━━━━━━━\u001b[0m\u001b[37m\u001b[0m \u001b[1m22s\u001b[0m 58ms/step - loss: 1.2492\n",
      "Epoch 6/20\n",
      "\u001b[1m381/382\u001b[0m \u001b[32m━━━━━━━━━━━━━━━━━━━\u001b[0m\u001b[37m━\u001b[0m \u001b[1m0s\u001b[0m 96ms/step - loss: 0.9697\n",
      " mean perplexity: 2681.203776453885 \n",
      "\n",
      "Stopping training...\n",
      "\u001b[1m382/382\u001b[0m \u001b[32m━━━━━━━━━━━━━━━━━━━━\u001b[0m\u001b[37m\u001b[0m \u001b[1m38s\u001b[0m 100ms/step - loss: 0.9694\n"
     ]
    }
   ],
   "source": [
    "\"\"\"\n",
    "Realiza el entrenamiento, nótese el agregado del callback con su inicialización. El batch_size puede seleccionarse a mano\n",
    "en general, lo mejor es escoger el batch más grande posible que minimice el tiempo de cada época.\n",
    "En la variable `history_ppl` se guardarán los valores de perplejidad para cada época.\n",
    "\"\"\"\n",
    "history_ppl = []\n",
    "hist = model.fit(X, y, epochs=20, callbacks=[PplCallback(tokenized_sentences_val,history_ppl)], batch_size=64)"
   ]
  },
  {
   "cell_type": "code",
   "execution_count": 158,
   "metadata": {
    "id": "K30JHB3Dv-mx"
   },
   "outputs": [
    {
     "name": "stderr",
     "output_type": "stream",
     "text": [
      "c:\\Users\\fabri\\AppData\\Local\\Programs\\Python\\Python311\\Lib\\site-packages\\seaborn\\_oldcore.py:1119: FutureWarning: use_inf_as_na option is deprecated and will be removed in a future version. Convert inf values to NaN before operating instead.\n",
      "  with pd.option_context('mode.use_inf_as_na', True):\n",
      "c:\\Users\\fabri\\AppData\\Local\\Programs\\Python\\Python311\\Lib\\site-packages\\seaborn\\_oldcore.py:1119: FutureWarning: use_inf_as_na option is deprecated and will be removed in a future version. Convert inf values to NaN before operating instead.\n",
      "  with pd.option_context('mode.use_inf_as_na', True):\n"
     ]
    },
    {
     "data": {
      "image/png": "[encoded data removed]",
      "text/plain": [
       "<Figure size 640x480 with 1 Axes>"
      ]
     },
     "metadata": {},
     "output_type": "display_data"
    }
   ],
   "source": [
    "# Grafica la evolución de la perplejidad en función de las épocas.\n",
    "epoch_count = range(1, len(history_ppl) + 1)\n",
    "sns.lineplot(x=epoch_count,  y=history_ppl)\n",
    "plt.xlabel(\"Épocas\")\n",
    "plt.ylabel(\"Perplejidad\")\n",
    "plt.title(\"Evolución de la Perplejidad en función de las Épocas modelo con LSTM\")\n",
    "plt.grid(True)\n",
    "plt.show()"
   ]
  },
  {
   "cell_type": "code",
   "execution_count": 159,
   "metadata": {},
   "outputs": [],
   "source": [
    "# Carga el mejor modelo guardado del entrenamiento para hacer inferencia\n",
    "model = keras.models.load_model('my_model_LSTM.keras')"
   ]
  },
  {
   "cell_type": "markdown",
   "metadata": {
    "id": "KN6Fg_BsxJe6"
   },
   "source": [
    "\n",
    "### Predicción de próxima palabra"
   ]
  },
  {
   "cell_type": "code",
   "execution_count": 160,
   "metadata": {
    "id": "IBvKHFPmzpy2"
   },
   "outputs": [
    {
     "name": "stderr",
     "output_type": "stream",
     "text": [
      "\n",
      "[notice] A new release of pip is available: 24.1 -> 24.3.1\n",
      "[notice] To update, run: python.exe -m pip install --upgrade pip\n"
     ]
    }
   ],
   "source": [
    "# Instalación de  gradio\n",
    "!pip install -q gradio"
   ]
  },
  {
   "cell_type": "code",
   "execution_count": 161,
   "metadata": {
    "id": "HNyBykvhzs7-"
   },
   "outputs": [
    {
     "name": "stdout",
     "output_type": "stream",
     "text": [
      "* Running on local URL:  http://127.0.0.1:7860\n",
      "\n",
      "To create a public link, set `share=True` in `launch()`.\n"
     ]
    },
    {
     "data": {
      "text/html": [
       "<div><iframe src=\"http://127.0.0.1:7860/\" width=\"100%\" height=\"500\" allow=\"autoplay; camera; microphone; clipboard-read; clipboard-write;\" frameborder=\"0\" allowfullscreen></iframe></div>"
      ],
      "text/plain": [
       "<IPython.core.display.HTML object>"
      ]
     },
     "metadata": {},
     "output_type": "display_data"
    },
    {
     "name": "stdout",
     "output_type": "stream",
     "text": [
      "Keyboard interruption in main thread... closing server.\n"
     ]
    },
    {
     "data": {
      "text/plain": []
     },
     "execution_count": 161,
     "metadata": {},
     "output_type": "execute_result"
    }
   ],
   "source": [
    "# Importa gradio\n",
    "import gradio as gr\n",
    "\n",
    "def model_response(human_text):\n",
    "\n",
    "    # Encodea\n",
    "    encoded = tok.texts_to_sequences([human_text])[0]\n",
    "    # Si tiene distinto largo\n",
    "    encoded = pad_sequences([encoded], maxlen=max_context_size, padding='pre')\n",
    "\n",
    "    # Predicción softmax\n",
    "    y_hat = np.argmax(model.predict(encoded)[0,-1,:])\n",
    "\n",
    "    # Busca en el vocabulario la palabra que corresopnde al indice (y_hat) predicho por el modelo\n",
    "    out_word = ''\n",
    "    for word, index in tok.word_index.items():\n",
    "        if index == y_hat:\n",
    "            out_word = word\n",
    "            break\n",
    "\n",
    "    # Agrega la palabra a la frase predicha\n",
    "    return human_text + ' ' + out_word\n",
    "\n",
    "iface = gr.Interface(\n",
    "    fn=model_response,\n",
    "    inputs=[\"textbox\"],\n",
    "    outputs=\"text\")\n",
    "\n",
    "iface.launch(debug=True)"
   ]
  },
  {
   "cell_type": "markdown",
   "metadata": {
    "id": "mCeMWWupxN1-"
   },
   "source": [
    "### Generación de secuencias"
   ]
  },
  {
   "cell_type": "code",
   "execution_count": 162,
   "metadata": {},
   "outputs": [],
   "source": [
    "def generate_seq(model, tokenizer, seed_text, max_length, n_words, greedy_search=False):\n",
    "    \"\"\"\n",
    "    Genera una secuencia de palabras con el modelo entrenado usando \"Greedy Search\".\n",
    "    \n",
    "    Args:\n",
    "        model (keras.Model): Modelo entrenado.\n",
    "        tokenizer (keras.Tokenizer): Tokenizer utilizado en el preprocesamiento.\n",
    "        seed_text (str): Texto de entrada inicial.\n",
    "        max_length (int): Longitud máxima de la secuencia de entrada.\n",
    "        n_words (int): Número de palabras a agregar a la secuencia de entrada.\n",
    "        greedy_search (bool): Si es True, usa \"Greedy Search\", de lo contrario usa el método con probabilidad.\n",
    "\n",
    "    Returns:\n",
    "        output_text (str): Texto generado con las \"n_words\" agregadas.\n",
    "    \"\"\"\n",
    "    output_text = seed_text\n",
    "    for _ in range(n_words):\n",
    "        # Tokeniza el texto de entrada\n",
    "        encoded = tokenizer.texts_to_sequences([output_text])[0]\n",
    "\n",
    "        # Si tiene distinto largo, realiza padding\n",
    "        encoded = pad_sequences([encoded], maxlen=max_length, padding='pre')\n",
    "\n",
    "        # Predicción softmax\n",
    "        preds = model.predict(encoded)[0, -1, :]\n",
    "\n",
    "        if greedy_search:\n",
    "            # Si es Greedy Search, selecciona la palabra más probable\n",
    "            y_hat = np.argmax(preds)\n",
    "        else:\n",
    "            # Si no es Greedy Search, elige la palabra con la probabilidad más alta\n",
    "            y_hat = np.argmax(preds)\n",
    "\n",
    "        # Busca la palabra en el vocabulario\n",
    "        out_word = ''\n",
    "        for word, index in tokenizer.word_index.items():\n",
    "            if index == y_hat:\n",
    "                out_word = word\n",
    "                break\n",
    "\n",
    "        # Agrega la palabra al texto generado\n",
    "        output_text += ' ' + out_word\n",
    "\n",
    "    return output_text\n"
   ]
  },
  {
   "cell_type": "code",
   "execution_count": 163,
   "metadata": {
    "id": "JoFqRC5pxzqS"
   },
   "outputs": [
    {
     "name": "stdout",
     "output_type": "stream",
     "text": [
      "\u001b[1m1/1\u001b[0m \u001b[32m━━━━━━━━━━━━━━━━━━━━\u001b[0m\u001b[37m\u001b[0m \u001b[1m0s\u001b[0m 134ms/step\n",
      "\u001b[1m1/1\u001b[0m \u001b[32m━━━━━━━━━━━━━━━━━━━━\u001b[0m\u001b[37m\u001b[0m \u001b[1m0s\u001b[0m 6ms/step\n",
      "\u001b[1m1/1\u001b[0m \u001b[32m━━━━━━━━━━━━━━━━━━━━\u001b[0m\u001b[37m\u001b[0m \u001b[1m0s\u001b[0m 15ms/step\n",
      "\u001b[1m1/1\u001b[0m \u001b[32m━━━━━━━━━━━━━━━━━━━━\u001b[0m\u001b[37m\u001b[0m \u001b[1m0s\u001b[0m 16ms/step\n",
      "\u001b[1m1/1\u001b[0m \u001b[32m━━━━━━━━━━━━━━━━━━━━\u001b[0m\u001b[37m\u001b[0m \u001b[1m0s\u001b[0m 18ms/step\n",
      "\u001b[1m1/1\u001b[0m \u001b[32m━━━━━━━━━━━━━━━━━━━━\u001b[0m\u001b[37m\u001b[0m \u001b[1m0s\u001b[0m 20ms/step\n",
      "\u001b[1m1/1\u001b[0m \u001b[32m━━━━━━━━━━━━━━━━━━━━\u001b[0m\u001b[37m\u001b[0m \u001b[1m0s\u001b[0m 9ms/step\n",
      "\u001b[1m1/1\u001b[0m \u001b[32m━━━━━━━━━━━━━━━━━━━━\u001b[0m\u001b[37m\u001b[0m \u001b[1m0s\u001b[0m 19ms/step\n",
      "\u001b[1m1/1\u001b[0m \u001b[32m━━━━━━━━━━━━━━━━━━━━\u001b[0m\u001b[37m\u001b[0m \u001b[1m0s\u001b[0m 25ms/step\n",
      "\u001b[1m1/1\u001b[0m \u001b[32m━━━━━━━━━━━━━━━━━━━━\u001b[0m\u001b[37m\u001b[0m \u001b[1m0s\u001b[0m 13ms/step\n"
     ]
    },
    {
     "data": {
      "text/plain": [
       "'The learned man from the cold lands and and the and and the and and the and'"
      ]
     },
     "execution_count": 163,
     "metadata": {},
     "output_type": "execute_result"
    }
   ],
   "source": [
    "input_text='The learned man from the cold lands'\n",
    "\n",
    "generate_seq(model, tok, input_text, max_length=max_context_size, n_words=10)"
   ]
  },
  {
   "cell_type": "markdown",
   "metadata": {
    "id": "drJ6xn5qW1Hl"
   },
   "source": [
    "###  Beam search y muestreo aleatorio"
   ]
  },
  {
   "cell_type": "code",
   "execution_count": 164,
   "metadata": {
    "id": "_vovn9XZW1Hl"
   },
   "outputs": [],
   "source": [
    "# Funcionalidades para encoding y decoding\n",
    "\n",
    "def encode(text,max_length=max_context_size):\n",
    "\n",
    "    encoded = tok.texts_to_sequences([text])[0]\n",
    "    encoded = pad_sequences([encoded], maxlen=max_length, padding='pre')\n",
    "\n",
    "    return encoded\n",
    "\n",
    "def decode(seq):\n",
    "    return tok.sequences_to_texts([seq])"
   ]
  },
  {
   "cell_type": "code",
   "execution_count": 165,
   "metadata": {
    "id": "I_lZiQwkW1Hl"
   },
   "outputs": [],
   "source": [
    "# Importa la activación\n",
    "from scipy.special import softmax\n",
    "\n",
    "# Función que selecciona candidatos para el beam search\n",
    "def select_candidates(pred,num_beams,vocab_size,history_probs,history_tokens,temp,mode):\n",
    "\n",
    "  # Colecta todas las probabilidades para la siguiente búsqueda\n",
    "  pred_large = []\n",
    "\n",
    "  for idx,pp in enumerate(pred):\n",
    "    pred_large.extend(np.log(pp+1E-10)+history_probs[idx])\n",
    "\n",
    "  pred_large = np.array(pred_large)\n",
    "\n",
    "  # Criterio de selección\n",
    "  if mode == 'det':\n",
    "    idx_select = np.argsort(pred_large)[::-1][:num_beams] # beam search determinista\n",
    "  elif mode == 'sto':\n",
    "    idx_select = np.random.choice(np.arange(pred_large.shape[0]), num_beams, p=softmax(pred_large/temp)) # beam search con muestreo aleatorio\n",
    "  else:\n",
    "    raise ValueError(f'Wrong selection mode. {mode} was given. det and sto are supported.')\n",
    "\n",
    "  # Traduce a índices de token en el vocabulario\n",
    "  new_history_tokens = np.concatenate((np.array(history_tokens)[idx_select//vocab_size],\n",
    "                        np.array([idx_select%vocab_size]).T),\n",
    "                      axis=1)\n",
    "\n",
    "  # Devuelve el producto de las probabilidades (log) y la secuencia de tokens seleccionados\n",
    "  return pred_large[idx_select.astype(int)], new_history_tokens.astype(int)\n",
    "\n",
    "\n",
    "def beam_search(model,num_beams,num_words,input,temp=1,mode='det'):\n",
    "\n",
    "    # Primera iteración\n",
    "\n",
    "    # encode\n",
    "    encoded = encode(input)\n",
    "\n",
    "    # Primera predicción\n",
    "    y_hat = model.predict(encoded,verbose=0)[0,-1,:]\n",
    "\n",
    "    # Otiene el tamaño del vocabulario\n",
    "    vocab_size = y_hat.shape[0]\n",
    "\n",
    "    # Inicializa el historial\n",
    "    history_probs = [0]*num_beams\n",
    "    history_tokens = [encoded[0]]*num_beams\n",
    "\n",
    "    # Selecciona un número de candidatos\n",
    "    history_probs, history_tokens = select_candidates([y_hat],\n",
    "                                        num_beams,\n",
    "                                        vocab_size,\n",
    "                                        history_probs,\n",
    "                                        history_tokens,\n",
    "                                        temp,\n",
    "                                        mode)\n",
    "\n",
    "    # Bucle beam search\n",
    "    for i in range(num_words-1):\n",
    "\n",
    "      preds = []\n",
    "\n",
    "      for hist in history_tokens:\n",
    "\n",
    "        # Actualiza secuencia de tokens\n",
    "        input_update = np.array([hist[i+1:]]).copy()\n",
    "\n",
    "        # Predicción\n",
    "        y_hat = model.predict(input_update,verbose=0)[0,-1,:]\n",
    "\n",
    "        preds.append(y_hat)\n",
    "\n",
    "      history_probs, history_tokens = select_candidates(preds,\n",
    "                                                        num_beams,\n",
    "                                                        vocab_size,\n",
    "                                                        history_probs,\n",
    "                                                        history_tokens,\n",
    "                                                        temp,\n",
    "                                                        mode)\n",
    "\n",
    "    return history_tokens"
   ]
  },
  {
   "cell_type": "code",
   "execution_count": 166,
   "metadata": {
    "id": "GeLqAoOYW1Hm"
   },
   "outputs": [],
   "source": [
    "\"\"\"\n",
    "Predicción con beam search.\n",
    "Se pueden camiar los modos entre 'det' (determinista) y\n",
    "'sto' (estocástico)\n",
    "para el caso estocástico también se puede variar la temperatura\n",
    "\"\"\"\n",
    "num_beams=10\n",
    "salidas = beam_search(model,num_beams,num_words=6,input=\"The learned man from the cold lands\",temp=1,mode='sto')"
   ]
  },
  {
   "cell_type": "code",
   "execution_count": 167,
   "metadata": {
    "id": "P8HQoLhw-NYg"
   },
   "outputs": [
    {
     "data": {
      "text/plain": [
       "(10, 59)"
      ]
     },
     "execution_count": 167,
     "metadata": {},
     "output_type": "execute_result"
    }
   ],
   "source": [
    "# Tenemos `num_beams` salidas ordenadas de mayor a menor likelihood\n",
    "salidas.shape"
   ]
  },
  {
   "cell_type": "code",
   "execution_count": 168,
   "metadata": {
    "id": "2S3_I3S1W1Hm"
   },
   "outputs": [
    {
     "name": "stdout",
     "output_type": "stream",
     "text": [
      "['the learned man from the cold lands and they had one in called']\n",
      "['the learned man from the cold lands and they had colder hast on']\n",
      "['the learned man from the cold lands and they had one so one']\n",
      "['the learned man from the cold lands and they had one in one']\n",
      "['the learned man from the cold lands and they had one to been']\n",
      "['the learned man from the cold lands and they had one to the']\n",
      "['the learned man from the cold lands and they had one in and']\n",
      "['the learned man from the cold lands and they had one in say']\n",
      "['the learned man from the cold lands and they had one so he']\n",
      "['the learned man from the cold lands and they had one to with']\n"
     ]
    }
   ],
   "source": [
    "# Muestra las salidas\n",
    "for i in range(num_beams):\n",
    "    print(decode(salidas[i]))\n"
   ]
  },
  {
   "cell_type": "markdown",
   "metadata": {},
   "source": [
    "Experimento I: Se buscan nuevamente resultados, pero modificando la tempratura a valores 2, 10 y 100:"
   ]
  },
  {
   "cell_type": "code",
   "execution_count": 169,
   "metadata": {},
   "outputs": [
    {
     "name": "stdout",
     "output_type": "stream",
     "text": [
      "['the learned man from the cold lands she not wise she be maiden']\n",
      "['the learned man from the cold lands she not wise she but longer']\n",
      "['the learned man from the cold lands she not wise she but should']\n",
      "['the learned man from the cold lands she not wise she but charming']\n",
      "['the learned man from the cold lands she not wise i get sort']\n",
      "['the learned man from the cold lands she not wise i get mild']\n",
      "[\"the learned man from the cold lands she not wise she didn't was\"]\n",
      "['the learned man from the cold lands she not wise she but walked']\n",
      "['the learned man from the cold lands she not wise she be him']\n",
      "['the learned man from the cold lands she not wise she but they']\n"
     ]
    }
   ],
   "source": [
    "# Define el ancho de consideración\n",
    "num_beams=10\n",
    "\n",
    "# Realiza la llamada a la función que describe la técnica\n",
    "salidas = beam_search(model,num_beams,num_words=6,input=\"The learned man from the cold lands\",temp=2,mode='sto')\n",
    "\n",
    "# Muestra las salidas\n",
    "for i in range(num_beams):\n",
    "    print(decode(salidas[i]))"
   ]
  },
  {
   "cell_type": "code",
   "execution_count": 170,
   "metadata": {},
   "outputs": [
    {
     "name": "stdout",
     "output_type": "stream",
     "text": [
      "['the learned man from the cold lands composed shop pounds bid coffee cracks']\n",
      "['the learned man from the cold lands composed i servant vanish being gems']\n",
      "['the learned man from the cold lands would useful diamond around could unwell']\n",
      "['the learned man from the cold lands whistled slippers tree sort father glittered']\n",
      "['the learned man from the cold lands composed shop pounds bid says dance']\n",
      "[\"the learned man from the cold lands composed shop pounds accepted seeing year's\"]\n",
      "['the learned man from the cold lands composed i servant vanish being ground']\n",
      "['the learned man from the cold lands composed i influence astonished annoyed astonished']\n",
      "['the learned man from the cold lands whistled slippers tree necessary within former']\n",
      "['the learned man from the cold lands whistled slippers tree sort father window']\n"
     ]
    }
   ],
   "source": [
    "# Define el ancho de consideración\n",
    "num_beams=10\n",
    "\n",
    "# Realiza la llamada a la función que describe la técnica\n",
    "salidas = beam_search(model,num_beams,num_words=6,input=\"The learned man from the cold lands\",temp=10,mode='sto')\n",
    "\n",
    "# Muestra las salidas\n",
    "for i in range(num_beams):\n",
    "    print(decode(salidas[i]))"
   ]
  },
  {
   "cell_type": "code",
   "execution_count": 171,
   "metadata": {},
   "outputs": [
    {
     "name": "stdout",
     "output_type": "stream",
     "text": [
      "['the learned man from the cold lands much accepted health “but extraordinary windows']\n",
      "['the learned man from the cold lands much furthest pierced known dish nail']\n",
      "['the learned man from the cold lands much furthest pierced known fell trimmed']\n",
      "['the learned man from the cold lands much furthest pierced known case here']\n",
      "['the learned man from the cold lands much accepted health with place could']\n",
      "['the learned man from the cold lands much accepted health “but respect finely']\n",
      "['the learned man from the cold lands much accepted health servants “tell saw']\n",
      "['the learned man from the cold lands much accepted health “but extraordinary fresh']\n",
      "['the learned man from the cold lands much furthest pierced known fell together']\n",
      "['the learned man from the cold lands much furthest pierced known case thus']\n"
     ]
    }
   ],
   "source": [
    "# Define el ancho de consideración\n",
    "num_beams=10\n",
    "\n",
    "# Realiza la llamada a la función que describe la técnica\n",
    "salidas = beam_search(model,num_beams,num_words=6,input=\"The learned man from the cold lands\",temp=100,mode='sto')\n",
    "\n",
    "# Muestra las salidas\n",
    "for i in range(num_beams):\n",
    "    print(decode(salidas[i]))"
   ]
  },
  {
   "cell_type": "markdown",
   "metadata": {},
   "source": [
    "Experimento II: Se buscan nuevamente resultados, pero modificando la técnica a determinista:"
   ]
  },
  {
   "cell_type": "code",
   "execution_count": null,
   "metadata": {},
   "outputs": [
    {
     "name": "stdout",
     "output_type": "stream",
     "text": [
      "['the learned man from the cold lands and']\n"
     ]
    }
   ],
   "source": [
    "# Define el ancho de consideración\n",
    "num_beams=1\n",
    "\n",
    "# Realiza la llamada a la función que describe la técnica\n",
    "salidas = beam_search(model,num_beams,num_words=1,input=\"The learned man from the cold lands\",temp=1,mode='det')\n",
    "\n",
    "# Muestra las salidas\n",
    "for i in range(num_beams):\n",
    "    print(decode(salidas[i]))"
   ]
  },
  {
   "cell_type": "markdown",
   "metadata": {},
   "source": [
    "Experimento III: Búsqueda de resultados con la técnica Greedy Search:"
   ]
  },
  {
   "cell_type": "code",
   "execution_count": 176,
   "metadata": {},
   "outputs": [
    {
     "name": "stdout",
     "output_type": "stream",
     "text": [
      "\u001b[1m1/1\u001b[0m \u001b[32m━━━━━━━━━━━━━━━━━━━━\u001b[0m\u001b[37m\u001b[0m \u001b[1m0s\u001b[0m 19ms/step\n",
      "The learned man from the cold lands and\n"
     ]
    }
   ],
   "source": [
    "# Genera e imprime texto usando Greedy Search\n",
    "salida = generate_seq(model, tok, seed_text=\"The learned man from the cold lands\", max_length=max_context_size, n_words=1, greedy_search=True)\n",
    "print(salida)"
   ]
  }
 ],
 "metadata": {
  "colab": {
   "provenance": []
  },
  "kernelspec": {
   "display_name": "Python 3",
   "name": "python3"
  },
  "language_info": {
   "codemirror_mode": {
    "name": "ipython",
    "version": 3
   },
   "file_extension": ".py",
   "mimetype": "text/x-python",
   "name": "python",
   "nbconvert_exporter": "python",
   "pygments_lexer": "ipython3",
   "version": "3.11.5"
  }
 },
 "nbformat": 4,
 "nbformat_minor": 0
}

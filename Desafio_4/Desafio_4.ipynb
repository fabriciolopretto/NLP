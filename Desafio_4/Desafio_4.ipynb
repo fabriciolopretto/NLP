{
 "cells": [
  {
   "cell_type": "markdown",
   "metadata": {
    "id": "pfa39F4lsLf3"
   },
   "source": [
    "<img src=\"https://github.com/hernancontigiani/ceia_memorias_especializacion/raw/master/Figures/logoFIUBA.jpg\" width=\"500\" align=\"center\">\n",
    "\n",
    "\n",
    "# Procesamiento de lenguaje natural\n",
    "## LSTM Bot QA"
   ]
  },
  {
   "cell_type": "markdown",
   "metadata": {
    "id": "ZqO0PRcFsPTe"
   },
   "source": [
    "### 1 - Preparación del entorno y carga de datos\n",
    "El objecto es utilizar datos disponibles del challenge ConvAI2 (Conversational Intelligence Challenge 2) de conversaciones en inglés. Se construirá un BOT para responder a preguntas del usuario (QA).\\\n",
    "[LINK](http://convai.io/data/)"
   ]
  },
  {
   "cell_type": "code",
   "execution_count": 69,
   "metadata": {},
   "outputs": [
    {
     "name": "stderr",
     "output_type": "stream",
     "text": [
      "\n",
      "[notice] A new release of pip is available: 24.1 -> 24.3.1\n",
      "[notice] To update, run: python.exe -m pip install --upgrade pip\n"
     ]
    }
   ],
   "source": [
    "# Instala librerías necesarias\n",
    "!pip install --upgrade --no-cache-dir gdown --quiet"
   ]
  },
  {
   "cell_type": "code",
   "execution_count": 70,
   "metadata": {},
   "outputs": [],
   "source": [
    "# Importa librerías necesarias\n",
    "import os\n",
    "import gdown\n",
    "import json\n",
    "import re\n",
    "import numpy as np\n",
    "import matplotlib.pyplot as plt\n",
    "from collections import Counter\n",
    "\n",
    "from sklearn.model_selection import train_test_split\n",
    "\n",
    "import torch\n",
    "import torch.nn as nn\n",
    "from torch.utils.data import Dataset, DataLoader\n",
    "import torch.nn.functional as F"
   ]
  },
  {
   "cell_type": "code",
   "execution_count": 71,
   "metadata": {},
   "outputs": [
    {
     "name": "stdout",
     "output_type": "stream",
     "text": [
      "Cantidad de filas procesadas: 13323\n"
     ]
    }
   ],
   "source": [
    "# Descargar el dataset\n",
    "if not os.path.exists('data_volunteers.json'):\n",
    "    url = 'https://drive.google.com/uc?id=1awUxYwImF84MIT5-jCaYAPe2QwSgS1hN&export=download'\n",
    "    output = 'data_volunteers.json'\n",
    "    gdown.download(url, output, quiet=False)\n",
    "\n",
    "# Cargar el dataset\n",
    "with open('data_volunteers.json') as f:\n",
    "    data = json.load(f)\n",
    "\n",
    "# Limpiar el texto\n",
    "def clean_text(txt):\n",
    "    txt = txt.lower()\n",
    "    txt = re.sub(r\"\\'d\", \" had\", txt)\n",
    "    txt = re.sub(r\"\\'s\", \" is\", txt)\n",
    "    txt = re.sub(r\"\\'m\", \" am\", txt)\n",
    "    txt = re.sub(r\"don't\", \"do not\", txt)\n",
    "    txt = re.sub(r'\\W+', ' ', txt)\n",
    "    return txt.strip()\n",
    "\n",
    "# Preparar los datos\n",
    "input_sentences = []\n",
    "output_sentences = []\n",
    "output_sentences_inputs = []\n",
    "max_len = 30\n",
    "\n",
    "for line in data:\n",
    "    for i in range(len(line['dialog']) - 1):\n",
    "        chat_in = clean_text(line['dialog'][i]['text'])\n",
    "        chat_out = clean_text(line['dialog'][i + 1]['text'])\n",
    "\n",
    "        if len(chat_in.split()) >= max_len or len(chat_out.split()) >= max_len:\n",
    "            continue\n",
    "\n",
    "        input_sentences.append(chat_in)\n",
    "        output_sentences.append(chat_out + ' ')\n",
    "        output_sentences_inputs.append(' ' + chat_out)\n",
    "\n",
    "print(f\"Cantidad de filas procesadas: {len(input_sentences)}\")"
   ]
  },
  {
   "cell_type": "markdown",
   "metadata": {},
   "source": [
    "### 2 - Preprocesamiento\n",
    "Realizar el preprocesamiento necesario para obtener:\n",
    "- word2idx_inputs, max_input_len\n",
    "- word2idx_outputs, max_out_len, num_words_output\n",
    "- encoder_input_sequences, decoder_output_sequences, decoder_targets\n",
    "\n",
    "Es decir, se realiza el preprocesamiento para generar los índices de palabras y las secuencias de entrada y salida."
   ]
  },
  {
   "cell_type": "code",
   "execution_count": 72,
   "metadata": {},
   "outputs": [],
   "source": [
    "# Construir vocabularios\n",
    "def build_vocab(sentences, max_vocab_size=20000):\n",
    "    word_counts = Counter(word for sentence in sentences for word in sentence.split())\n",
    "    vocab = ['<PAD>', '<START>', '<END>', '<UNK>'] + [word for word, _ in word_counts.most_common(max_vocab_size)]\n",
    "    word2idx = {word: idx for idx, word in enumerate(vocab)}\n",
    "    idx2word = {idx: word for word, idx in word2idx.items()}\n",
    "    return word2idx, idx2word\n",
    "\n",
    "word2idx_inputs, idx2word_inputs = build_vocab(input_sentences)\n",
    "word2idx_outputs, idx2word_outputs = build_vocab(output_sentences)\n",
    "\n",
    "max_input_len = max(len(s.split()) for s in input_sentences)\n",
    "max_output_len = max(len(s.split()) for s in output_sentences)\n",
    "\n",
    "# Convertir palabras a índices\n",
    "def sentences_to_sequences(sentences, word2idx, max_len):\n",
    "    sequences = []\n",
    "    for sentence in sentences:\n",
    "        seq = [word2idx.get(word, word2idx['<UNK>']) for word in sentence.split()]\n",
    "        seq = seq[:max_len] + [word2idx['<PAD>']] * (max_len - len(seq))\n",
    "        sequences.append(seq)\n",
    "    return np.array(sequences)\n",
    "\n",
    "encoder_input_sequences = sentences_to_sequences(input_sentences, word2idx_inputs, max_input_len)\n",
    "decoder_input_sequences = sentences_to_sequences(output_sentences_inputs, word2idx_outputs, max_output_len)\n",
    "decoder_targets = sentences_to_sequences(output_sentences, word2idx_outputs, max_output_len)"
   ]
  },
  {
   "cell_type": "markdown",
   "metadata": {},
   "source": [
    "### 3 - Preparar los embeddings\n",
    "Utilizar los embeddings de Glove o FastText para transformar los tokens de entrada en vectores.Para transformar las palabras en vectores, se implementará GloVe o FastText. En esta oportinuidad, se usará GloVe."
   ]
  },
  {
   "cell_type": "code",
   "execution_count": 73,
   "metadata": {},
   "outputs": [],
   "source": [
    "def load_glove_embeddings(glove_path, word2idx, embedding_dim=100):\n",
    "    embeddings = np.random.uniform(-0.01, 0.01, (len(word2idx), embedding_dim))\n",
    "    with open(glove_path, 'r', encoding='utf-8') as f:\n",
    "        for line in f:\n",
    "            parts = line.split()\n",
    "            word, vector = parts[0], np.array(parts[1:], dtype=np.float32)\n",
    "            if word in word2idx:\n",
    "                embeddings[word2idx[word]] = vector\n",
    "    return torch.tensor(embeddings, dtype=torch.float32)\n",
    "\n",
    "embedding_dim = 100\n",
    "embeddings_path = 'glove.6B.100d.txt'  # Asegúrate de tener el archivo descargado\n",
    "input_embeddings = load_glove_embeddings(embeddings_path, word2idx_inputs, embedding_dim)\n",
    "output_embeddings = load_glove_embeddings(embeddings_path, word2idx_outputs, embedding_dim)"
   ]
  },
  {
   "cell_type": "markdown",
   "metadata": {},
   "source": [
    "### 4 - Entrenar el modelo\n",
    "Entrenar un modelo basado en el esquema encoder-decoder utilizando los datos generados en los puntos anteriores. Utilce como referencias los ejemplos vistos en clase. \n",
    "\n",
    "Construcción del modelo Encoder-Decoder con LSTM. El modelo de secuencia a secuencia basado en LSTM tendrá dos componentes:\n",
    "\n",
    "Encoder: Convertirá la entrada en un vector de contexto.\n",
    "\n",
    "Decoder: Generará las respuestas a partir del vector de contexto."
   ]
  },
  {
   "cell_type": "code",
   "execution_count": 74,
   "metadata": {},
   "outputs": [],
   "source": [
    "class Encoder(nn.Module):\n",
    "    def __init__(self, vocab_size, embedding_dim, hidden_dim, embeddings):\n",
    "        super(Encoder, self).__init__()\n",
    "        self.embedding = nn.Embedding.from_pretrained(embeddings)\n",
    "        self.lstm = nn.LSTM(embedding_dim, hidden_dim, batch_first=True)\n",
    "\n",
    "    def forward(self, x):\n",
    "        x = self.embedding(x)\n",
    "        _, (h, c) = self.lstm(x)\n",
    "        return h, c\n",
    "\n",
    "class Decoder(nn.Module):\n",
    "    def __init__(self, vocab_size, embedding_dim, hidden_dim, embeddings):\n",
    "        super(Decoder, self).__init__()\n",
    "        self.embedding = nn.Embedding.from_pretrained(embeddings)\n",
    "        self.lstm = nn.LSTM(embedding_dim, hidden_dim, batch_first=True)\n",
    "        self.fc = nn.Linear(hidden_dim, vocab_size)\n",
    "\n",
    "    def forward(self, x, h, c):\n",
    "        x = self.embedding(x)\n",
    "        x, (h, c) = self.lstm(x, (h, c))\n",
    "        x = self.fc(x)\n",
    "        return x, h, c\n"
   ]
  },
  {
   "cell_type": "markdown",
   "metadata": {},
   "source": [
    "Entrenamiento:"
   ]
  },
  {
   "cell_type": "code",
   "execution_count": 75,
   "metadata": {},
   "outputs": [
    {
     "name": "stdout",
     "output_type": "stream",
     "text": [
      "Epoch 1/100, Loss: 7.2161, Accuracy: 0.0911, Val Loss: 5.6890, Val Accuracy: 0.1125\n",
      "Epoch 2/100, Loss: 5.2880, Accuracy: 0.1084, Val Loss: 5.2555, Val Accuracy: 0.1248\n",
      "Epoch 3/100, Loss: 5.0403, Accuracy: 0.1388, Val Loss: 5.0329, Val Accuracy: 0.1899\n",
      "Epoch 4/100, Loss: 4.7860, Accuracy: 0.2118, Val Loss: 4.7630, Val Accuracy: 0.2444\n",
      "Epoch 5/100, Loss: 4.5123, Accuracy: 0.2999, Val Loss: 4.4815, Val Accuracy: 0.3425\n",
      "Epoch 6/100, Loss: 4.2348, Accuracy: 0.3450, Val Loss: 4.2043, Val Accuracy: 0.3690\n",
      "Epoch 7/100, Loss: 3.9666, Accuracy: 0.3785, Val Loss: 3.9405, Val Accuracy: 0.4091\n",
      "Epoch 8/100, Loss: 3.7126, Accuracy: 0.4301, Val Loss: 3.6937, Val Accuracy: 0.4660\n",
      "Epoch 9/100, Loss: 3.4787, Accuracy: 0.4763, Val Loss: 3.4703, Val Accuracy: 0.5063\n",
      "Epoch 10/100, Loss: 3.2668, Accuracy: 0.5104, Val Loss: 3.2683, Val Accuracy: 0.5475\n",
      "Epoch 11/100, Loss: 3.0742, Accuracy: 0.5516, Val Loss: 3.0845, Val Accuracy: 0.5860\n",
      "Epoch 12/100, Loss: 2.8981, Accuracy: 0.5868, Val Loss: 2.9168, Val Accuracy: 0.6157\n",
      "Epoch 13/100, Loss: 2.7367, Accuracy: 0.6148, Val Loss: 2.7636, Val Accuracy: 0.6406\n",
      "Epoch 14/100, Loss: 2.5886, Accuracy: 0.6403, Val Loss: 2.6236, Val Accuracy: 0.6646\n",
      "Epoch 15/100, Loss: 2.4525, Accuracy: 0.6595, Val Loss: 2.4952, Val Accuracy: 0.6818\n",
      "Epoch 16/100, Loss: 2.3271, Accuracy: 0.6780, Val Loss: 2.3774, Val Accuracy: 0.7041\n",
      "Epoch 17/100, Loss: 2.2114, Accuracy: 0.6981, Val Loss: 2.2690, Val Accuracy: 0.7187\n",
      "Epoch 18/100, Loss: 2.1042, Accuracy: 0.7092, Val Loss: 2.1690, Val Accuracy: 0.7273\n",
      "Epoch 19/100, Loss: 2.0046, Accuracy: 0.7192, Val Loss: 2.0764, Val Accuracy: 0.7400\n",
      "Epoch 20/100, Loss: 1.9119, Accuracy: 0.7320, Val Loss: 1.9905, Val Accuracy: 0.7538\n",
      "Epoch 21/100, Loss: 1.8253, Accuracy: 0.7449, Val Loss: 1.9107, Val Accuracy: 0.7661\n",
      "Epoch 22/100, Loss: 1.7444, Accuracy: 0.7563, Val Loss: 1.8366, Val Accuracy: 0.7764\n",
      "Epoch 23/100, Loss: 1.6687, Accuracy: 0.7661, Val Loss: 1.7677, Val Accuracy: 0.7860\n",
      "Epoch 24/100, Loss: 1.5978, Accuracy: 0.7752, Val Loss: 1.7034, Val Accuracy: 0.7940\n",
      "Epoch 25/100, Loss: 1.5311, Accuracy: 0.7840, Val Loss: 1.6432, Val Accuracy: 0.8042\n",
      "Epoch 26/100, Loss: 1.4682, Accuracy: 0.7959, Val Loss: 1.5867, Val Accuracy: 0.8129\n",
      "Epoch 27/100, Loss: 1.4089, Accuracy: 0.8054, Val Loss: 1.5335, Val Accuracy: 0.8210\n",
      "Epoch 28/100, Loss: 1.3526, Accuracy: 0.8150, Val Loss: 1.4833, Val Accuracy: 0.8304\n",
      "Epoch 29/100, Loss: 1.2993, Accuracy: 0.8240, Val Loss: 1.4360, Val Accuracy: 0.8379\n",
      "Epoch 30/100, Loss: 1.2487, Accuracy: 0.8328, Val Loss: 1.3913, Val Accuracy: 0.8446\n",
      "Epoch 31/100, Loss: 1.2006, Accuracy: 0.8396, Val Loss: 1.3489, Val Accuracy: 0.8496\n",
      "Epoch 32/100, Loss: 1.1548, Accuracy: 0.8463, Val Loss: 1.3088, Val Accuracy: 0.8557\n",
      "Epoch 33/100, Loss: 1.1113, Accuracy: 0.8518, Val Loss: 1.2708, Val Accuracy: 0.8604\n",
      "Epoch 34/100, Loss: 1.0698, Accuracy: 0.8571, Val Loss: 1.2348, Val Accuracy: 0.8649\n",
      "Epoch 35/100, Loss: 1.0302, Accuracy: 0.8627, Val Loss: 1.2005, Val Accuracy: 0.8702\n",
      "Epoch 36/100, Loss: 0.9925, Accuracy: 0.8688, Val Loss: 1.1680, Val Accuracy: 0.8756\n",
      "Epoch 37/100, Loss: 0.9564, Accuracy: 0.8736, Val Loss: 1.1370, Val Accuracy: 0.8802\n",
      "Epoch 38/100, Loss: 0.9218, Accuracy: 0.8780, Val Loss: 1.1076, Val Accuracy: 0.8847\n",
      "Epoch 39/100, Loss: 0.8888, Accuracy: 0.8827, Val Loss: 1.0795, Val Accuracy: 0.8892\n",
      "Epoch 40/100, Loss: 0.8571, Accuracy: 0.8879, Val Loss: 1.0528, Val Accuracy: 0.8938\n",
      "Epoch 41/100, Loss: 0.8268, Accuracy: 0.8918, Val Loss: 1.0273, Val Accuracy: 0.8976\n",
      "Epoch 42/100, Loss: 0.7976, Accuracy: 0.8957, Val Loss: 1.0030, Val Accuracy: 0.9006\n",
      "Epoch 43/100, Loss: 0.7697, Accuracy: 0.8991, Val Loss: 0.9799, Val Accuracy: 0.9040\n",
      "Epoch 44/100, Loss: 0.7429, Accuracy: 0.9030, Val Loss: 0.9578, Val Accuracy: 0.9078\n",
      "Epoch 45/100, Loss: 0.7171, Accuracy: 0.9067, Val Loss: 0.9368, Val Accuracy: 0.9121\n",
      "Epoch 46/100, Loss: 0.6924, Accuracy: 0.9105, Val Loss: 0.9167, Val Accuracy: 0.9161\n",
      "Epoch 47/100, Loss: 0.6686, Accuracy: 0.9141, Val Loss: 0.8976, Val Accuracy: 0.9191\n",
      "Epoch 48/100, Loss: 0.6456, Accuracy: 0.9179, Val Loss: 0.8793, Val Accuracy: 0.9231\n",
      "Epoch 49/100, Loss: 0.6235, Accuracy: 0.9213, Val Loss: 0.8618, Val Accuracy: 0.9262\n",
      "Epoch 50/100, Loss: 0.6022, Accuracy: 0.9240, Val Loss: 0.8451, Val Accuracy: 0.9285\n",
      "Epoch 51/100, Loss: 0.5817, Accuracy: 0.9264, Val Loss: 0.8291, Val Accuracy: 0.9317\n",
      "Epoch 52/100, Loss: 0.5619, Accuracy: 0.9289, Val Loss: 0.8137, Val Accuracy: 0.9347\n",
      "Epoch 53/100, Loss: 0.5428, Accuracy: 0.9314, Val Loss: 0.7991, Val Accuracy: 0.9371\n",
      "Epoch 54/100, Loss: 0.5244, Accuracy: 0.9339, Val Loss: 0.7851, Val Accuracy: 0.9395\n",
      "Epoch 55/100, Loss: 0.5065, Accuracy: 0.9366, Val Loss: 0.7717, Val Accuracy: 0.9419\n",
      "Epoch 56/100, Loss: 0.4893, Accuracy: 0.9391, Val Loss: 0.7589, Val Accuracy: 0.9454\n",
      "Epoch 57/100, Loss: 0.4727, Accuracy: 0.9415, Val Loss: 0.7467, Val Accuracy: 0.9472\n",
      "Epoch 58/100, Loss: 0.4566, Accuracy: 0.9440, Val Loss: 0.7350, Val Accuracy: 0.9491\n",
      "Epoch 59/100, Loss: 0.4410, Accuracy: 0.9460, Val Loss: 0.7238, Val Accuracy: 0.9529\n",
      "Epoch 60/100, Loss: 0.4260, Accuracy: 0.9483, Val Loss: 0.7132, Val Accuracy: 0.9551\n",
      "Epoch 61/100, Loss: 0.4114, Accuracy: 0.9501, Val Loss: 0.7030, Val Accuracy: 0.9574\n",
      "Epoch 62/100, Loss: 0.3973, Accuracy: 0.9525, Val Loss: 0.6933, Val Accuracy: 0.9590\n",
      "Epoch 63/100, Loss: 0.3836, Accuracy: 0.9545, Val Loss: 0.6840, Val Accuracy: 0.9600\n",
      "Epoch 64/100, Loss: 0.3703, Accuracy: 0.9563, Val Loss: 0.6750, Val Accuracy: 0.9614\n",
      "Epoch 65/100, Loss: 0.3574, Accuracy: 0.9579, Val Loss: 0.6664, Val Accuracy: 0.9632\n",
      "Epoch 66/100, Loss: 0.3448, Accuracy: 0.9597, Val Loss: 0.6581, Val Accuracy: 0.9639\n",
      "Epoch 67/100, Loss: 0.3326, Accuracy: 0.9614, Val Loss: 0.6502, Val Accuracy: 0.9657\n",
      "Epoch 68/100, Loss: 0.3209, Accuracy: 0.9628, Val Loss: 0.6428, Val Accuracy: 0.9663\n",
      "Epoch 69/100, Loss: 0.3096, Accuracy: 0.9648, Val Loss: 0.6358, Val Accuracy: 0.9668\n",
      "Epoch 70/100, Loss: 0.2988, Accuracy: 0.9664, Val Loss: 0.6292, Val Accuracy: 0.9678\n",
      "Epoch 71/100, Loss: 0.2884, Accuracy: 0.9680, Val Loss: 0.6229, Val Accuracy: 0.9687\n",
      "Epoch 72/100, Loss: 0.2783, Accuracy: 0.9696, Val Loss: 0.6169, Val Accuracy: 0.9698\n",
      "Epoch 73/100, Loss: 0.2686, Accuracy: 0.9709, Val Loss: 0.6113, Val Accuracy: 0.9707\n",
      "Epoch 74/100, Loss: 0.2592, Accuracy: 0.9727, Val Loss: 0.6059, Val Accuracy: 0.9720\n",
      "Epoch 75/100, Loss: 0.2502, Accuracy: 0.9743, Val Loss: 0.6008, Val Accuracy: 0.9727\n",
      "Epoch 76/100, Loss: 0.2414, Accuracy: 0.9757, Val Loss: 0.5960, Val Accuracy: 0.9734\n",
      "Epoch 77/100, Loss: 0.2329, Accuracy: 0.9771, Val Loss: 0.5914, Val Accuracy: 0.9740\n",
      "Epoch 78/100, Loss: 0.2247, Accuracy: 0.9786, Val Loss: 0.5870, Val Accuracy: 0.9748\n",
      "Epoch 79/100, Loss: 0.2168, Accuracy: 0.9798, Val Loss: 0.5829, Val Accuracy: 0.9753\n",
      "Epoch 80/100, Loss: 0.2092, Accuracy: 0.9812, Val Loss: 0.5789, Val Accuracy: 0.9760\n",
      "Epoch 81/100, Loss: 0.2018, Accuracy: 0.9825, Val Loss: 0.5752, Val Accuracy: 0.9768\n",
      "Epoch 82/100, Loss: 0.1946, Accuracy: 0.9837, Val Loss: 0.5716, Val Accuracy: 0.9775\n",
      "Epoch 83/100, Loss: 0.1877, Accuracy: 0.9851, Val Loss: 0.5682, Val Accuracy: 0.9785\n",
      "Epoch 84/100, Loss: 0.1811, Accuracy: 0.9865, Val Loss: 0.5650, Val Accuracy: 0.9795\n",
      "Epoch 85/100, Loss: 0.1746, Accuracy: 0.9877, Val Loss: 0.5619, Val Accuracy: 0.9801\n",
      "Epoch 86/100, Loss: 0.1684, Accuracy: 0.9888, Val Loss: 0.5589, Val Accuracy: 0.9808\n",
      "Epoch 87/100, Loss: 0.1624, Accuracy: 0.9898, Val Loss: 0.5562, Val Accuracy: 0.9816\n",
      "Epoch 88/100, Loss: 0.1566, Accuracy: 0.9909, Val Loss: 0.5535, Val Accuracy: 0.9822\n",
      "Epoch 89/100, Loss: 0.1510, Accuracy: 0.9921, Val Loss: 0.5511, Val Accuracy: 0.9831\n",
      "Epoch 90/100, Loss: 0.1456, Accuracy: 0.9930, Val Loss: 0.5485, Val Accuracy: 0.9837\n",
      "Epoch 91/100, Loss: 0.1403, Accuracy: 0.9938, Val Loss: 0.5462, Val Accuracy: 0.9842\n",
      "Epoch 92/100, Loss: 0.1353, Accuracy: 0.9946, Val Loss: 0.5440, Val Accuracy: 0.9850\n",
      "Epoch 93/100, Loss: 0.1304, Accuracy: 0.9952, Val Loss: 0.5419, Val Accuracy: 0.9854\n",
      "Epoch 94/100, Loss: 0.1257, Accuracy: 0.9959, Val Loss: 0.5399, Val Accuracy: 0.9867\n",
      "Epoch 95/100, Loss: 0.1212, Accuracy: 0.9968, Val Loss: 0.5379, Val Accuracy: 0.9872\n",
      "Epoch 96/100, Loss: 0.1169, Accuracy: 0.9973, Val Loss: 0.5361, Val Accuracy: 0.9875\n",
      "Epoch 97/100, Loss: 0.1127, Accuracy: 0.9978, Val Loss: 0.5344, Val Accuracy: 0.9878\n",
      "Epoch 98/100, Loss: 0.1086, Accuracy: 0.9982, Val Loss: 0.5327, Val Accuracy: 0.9883\n",
      "Epoch 99/100, Loss: 0.1047, Accuracy: 0.9986, Val Loss: 0.5311, Val Accuracy: 0.9888\n",
      "Epoch 100/100, Loss: 0.1010, Accuracy: 0.9989, Val Loss: 0.5295, Val Accuracy: 0.9891\n"
     ]
    },
    {
     "data": {
      "image/png": "[encoded data removed]",
      "text/plain": [
       "<Figure size 1400x600 with 2 Axes>"
      ]
     },
     "metadata": {},
     "output_type": "display_data"
    }
   ],
   "source": [
    "# Configuración\n",
    "device = torch.device('cuda' if torch.cuda.is_available() else 'cpu')\n",
    "hidden_dim = 128\n",
    "epochs = 100\n",
    "batch_size = 64\n",
    "\n",
    "encoder = Encoder(len(word2idx_inputs), embedding_dim, hidden_dim, input_embeddings).to(device)\n",
    "decoder = Decoder(len(word2idx_outputs), embedding_dim, hidden_dim, output_embeddings).to(device)\n",
    "criterion = nn.CrossEntropyLoss(ignore_index=word2idx_outputs['<PAD>'])\n",
    "optimizer = torch.optim.Adam(list(encoder.parameters()) + list(decoder.parameters()), lr=0.0001)\n",
    "\n",
    "# Separar datos en entrenamiento y validación\n",
    "encoder_input_train, encoder_input_val, decoder_input_train, decoder_input_val, decoder_target_train, decoder_target_val = train_test_split(\n",
    "    encoder_input_sequences, decoder_input_sequences, decoder_targets, test_size=0.2, random_state=42\n",
    ")\n",
    "\n",
    "# Función para calcular accuracy\n",
    "def calculate_accuracy(outputs, targets):\n",
    "    pred = torch.argmax(outputs, dim=-1)\n",
    "    mask = targets != word2idx_outputs['<PAD>']\n",
    "    correct = (pred == targets) & mask\n",
    "    accuracy = correct.sum().item() / mask.sum().item()\n",
    "    return accuracy\n",
    "\n",
    "# Inicialización de listas para guardar métricas\n",
    "train_losses = []\n",
    "val_losses = []\n",
    "train_accuracies = []\n",
    "val_accuracies = []\n",
    "\n",
    "# Entrenamiento\n",
    "for epoch in range(epochs):\n",
    "    encoder.train()\n",
    "    decoder.train()\n",
    "    total_loss = 0\n",
    "    total_accuracy = 0\n",
    "\n",
    "    # Entrenamiento\n",
    "    for i in range(0, len(encoder_input_train), batch_size):\n",
    "        encoder_input_batch = torch.tensor(encoder_input_train[i:i + batch_size]).to(device)\n",
    "        decoder_input_batch = torch.tensor(decoder_input_train[i:i + batch_size]).to(device)\n",
    "        decoder_target_batch = torch.tensor(decoder_target_train[i:i + batch_size]).to(device)\n",
    "\n",
    "        optimizer.zero_grad()\n",
    "        h, c = encoder(encoder_input_batch)\n",
    "        outputs, _, _ = decoder(decoder_input_batch, h, c)\n",
    "\n",
    "        loss = criterion(outputs.view(-1, outputs.size(-1)), decoder_target_batch.view(-1).long())\n",
    "        loss.backward()\n",
    "        optimizer.step()\n",
    "\n",
    "        total_loss += loss.item()\n",
    "        total_accuracy += calculate_accuracy(outputs, decoder_target_batch)\n",
    "\n",
    "    avg_train_loss = total_loss / (len(encoder_input_train) // batch_size)\n",
    "    avg_train_accuracy = total_accuracy / (len(encoder_input_train) // batch_size)\n",
    "\n",
    "    # Validación\n",
    "    encoder.eval()\n",
    "    decoder.eval()\n",
    "    val_loss = 0\n",
    "    val_accuracy = 0\n",
    "    with torch.no_grad():\n",
    "        for i in range(0, len(encoder_input_val), batch_size):\n",
    "            encoder_input_batch = torch.tensor(encoder_input_val[i:i + batch_size]).to(device)\n",
    "            decoder_input_batch = torch.tensor(decoder_input_val[i:i + batch_size]).to(device)\n",
    "            decoder_target_batch = torch.tensor(decoder_target_val[i:i + batch_size]).to(device)\n",
    "\n",
    "            h, c = encoder(encoder_input_batch)\n",
    "            outputs, _, _ = decoder(decoder_input_batch, h, c)\n",
    "\n",
    "            val_loss += criterion(outputs.view(-1, outputs.size(-1)), decoder_target_batch.view(-1).long()).item()\n",
    "            val_accuracy += calculate_accuracy(outputs, decoder_target_batch)\n",
    "\n",
    "    avg_val_loss = val_loss / (len(encoder_input_val) // batch_size)\n",
    "    avg_val_accuracy = val_accuracy / (len(encoder_input_val) // batch_size)\n",
    "\n",
    "    # Almacenar métricas\n",
    "    train_losses.append(avg_train_loss)\n",
    "    val_losses.append(avg_val_loss)\n",
    "    train_accuracies.append(avg_train_accuracy)\n",
    "    val_accuracies.append(avg_val_accuracy)\n",
    "\n",
    "    print(f\"Epoch {epoch+1}/{epochs}, Loss: {avg_train_loss:.4f}, Accuracy: {avg_train_accuracy:.4f}, Val Loss: {avg_val_loss:.4f}, Val Accuracy: {avg_val_accuracy:.4f}\")\n",
    "\n",
    "# Gráficos de métricas\n",
    "plt.figure(figsize=(14, 6))\n",
    "\n",
    "# Gráfico de Loss\n",
    "plt.subplot(1, 2, 1)\n",
    "plt.plot(range(1, epochs + 1), train_losses, label='Train Loss', marker='o')\n",
    "plt.plot(range(1, epochs + 1), val_losses, label='Validation Loss', marker='o')\n",
    "plt.title('Loss vs. Epochs')\n",
    "plt.xlabel('Epochs')\n",
    "plt.ylabel('Loss')\n",
    "plt.grid(True)\n",
    "plt.legend()\n",
    "\n",
    "# Gráfico de Accuracy\n",
    "plt.subplot(1, 2, 2)\n",
    "plt.plot(range(1, epochs + 1), train_accuracies, label='Train Accuracy', marker='o')\n",
    "plt.plot(range(1, epochs + 1), val_accuracies, label='Validation Accuracy', marker='o')\n",
    "plt.title('Accuracy vs. Epochs')\n",
    "plt.xlabel('Epochs')\n",
    "plt.ylabel('Accuracy')\n",
    "plt.grid(True)\n",
    "plt.legend()\n",
    "\n",
    "plt.tight_layout()\n",
    "plt.show()"
   ]
  },
  {
   "cell_type": "markdown",
   "metadata": {},
   "source": [
    "Grardado del modelo:"
   ]
  },
  {
   "cell_type": "code",
   "execution_count": 76,
   "metadata": {},
   "outputs": [
    {
     "name": "stdout",
     "output_type": "stream",
     "text": [
      "Modelos guardados en encoder.pkl y decoder.pkl\n"
     ]
    }
   ],
   "source": [
    "# Guardar el modelo\n",
    "def save_model(encoder, decoder, encoder_filename='encoder.pkl', decoder_filename='decoder.pkl'):\n",
    "    torch.save(encoder.state_dict(), encoder_filename)\n",
    "    torch.save(decoder.state_dict(), decoder_filename)\n",
    "    print(f\"Modelos guardados en {encoder_filename} y {decoder_filename}\")\n",
    "\n",
    "# Al final del entrenamiento, guarda los modelos\n",
    "save_model(encoder, decoder)"
   ]
  },
  {
   "cell_type": "markdown",
   "metadata": {},
   "source": [
    "### 5 - Inferencia\n",
    "Experimentar el funcionamiento de su modelo. Recuerde que debe realizar la inferencia de los modelos por separado de encoder y decoder. Inferencia con Temperatura"
   ]
  },
  {
   "cell_type": "code",
   "execution_count": null,
   "metadata": {},
   "outputs": [
    {
     "name": "stdout",
     "output_type": "stream",
     "text": [
      "leningrad frm law center administration nikalna planning spend spend train clients 4 florida starting prancing video pepper something too too too too too too too too too too too\n"
     ]
    }
   ],
   "source": [
    "def temperature_sampling(logits, temperature=1.0):\n",
    "    \"\"\"\n",
    "    Ajusta las probabilidades usando temperature sampling.\n",
    "    logits: logits generados por el modelo (antes de aplicar softmax).\n",
    "    temperature: valor de temperatura para ajustar la aleatoriedad.\n",
    "    \"\"\"\n",
    "    logits = logits / temperature  # Ajustamos los logits con la temperatura\n",
    "    probabilities = F.softmax(logits, dim=-1)  # Convertimos a probabilidades\n",
    "    return probabilities\n",
    "\n",
    "def answer_me(sentence, encoder, decoder, temperature=1.0):\n",
    "    encoder.eval()\n",
    "    decoder.eval()\n",
    "    \n",
    "    with torch.no_grad():\n",
    "        # Convertimos la frase en secuencia de índices\n",
    "        seq = sentences_to_sequences([sentence], word2idx_inputs, max_input_len)\n",
    "        h, c = encoder(torch.tensor(seq).to(device))  # Codificación de la entrada\n",
    "        target_seq = torch.tensor([[word2idx_outputs['<START>']]]).to(device)  # Secuencia de inicio\n",
    "\n",
    "        decoded_sentence = []\n",
    "        \n",
    "        for _ in range(max_output_len):\n",
    "            output, h, c = decoder(target_seq, h, c)  # Decodificación\n",
    "            logits = output[0, -1]  # Obtenemos los logits de la última palabra generada\n",
    "            \n",
    "            # Aplicamos temperature sampling\n",
    "            probabilities = temperature_sampling(logits, temperature=temperature)\n",
    "            \n",
    "            # Seleccionamos la palabra aleatoria basada en las probabilidades ajustadas\n",
    "            word_idx = torch.multinomial(probabilities, 1).item()  # Selección aleatoria\n",
    "            \n",
    "            # Si encontramos el token de fin de secuencia, detenemos la generación\n",
    "            if word_idx == word2idx_outputs['<END>']:\n",
    "                break\n",
    "            \n",
    "            decoded_sentence.append(idx2word_outputs[word_idx])\n",
    "            target_seq = torch.tensor([[word_idx]]).to(device)  # Actualizamos la secuencia de entrada para el siguiente paso\n",
    "\n",
    "        return ' '.join(decoded_sentence)\n",
    "\n",
    "# Ejemplo de inferencia con temperatura\n",
    "print(answer_me(\"do you like pizza?\", encoder, decoder, temperature=1.5))\n"
   ]
  },
  {
   "cell_type": "markdown",
   "metadata": {},
   "source": [
    "### Resúmen:"
   ]
  },
  {
   "cell_type": "markdown",
   "metadata": {},
   "source": [
    "**Carga y preparación de datos:**\n",
    "\n",
    "1. Importación de un conjunto de librerías necesarias: os, gdown, json, re, numpy, Counter, y librerías de PyTorch (torch y nn).\n",
    "2. Descarga del archivo data_volunteers.json que contiene los datos del desafío.\n",
    "3. Luego se carga el archivo JSON y se limpia el texto de las conversaciones usando expresiones regulares para hacer las frases más uniformes (convertir palabras contraídas en su forma completa, eliminar caracteres no alfabéticos, etc.)."
   ]
  },
  {
   "cell_type": "markdown",
   "metadata": {},
   "source": [
    "**Preprocesamiento:**\n",
    "\n",
    "1. Construcción de los vocabularios de las oraciones de entrada y salida (utilizando las funciones build_vocab).\n",
    "2. Mapeado de cada palabra a un índice (palabras desconocidas son reemplazadas por un token <UNK>).\n",
    "3. Preparación las secuencias de entrada y salida, convirtiendo las oraciones en índices correspondientes, y se ajustan para tener un tamaño máximo predefinido (max_len)."
   ]
  },
  {
   "cell_type": "markdown",
   "metadata": {},
   "source": [
    "**Preparación de los embeddings:**\n",
    "\n",
    "1. Carga los embeddings preentrenados de GloVe (Global Vectors for Word Representation), que son vectores de palabras preentrenados con el propósito de mejorar la representación de las palabras en el modelo.\n",
    "2. Crga y asignación de cada palabra de los vocabularios respectivos (de entrada y salida)."
   ]
  },
  {
   "cell_type": "markdown",
   "metadata": {},
   "source": [
    "**Entrenamiento del modelo (Encoder-Decoder con LSTM):**\n",
    "\n",
    "1. Define la clase Encoder (para convertir la entrada en un vector de contexto) y Decoder (para generar la respuesta a partir de ese contexto).\n",
    "\n",
    "|Elemento| Objetivo                                                                                                                              |\n",
    "|--------|---------------------------------------------------------------------------------------------------------------------------------------|\n",
    "|Encoder | usa embeddings y LSTM para codificar la entrada.                                                                                      |\n",
    "|Decoder | usa embeddings y LSTM para generar la salida, y una capa Linear para predecir la probabilidad de la siguiente palabra en la secuencia.|\n",
    "\n",
    "2. Configura el dispositivo (GPU si está disponible) y se definen los hiperparámetros como el tamaño de la capa oculta y el número de épocas.\n",
    "3. El modelo es entrenado con CrossEntropyLoss y el optimizador Adam. Durante el entrenamiento, se calculan las métricas de pérdida (Loss) y precisión (Accuracy) tanto en los datos de entrenamiento como de validación."
   ]
  },
  {
   "cell_type": "markdown",
   "metadata": {},
   "source": [
    "**Inferencia (Generación de respuestas):**\n",
    "\n",
    "1. Después del entrenamiento, se define una función *answer_me* para generar respuestas a partir de entradas. Esta función toma una oración de entrada, la pasa por el Encoder y usa el Decoder para generar una secuencia de salida (respuesta). También se agrega Temperatura > 1 para agregar la aleatoriedad al resultado.\n",
    "2. Se utiliza un enfoque de decodificación paso a paso, donde en cada paso se predice una palabra y se usa esa predicción para predecir la siguiente."
   ]
  },
  {
   "cell_type": "markdown",
   "metadata": {},
   "source": [
    "**Aspectos importantes:**\n",
    "\n",
    "1. Durante el entrenamiento, las pérdidas y las precisiones de entrenamiento y validación se almacenan y se grafican al final.\n",
    "2. Los modelos entrenados (Encoder y Decoder) se guardan en archivos para poder ser reutilizados más tarde."
   ]
  },
  {
   "cell_type": "markdown",
   "metadata": {},
   "source": [
    "### Observaciones:\n",
    "\n",
    "Analizando las gráficas de pérdida se ve una convergencia a 0 por parte de *train* y a 0,5 por parte de *validation*, sin observar en esta última un aumento que indique sobreajuste.\n",
    "\n",
    "Por otro lado, analizando las curvas de accuracy de *train* y *validation* ambas convergen a 1, lo cual es muy buen resultado. No exixte una diferencia marcada entre las curvas ni se alejan demasiado con respecto al valor optimo, apoyando la idea de que no se genera ni sobreajuste ni subjasute.\n",
    "\n",
    "No necesariamente, esto es determinante de buen desempeño. Es posible, que el modelo haya aprendido haciendo hincapié en algunos términos del dataset, especialmente si las clases no están balanceadas."
   ]
  }
 ],
 "metadata": {
  "accelerator": "GPU",
  "colab": {
   "collapsed_sections": [],
   "provenance": []
  },
  "kernelspec": {
   "display_name": "Python 3",
   "language": "python",
   "name": "python3"
  },
  "language_info": {
   "codemirror_mode": {
    "name": "ipython",
    "version": 3
   },
   "file_extension": ".py",
   "mimetype": "text/x-python",
   "name": "python",
   "nbconvert_exporter": "python",
   "pygments_lexer": "ipython3",
   "version": "3.11.5"
  }
 },
 "nbformat": 4,
 "nbformat_minor": 0
}

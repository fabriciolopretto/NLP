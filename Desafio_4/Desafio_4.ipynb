{
 "cells": [
  {
   "cell_type": "markdown",
   "metadata": {
    "id": "pfa39F4lsLf3"
   },
   "source": [
    "<img src=\"https://github.com/hernancontigiani/ceia_memorias_especializacion/raw/master/Figures/logoFIUBA.jpg\" width=\"500\" align=\"center\">\n",
    "\n",
    "\n",
    "# Procesamiento de lenguaje natural\n",
    "## LSTM Bot QA"
   ]
  },
  {
   "cell_type": "markdown",
   "metadata": {
    "id": "ZqO0PRcFsPTe"
   },
   "source": [
    "### 1 - Preparación del entorno y carga de datos\n",
    "El objecto es utilizar datos disponibles del challenge ConvAI2 (Conversational Intelligence Challenge 2) de conversaciones en inglés. Se construirá un BOT para responder a preguntas del usuario (QA).\\\n",
    "[LINK](http://convai.io/data/)"
   ]
  },
  {
   "cell_type": "code",
   "execution_count": 26,
   "metadata": {},
   "outputs": [
    {
     "name": "stderr",
     "output_type": "stream",
     "text": [
      "\n",
      "[notice] A new release of pip is available: 24.1 -> 24.3.1\n",
      "[notice] To update, run: python.exe -m pip install --upgrade pip\n"
     ]
    }
   ],
   "source": [
    "# Instala librerías necesarias\n",
    "!pip install --upgrade --no-cache-dir gdown --quiet"
   ]
  },
  {
   "cell_type": "code",
   "execution_count": 27,
   "metadata": {},
   "outputs": [],
   "source": [
    "# Importa librerías necesarias\n",
    "import os\n",
    "import gdown\n",
    "import json\n",
    "import re\n",
    "import numpy as np\n",
    "import matplotlib.pyplot as plt\n",
    "from collections import Counter\n",
    "\n",
    "from sklearn.model_selection import train_test_split\n",
    "\n",
    "import torch\n",
    "import torch.nn as nn\n",
    "from torch.utils.data import Dataset, DataLoader\n",
    "import torch.nn.functional as F"
   ]
  },
  {
   "cell_type": "code",
   "execution_count": 28,
   "metadata": {},
   "outputs": [
    {
     "name": "stdout",
     "output_type": "stream",
     "text": [
      "Cantidad de filas procesadas: 9092\n"
     ]
    }
   ],
   "source": [
    "# Descargar el dataset\n",
    "if not os.path.exists('data_volunteers.json'):\n",
    "    url = 'https://drive.google.com/uc?id=1awUxYwImF84MIT5-jCaYAPe2QwSgS1hN&export=download'\n",
    "    output = 'data_volunteers.json'\n",
    "    gdown.download(url, output, quiet=False)\n",
    "\n",
    "# Cargar el dataset\n",
    "with open('data_volunteers.json') as f:\n",
    "    data = json.load(f)\n",
    "\n",
    "# Limpiar el texto\n",
    "def clean_text(txt):\n",
    "    txt = txt.lower()\n",
    "    txt = re.sub(r\"\\'d\", \" had\", txt)\n",
    "    txt = re.sub(r\"\\'s\", \" is\", txt)\n",
    "    txt = re.sub(r\"\\'m\", \" am\", txt)\n",
    "    txt = re.sub(r\"don't\", \"do not\", txt)\n",
    "    txt = re.sub(r'\\W+', ' ', txt)\n",
    "    return txt.strip()\n",
    "\n",
    "# Preparar los datos\n",
    "input_sentences = []\n",
    "output_sentences = []\n",
    "output_sentences_inputs = []\n",
    "max_len = 10\n",
    "\n",
    "for line in data:\n",
    "    for i in range(len(line['dialog']) - 1):\n",
    "        chat_in = clean_text(line['dialog'][i]['text'])\n",
    "        chat_out = clean_text(line['dialog'][i + 1]['text'])\n",
    "\n",
    "        if len(chat_in.split()) >= max_len or len(chat_out.split()) >= max_len:\n",
    "            continue\n",
    "\n",
    "        input_sentences.append(chat_in)\n",
    "        output_sentences.append(chat_out + ' ')\n",
    "        output_sentences_inputs.append(' ' + chat_out)\n",
    "\n",
    "print(f\"Cantidad de filas procesadas: {len(input_sentences)}\")"
   ]
  },
  {
   "cell_type": "markdown",
   "metadata": {},
   "source": [
    "### 2 - Preprocesamiento\n",
    "Realizar el preprocesamiento necesario para obtener:\n",
    "- word2idx_inputs, max_input_len\n",
    "- word2idx_outputs, max_out_len, num_words_output\n",
    "- encoder_input_sequences, decoder_output_sequences, decoder_targets\n",
    "\n",
    "Es decir, se realiza el preprocesamiento para generar los índices de palabras y las secuencias de entrada y salida."
   ]
  },
  {
   "cell_type": "code",
   "execution_count": 29,
   "metadata": {},
   "outputs": [],
   "source": [
    "# Construir vocabularios\n",
    "def build_vocab(sentences, max_vocab_size=8000):\n",
    "    word_counts = Counter(word for sentence in sentences for word in sentence.split())\n",
    "    vocab = ['<PAD>', '<START>', '<END>', '<UNK>'] + [word for word, _ in word_counts.most_common(max_vocab_size)]\n",
    "    word2idx = {word: idx for idx, word in enumerate(vocab)}\n",
    "    idx2word = {idx: word for word, idx in word2idx.items()}\n",
    "    return word2idx, idx2word\n",
    "\n",
    "word2idx_inputs, idx2word_inputs = build_vocab(input_sentences)\n",
    "word2idx_outputs, idx2word_outputs = build_vocab(output_sentences)\n",
    "\n",
    "max_input_len = max(len(s.split()) for s in input_sentences)\n",
    "max_output_len = max(len(s.split()) for s in output_sentences)\n",
    "\n",
    "# Convertir palabras a índices\n",
    "def sentences_to_sequences(sentences, word2idx, max_len):\n",
    "    sequences = []\n",
    "    for sentence in sentences:\n",
    "        seq = [word2idx.get(word, word2idx['<UNK>']) for word in sentence.split()]\n",
    "        seq = seq[:max_len] + [word2idx['<PAD>']] * (max_len - len(seq))\n",
    "        sequences.append(seq)\n",
    "    return np.array(sequences)\n",
    "\n",
    "encoder_input_sequences = sentences_to_sequences(input_sentences, word2idx_inputs, max_input_len)\n",
    "decoder_input_sequences = sentences_to_sequences(output_sentences_inputs, word2idx_outputs, max_output_len)\n",
    "decoder_targets = sentences_to_sequences(output_sentences, word2idx_outputs, max_output_len)"
   ]
  },
  {
   "cell_type": "markdown",
   "metadata": {},
   "source": [
    "### 3 - Preparar los embeddings\n",
    "Utilizar los embeddings de Glove o FastText para transformar los tokens de entrada en vectores.Para transformar las palabras en vectores, se implementará GloVe o FastText. En esta oportinuidad, se usará GloVe."
   ]
  },
  {
   "cell_type": "code",
   "execution_count": 30,
   "metadata": {},
   "outputs": [],
   "source": [
    "def load_glove_embeddings(glove_path, word2idx, embedding_dim=100):\n",
    "    embeddings = np.random.uniform(-0.01, 0.01, (len(word2idx), embedding_dim))\n",
    "    with open(glove_path, 'r', encoding='utf-8') as f:\n",
    "        for line in f:\n",
    "            parts = line.split()\n",
    "            word, vector = parts[0], np.array(parts[1:], dtype=np.float32)\n",
    "            if word in word2idx:\n",
    "                embeddings[word2idx[word]] = vector\n",
    "    return torch.tensor(embeddings, dtype=torch.float32)\n",
    "\n",
    "embedding_dim = 100\n",
    "embeddings_path = 'glove.6B.100d.txt'  # Hay que tener el archivo descargado\n",
    "input_embeddings = load_glove_embeddings(embeddings_path, word2idx_inputs, embedding_dim)\n",
    "output_embeddings = load_glove_embeddings(embeddings_path, word2idx_outputs, embedding_dim)"
   ]
  },
  {
   "cell_type": "markdown",
   "metadata": {},
   "source": [
    "### 4 - Entrenar el modelo\n",
    "Entrenar un modelo basado en el esquema encoder-decoder utilizando los datos generados en los puntos anteriores. Utilce como referencias los ejemplos vistos en clase. \n",
    "\n",
    "Construcción del modelo Encoder-Decoder con LSTM. El modelo de secuencia a secuencia basado en LSTM tendrá dos componentes:\n",
    "\n",
    "Encoder: Convertirá la entrada en un vector de contexto.\n",
    "\n",
    "Decoder: Generará las respuestas a partir del vector de contexto."
   ]
  },
  {
   "cell_type": "code",
   "execution_count": 31,
   "metadata": {},
   "outputs": [],
   "source": [
    "class Encoder(nn.Module):\n",
    "    def __init__(self, vocab_size, embedding_dim, hidden_dim, embeddings):\n",
    "        super(Encoder, self).__init__()\n",
    "        self.embedding = nn.Embedding.from_pretrained(embeddings)\n",
    "        self.lstm = nn.LSTM(embedding_dim, hidden_dim, batch_first=True)\n",
    "\n",
    "    def forward(self, x):\n",
    "        x = self.embedding(x)\n",
    "        _, (h, c) = self.lstm(x)\n",
    "        return h, c\n",
    "\n",
    "class Decoder(nn.Module):\n",
    "    def __init__(self, vocab_size, embedding_dim, hidden_dim, embeddings):\n",
    "        super(Decoder, self).__init__()\n",
    "        self.embedding = nn.Embedding.from_pretrained(embeddings)\n",
    "        self.lstm = nn.LSTM(embedding_dim, hidden_dim, batch_first=True)\n",
    "        self.fc = nn.Linear(hidden_dim, vocab_size)\n",
    "\n",
    "    def forward(self, x, h, c):\n",
    "        x = self.embedding(x)\n",
    "        x, (h, c) = self.lstm(x, (h, c))\n",
    "        x = self.fc(x)\n",
    "        return x, h, c\n"
   ]
  },
  {
   "cell_type": "markdown",
   "metadata": {},
   "source": [
    "Entrenamiento:"
   ]
  },
  {
   "cell_type": "code",
   "execution_count": 32,
   "metadata": {},
   "outputs": [
    {
     "name": "stdout",
     "output_type": "stream",
     "text": [
      "Epoch 1/30, Loss: 5.1052, Accuracy: 0.2089, Val Loss: 4.0309, Val Accuracy: 0.4170\n",
      "Epoch 2/30, Loss: 3.2476, Accuracy: 0.5097, Val Loss: 2.8527, Val Accuracy: 0.6309\n",
      "Epoch 3/30, Loss: 2.3339, Accuracy: 0.6754, Val Loss: 2.1998, Val Accuracy: 0.7412\n",
      "Epoch 4/30, Loss: 1.7842, Accuracy: 0.7549, Val Loss: 1.7989, Val Accuracy: 0.7938\n",
      "Epoch 5/30, Loss: 1.4227, Accuracy: 0.8005, Val Loss: 1.5313, Val Accuracy: 0.8361\n",
      "Epoch 6/30, Loss: 1.1661, Accuracy: 0.8418, Val Loss: 1.3396, Val Accuracy: 0.8693\n",
      "Epoch 7/30, Loss: 0.9711, Accuracy: 0.8687, Val Loss: 1.1947, Val Accuracy: 0.8909\n",
      "Epoch 8/30, Loss: 0.8170, Accuracy: 0.8899, Val Loss: 1.0830, Val Accuracy: 0.9100\n",
      "Epoch 9/30, Loss: 0.6923, Accuracy: 0.9096, Val Loss: 0.9967, Val Accuracy: 0.9237\n",
      "Epoch 10/30, Loss: 0.5898, Accuracy: 0.9253, Val Loss: 0.9289, Val Accuracy: 0.9367\n",
      "Epoch 11/30, Loss: 0.5036, Accuracy: 0.9378, Val Loss: 0.8748, Val Accuracy: 0.9447\n",
      "Epoch 12/30, Loss: 0.4302, Accuracy: 0.9481, Val Loss: 0.8314, Val Accuracy: 0.9515\n",
      "Epoch 13/30, Loss: 0.3672, Accuracy: 0.9576, Val Loss: 0.7961, Val Accuracy: 0.9570\n",
      "Epoch 14/30, Loss: 0.3127, Accuracy: 0.9661, Val Loss: 0.7672, Val Accuracy: 0.9628\n",
      "Epoch 15/30, Loss: 0.2656, Accuracy: 0.9743, Val Loss: 0.7433, Val Accuracy: 0.9674\n",
      "Epoch 16/30, Loss: 0.2248, Accuracy: 0.9829, Val Loss: 0.7234, Val Accuracy: 0.9724\n",
      "Epoch 17/30, Loss: 0.1896, Accuracy: 0.9901, Val Loss: 0.7068, Val Accuracy: 0.9755\n",
      "Epoch 18/30, Loss: 0.1594, Accuracy: 0.9954, Val Loss: 0.6930, Val Accuracy: 0.9784\n",
      "Epoch 19/30, Loss: 0.1339, Accuracy: 0.9988, Val Loss: 0.6817, Val Accuracy: 0.9811\n",
      "Epoch 20/30, Loss: 0.1130, Accuracy: 1.0009, Val Loss: 0.6727, Val Accuracy: 0.9829\n",
      "Epoch 21/30, Loss: 0.0959, Accuracy: 1.0023, Val Loss: 0.6654, Val Accuracy: 0.9835\n",
      "Epoch 22/30, Loss: 0.0822, Accuracy: 1.0033, Val Loss: 0.6596, Val Accuracy: 0.9837\n",
      "Epoch 23/30, Loss: 0.0713, Accuracy: 1.0037, Val Loss: 0.6549, Val Accuracy: 0.9848\n",
      "Epoch 24/30, Loss: 0.0626, Accuracy: 1.0040, Val Loss: 0.6510, Val Accuracy: 0.9854\n",
      "Epoch 25/30, Loss: 0.0555, Accuracy: 1.0044, Val Loss: 0.6478, Val Accuracy: 0.9860\n",
      "Epoch 26/30, Loss: 0.0498, Accuracy: 1.0047, Val Loss: 0.6451, Val Accuracy: 0.9864\n",
      "Epoch 27/30, Loss: 0.0450, Accuracy: 1.0049, Val Loss: 0.6426, Val Accuracy: 0.9868\n",
      "Epoch 28/30, Loss: 0.0411, Accuracy: 1.0049, Val Loss: 0.6407, Val Accuracy: 0.9866\n",
      "Epoch 29/30, Loss: 0.0380, Accuracy: 1.0051, Val Loss: 0.6379, Val Accuracy: 0.9867\n",
      "Epoch 30/30, Loss: 0.0350, Accuracy: 1.0052, Val Loss: 0.6366, Val Accuracy: 0.9869\n"
     ]
    },
    {
     "data": {
      "image/png": "[encoded data removed]",
      "text/plain": [
       "<Figure size 1400x600 with 2 Axes>"
      ]
     },
     "metadata": {},
     "output_type": "display_data"
    }
   ],
   "source": [
    "# Configuración\n",
    "device = torch.device('cuda' if torch.cuda.is_available() else 'cpu')\n",
    "hidden_dim = 128\n",
    "epochs = 30\n",
    "batch_size = 64\n",
    "\n",
    "encoder = Encoder(len(word2idx_inputs), embedding_dim, hidden_dim, input_embeddings).to(device)\n",
    "decoder = Decoder(len(word2idx_outputs), embedding_dim, hidden_dim, output_embeddings).to(device)\n",
    "criterion = nn.CrossEntropyLoss(ignore_index=word2idx_outputs['<PAD>'])\n",
    "optimizer = torch.optim.Adam(list(encoder.parameters()) + list(decoder.parameters()), lr=0.001)\n",
    "\n",
    "# Separar datos en entrenamiento y validación\n",
    "encoder_input_train, encoder_input_val, decoder_input_train, decoder_input_val, decoder_target_train, decoder_target_val = train_test_split(\n",
    "    encoder_input_sequences, decoder_input_sequences, decoder_targets, test_size=0.2, random_state=42\n",
    ")\n",
    "\n",
    "# Función para calcular accuracy\n",
    "def calculate_accuracy(outputs, targets):\n",
    "    pred = torch.argmax(outputs, dim=-1)\n",
    "    mask = targets != word2idx_outputs['<PAD>']\n",
    "    correct = (pred == targets) & mask\n",
    "    accuracy = correct.sum().item() / mask.sum().item()\n",
    "    return accuracy\n",
    "\n",
    "# Inicialización de listas para guardar métricas\n",
    "train_losses = []\n",
    "val_losses = []\n",
    "train_accuracies = []\n",
    "val_accuracies = []\n",
    "\n",
    "# Entrenamiento\n",
    "for epoch in range(epochs):\n",
    "    encoder.train()\n",
    "    decoder.train()\n",
    "    total_loss = 0\n",
    "    total_accuracy = 0\n",
    "\n",
    "    # Entrenamiento\n",
    "    for i in range(0, len(encoder_input_train), batch_size):\n",
    "        encoder_input_batch = torch.tensor(encoder_input_train[i:i + batch_size]).to(device)\n",
    "        decoder_input_batch = torch.tensor(decoder_input_train[i:i + batch_size]).to(device)\n",
    "        decoder_target_batch = torch.tensor(decoder_target_train[i:i + batch_size]).to(device)\n",
    "\n",
    "        optimizer.zero_grad()\n",
    "        h, c = encoder(encoder_input_batch)\n",
    "        outputs, _, _ = decoder(decoder_input_batch, h, c)\n",
    "\n",
    "        loss = criterion(outputs.view(-1, outputs.size(-1)), decoder_target_batch.view(-1).long())\n",
    "        loss.backward()\n",
    "        optimizer.step()\n",
    "\n",
    "        total_loss += loss.item()\n",
    "        total_accuracy += calculate_accuracy(outputs, decoder_target_batch)\n",
    "\n",
    "    avg_train_loss = total_loss / (len(encoder_input_train) // batch_size)\n",
    "    avg_train_accuracy = total_accuracy / (len(encoder_input_train) // batch_size)\n",
    "\n",
    "    # Validación\n",
    "    encoder.eval()\n",
    "    decoder.eval()\n",
    "    val_loss = 0\n",
    "    val_accuracy = 0\n",
    "    with torch.no_grad():\n",
    "        for i in range(0, len(encoder_input_val), batch_size):\n",
    "            encoder_input_batch = torch.tensor(encoder_input_val[i:i + batch_size]).to(device)\n",
    "            decoder_input_batch = torch.tensor(decoder_input_val[i:i + batch_size]).to(device)\n",
    "            decoder_target_batch = torch.tensor(decoder_target_val[i:i + batch_size]).to(device)\n",
    "\n",
    "            h, c = encoder(encoder_input_batch)\n",
    "            outputs, _, _ = decoder(decoder_input_batch, h, c)\n",
    "\n",
    "            val_loss += criterion(outputs.view(-1, outputs.size(-1)), decoder_target_batch.view(-1).long()).item()\n",
    "            val_accuracy += calculate_accuracy(outputs, decoder_target_batch)\n",
    "\n",
    "    avg_val_loss = val_loss / (len(encoder_input_val) // batch_size)\n",
    "    avg_val_accuracy = val_accuracy / (len(encoder_input_val) // batch_size)\n",
    "\n",
    "    # Almacenar métricas\n",
    "    train_losses.append(avg_train_loss)\n",
    "    val_losses.append(avg_val_loss)\n",
    "    train_accuracies.append(avg_train_accuracy)\n",
    "    val_accuracies.append(avg_val_accuracy)\n",
    "\n",
    "    print(f\"Epoch {epoch+1}/{epochs}, Loss: {avg_train_loss:.4f}, Accuracy: {avg_train_accuracy:.4f}, Val Loss: {avg_val_loss:.4f}, Val Accuracy: {avg_val_accuracy:.4f}\")\n",
    "\n",
    "# Gráficos de métricas\n",
    "plt.figure(figsize=(14, 6))\n",
    "\n",
    "# Gráfico de Loss\n",
    "plt.subplot(1, 2, 1)\n",
    "plt.plot(range(1, epochs + 1), train_losses, label='Train Loss', marker='o')\n",
    "plt.plot(range(1, epochs + 1), val_losses, label='Validation Loss', marker='o')\n",
    "plt.title('Loss vs. Epochs')\n",
    "plt.xlabel('Epochs')\n",
    "plt.ylabel('Loss')\n",
    "plt.grid(True)\n",
    "plt.legend()\n",
    "\n",
    "# Gráfico de Accuracy\n",
    "plt.subplot(1, 2, 2)\n",
    "plt.plot(range(1, epochs + 1), train_accuracies, label='Train Accuracy', marker='o')\n",
    "plt.plot(range(1, epochs + 1), val_accuracies, label='Validation Accuracy', marker='o')\n",
    "plt.title('Accuracy vs. Epochs')\n",
    "plt.xlabel('Epochs')\n",
    "plt.ylabel('Accuracy')\n",
    "plt.grid(True)\n",
    "plt.legend()\n",
    "\n",
    "plt.tight_layout()\n",
    "plt.show()"
   ]
  },
  {
   "cell_type": "markdown",
   "metadata": {},
   "source": [
    "Grardado del modelo:"
   ]
  },
  {
   "cell_type": "code",
   "execution_count": 33,
   "metadata": {},
   "outputs": [
    {
     "name": "stdout",
     "output_type": "stream",
     "text": [
      "Modelos guardados en encoder.pkl y decoder.pkl\n"
     ]
    }
   ],
   "source": [
    "# Guardar el modelo\n",
    "def save_model(encoder, decoder, encoder_filename='encoder.pkl', decoder_filename='decoder.pkl'):\n",
    "    torch.save(encoder.state_dict(), encoder_filename)\n",
    "    torch.save(decoder.state_dict(), decoder_filename)\n",
    "    print(f\"Modelos guardados en {encoder_filename} y {decoder_filename}\")\n",
    "\n",
    "# Al final del entrenamiento, guarda los modelos\n",
    "save_model(encoder, decoder)"
   ]
  },
  {
   "cell_type": "markdown",
   "metadata": {},
   "source": [
    "### 5 - Inferencia\n",
    "Experimentar el funcionamiento de su modelo. Recuerde que debe realizar la inferencia de los modelos por separado de encoder y decoder. Inferencia con Temperatura"
   ]
  },
  {
   "cell_type": "code",
   "execution_count": 36,
   "metadata": {},
   "outputs": [
    {
     "name": "stdout",
     "output_type": "stream",
     "text": [
      "bbye disease hungry lots 5 hubby thinking find kinds\n"
     ]
    }
   ],
   "source": [
    "def temperature_sampling(logits, temperature=1.0):\n",
    "    \"\"\"\n",
    "    Ajusta las probabilidades usando temperature sampling.\n",
    "    logits: logits generados por el modelo (antes de aplicar softmax).\n",
    "    temperature: valor de temperatura para ajustar la aleatoriedad.\n",
    "    \"\"\"\n",
    "    logits = logits / temperature  # Ajusta los logits con la temperatura\n",
    "    probabilities = F.softmax(logits, dim=-1)  # Convierte a probabilidades\n",
    "    return probabilities\n",
    "\n",
    "def answer_me(sentence, encoder, decoder, temperature=1.0):\n",
    "    encoder.eval()\n",
    "    decoder.eval()\n",
    "    \n",
    "    with torch.no_grad():\n",
    "        # Convertimos la frase en secuencia de índices\n",
    "        seq = sentences_to_sequences([sentence], word2idx_inputs, max_input_len)\n",
    "        h, c = encoder(torch.tensor(seq).to(device))  # Codificación de la entrada\n",
    "        target_seq = torch.tensor([[word2idx_outputs['<START>']]]).to(device)  # Secuencia de inicio\n",
    "\n",
    "        decoded_sentence = []\n",
    "        \n",
    "        for _ in range(max_output_len):\n",
    "            output, h, c = decoder(target_seq, h, c)  # Decodificación\n",
    "            logits = output[0, -1]  # Obtenemos los logits de la última palabra generada\n",
    "            \n",
    "            # Aplicamos temperature sampling\n",
    "            probabilities = temperature_sampling(logits, temperature=temperature)\n",
    "            \n",
    "            # Seleccionamos la palabra aleatoria basada en las probabilidades ajustadas\n",
    "            word_idx = torch.multinomial(probabilities, 1).item()  # Selección aleatoria\n",
    "            \n",
    "            # Si encontramos el token de fin de secuencia, detenemos la generación\n",
    "            if word_idx == word2idx_outputs['<END>']:\n",
    "                break\n",
    "            \n",
    "            decoded_sentence.append(idx2word_outputs[word_idx])\n",
    "            target_seq = torch.tensor([[word_idx]]).to(device)  # Actualizamos la secuencia de entrada para el siguiente paso\n",
    "\n",
    "        return ' '.join(decoded_sentence)\n",
    "\n",
    "# Ejemplo de inferencia con temperatura\n",
    "print(answer_me(\"Do you read?\", encoder, decoder, temperature=1.5))\n"
   ]
  },
  {
   "cell_type": "markdown",
   "metadata": {},
   "source": [
    "### Resúmen:"
   ]
  },
  {
   "cell_type": "markdown",
   "metadata": {},
   "source": [
    "**Carga y preparación de datos:**\n",
    "\n",
    "1. Importación de un conjunto de librerías necesarias: os, gdown, json, re, numpy, Counter, y librerías de PyTorch (torch y nn).\n",
    "2. Descarga del archivo data_volunteers.json que contiene los datos del desafío.\n",
    "3. Luego se carga el archivo JSON y se limpia el texto de las conversaciones usando expresiones regulares para hacer las frases más uniformes (convertir palabras contraídas en su forma completa, eliminar caracteres no alfabéticos, etc.)."
   ]
  },
  {
   "cell_type": "markdown",
   "metadata": {},
   "source": [
    "**Preprocesamiento:**\n",
    "\n",
    "1. Construcción de los vocabularios de las oraciones de entrada y salida (utilizando las funciones build_vocab).\n",
    "2. Mapeado de cada palabra a un índice (palabras desconocidas son reemplazadas por un token <UNK>).\n",
    "3. Preparación las secuencias de entrada y salida, convirtiendo las oraciones en índices correspondientes, y se ajustan para tener un tamaño máximo predefinido (max_len)."
   ]
  },
  {
   "cell_type": "markdown",
   "metadata": {},
   "source": [
    "**Preparación de los embeddings:**\n",
    "\n",
    "1. Carga los embeddings preentrenados de GloVe (Global Vectors for Word Representation), que son vectores de palabras preentrenados con el propósito de mejorar la representación de las palabras en el modelo.\n",
    "2. Crga y asignación de cada palabra de los vocabularios respectivos (de entrada y salida)."
   ]
  },
  {
   "cell_type": "markdown",
   "metadata": {},
   "source": [
    "**Entrenamiento del modelo (Encoder-Decoder con LSTM):**\n",
    "\n",
    "1. Define la clase Encoder (para convertir la entrada en un vector de contexto) y Decoder (para generar la respuesta a partir de ese contexto).\n",
    "\n",
    "|Elemento| Objetivo                                                                                                                              |\n",
    "|--------|---------------------------------------------------------------------------------------------------------------------------------------|\n",
    "|Encoder | usa embeddings y LSTM para codificar la entrada.                                                                                      |\n",
    "|Decoder | usa embeddings y LSTM para generar la salida, y una capa Linear para predecir la probabilidad de la siguiente palabra en la secuencia.|\n",
    "\n",
    "2. Configura el dispositivo (GPU si está disponible) y se definen los hiperparámetros como el tamaño de la capa oculta y el número de épocas.\n",
    "3. El modelo es entrenado con CrossEntropyLoss y el optimizador Adam. Durante el entrenamiento, se calculan las métricas de pérdida (Loss) y precisión (Accuracy) tanto en los datos de entrenamiento como de validación."
   ]
  },
  {
   "cell_type": "markdown",
   "metadata": {},
   "source": [
    "**Inferencia (Generación de respuestas):**\n",
    "\n",
    "1. Después del entrenamiento, se define una función *answer_me* para generar respuestas a partir de entradas. Esta función toma una oración de entrada, la pasa por el Encoder y usa el Decoder para generar una secuencia de salida (respuesta). También se agrega Temperatura > 1 para agregar la aleatoriedad al resultado.\n",
    "2. Se utiliza un enfoque de decodificación paso a paso, donde en cada paso se predice una palabra y se usa esa predicción para predecir la siguiente."
   ]
  },
  {
   "cell_type": "markdown",
   "metadata": {},
   "source": [
    "**Aspectos importantes:**\n",
    "\n",
    "1. Durante el entrenamiento, las pérdidas y las precisiones de entrenamiento y validación se almacenan y se grafican al final.\n",
    "2. Los modelos entrenados (Encoder y Decoder) se guardan en archivos para poder ser reutilizados más tarde."
   ]
  },
  {
   "cell_type": "markdown",
   "metadata": {},
   "source": [
    "### Observaciones:\n",
    "\n",
    "Analizando las gráficas de pérdida se ve una convergencia a 0 por parte de *train* y a 0,7 por parte de *validation*, sin observar en esta última un aumento que indique sobreajuste.\n",
    "\n",
    "Por otro lado, analizando las curvas de accuracy de *train* y *validation* ambas convergen a 1, lo cual es muy buen resultado. No exixte una diferencia marcada entre las curvas ni se alejan demasiado con respecto al valor optimo, apoyando la idea de que no se genera ni sobreajuste ni subjasute.\n",
    "\n",
    "No necesariamente, esto es determinante de buen desempeño. Es posible, que el modelo haya aprendido haciendo hincapié en algunos términos del dataset, especialmente si las clases no están balanceadas."
   ]
  }
 ],
 "metadata": {
  "accelerator": "GPU",
  "colab": {
   "collapsed_sections": [],
   "provenance": []
  },
  "kernelspec": {
   "display_name": "Python 3",
   "language": "python",
   "name": "python3"
  },
  "language_info": {
   "codemirror_mode": {
    "name": "ipython",
    "version": 3
   },
   "file_extension": ".py",
   "mimetype": "text/x-python",
   "name": "python",
   "nbconvert_exporter": "python",
   "pygments_lexer": "ipython3",
   "version": "3.11.5"
  }
 },
 "nbformat": 4,
 "nbformat_minor": 0
}
